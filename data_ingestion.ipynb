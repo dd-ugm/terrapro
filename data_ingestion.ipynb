{
 "cells": [
  {
   "cell_type": "code",
   "execution_count": 25,
   "metadata": {},
   "outputs": [],
   "source": [
    "from opensky_api import OpenSkyApi\n",
    "import pandas as pd\n",
    "import datetime\n",
    "import json"
   ]
  },
  {
   "cell_type": "code",
   "execution_count": null,
   "metadata": {},
   "outputs": [],
   "source": [
    "api = OpenSkyApi()\n",
    "\n",
    "icao = \"40666c\"         # example\n",
    "begin = datetime.datetime(2025,3,11,5,58).timestamp()\n",
    "end = datetime.datetime(2025,3,11,8,36).timestamp()\n",
    "\n",
    "s = api.get_flights_by_aircraft(icao, begin, end)\n",
    "print(s)"
   ]
  },
  {
   "cell_type": "code",
   "execution_count": null,
   "metadata": {},
   "outputs": [],
   "source": [
    "data = json.load(open(\"data/trace_full.json\"))\n",
    "trace = data[\"trace\"]\n",
    "df = pd.DataFrame(trace)\n",
    "df.columns = [ \"seconds after timestamp\",\n",
    "            \"lat\",\n",
    "            \"lon\",\n",
    "            \"altitude\",\n",
    "            \"ground speed\",\n",
    "            \"track\",\n",
    "            \"flags\",\n",
    "            \"vertical rate\",\n",
    "            \"aircraft\",\n",
    "            \"type / source\",\n",
    "            \"geometric altitude\",\n",
    "            \"geometric vertical rate\",\n",
    "            \"indicated airspeed\",\n",
    "            \"roll angle\"\n",
    "        ]\n",
    "print(df)"
   ]
  },
  {
   "cell_type": "code",
   "execution_count": null,
   "metadata": {},
   "outputs": [],
   "source": []
  }
 ],
 "metadata": {
  "kernelspec": {
   "display_name": "terrapro",
   "language": "python",
   "name": "python3"
  },
  "language_info": {
   "codemirror_mode": {
    "name": "ipython",
    "version": 3
   },
   "file_extension": ".py",
   "mimetype": "text/x-python",
   "name": "python",
   "nbconvert_exporter": "python",
   "pygments_lexer": "ipython3",
   "version": "3.13.2"
  }
 },
 "nbformat": 4,
 "nbformat_minor": 2
}
