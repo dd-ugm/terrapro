{
 "cells": [
  {
   "cell_type": "code",
   "execution_count": 51,
   "metadata": {
    "id": "54a1ck8cp8Mb"
   },
   "outputs": [],
   "source": [
    "# import matplotlib.pyplot as plt\n",
    "import numpy as np\n",
    "import plotly.graph_objects as go\n",
    "\n",
    "from plotly.subplots import make_subplots\n",
    "# from matplotlib import cm\n",
    "\n",
    "n_slice = 10\n",
    "\n",
    "X_range = np.linspace(0, 10, 10)\n",
    "Y_range = np.linspace(0, 10, 10)\n",
    "X, Y = np.meshgrid(X_range, Y_range)\n",
    "Z = - (X-5)**2 - (Y-5)**2\n",
    "\n"
   ]
  },
  {
   "cell_type": "code",
   "execution_count": 52,
   "metadata": {
    "id": "gKcB5r0hz6wE"
   },
   "outputs": [],
   "source": [
    "def quadrant(o, a):\n",
    "\n",
    "  def invtan(o, a):\n",
    "    return np.abs(np.arctan(o / a))\n",
    "\n",
    "  theta = np.where(o > 0,\n",
    "                      np.where(a > 0,\n",
    "                                invtan(o, a),\n",
    "                      np.where(a < 0,\n",
    "                                np.pi - invtan(o, a), np.nan)),\n",
    "          np.where(o < 0,\n",
    "                      np.where(a < 0,\n",
    "                                np.pi + invtan(o, a),\n",
    "                      np.where(a > 0,\n",
    "                                invtan(o, a) * -1,\n",
    "                      np.nan)),\n",
    "          np.nan))\n",
    "\n",
    "      #print(\"o = \"+np.array2string(o))\n",
    "      #print(\"a = \"+np.array2string(a))\n",
    "      #print('theta = '+np.array2string(theta))\n",
    "      #print()\n",
    "      #print()\n",
    "\n",
    "  return theta\n",
    "\n",
    "\n",
    "# Find intersection of lines, if it exists\n",
    "def intersection(p1, p2, p3, p4):\n",
    "  x1, y1 = p1\n",
    "  x2, y2 = p2\n",
    "  x3, y3 = p3\n",
    "  x4, y4 = p4\n",
    "\n",
    "  alpha_numerator = ((x4 - x3) * (y3 - y1)) - ((y4 - y3) * (x3 - x1))\n",
    "  beta_numerator = ((y3 - y1) * (x2 - x1)) - ((x3 - x1) * (y2 - y1))\n",
    "  denom = ((x4 - x3) * (y2 - y1)) - ((y4 - y3) * (x2 - x1))\n",
    "\n",
    "  alpha = alpha_numerator / denom\n",
    "  beta = beta_numerator / denom\n",
    "\n",
    "  if alpha > 0 and alpha < 1 and beta > 0 and beta < 1:\n",
    "    x0 = x1 + (alpha * (x2 - x1))\n",
    "    y0 = y1 + (alpha * (y2 - y1))\n",
    "\n",
    "    return x0, y0\n",
    "  else:\n",
    "    return None, None\n"
   ]
  },
  {
   "cell_type": "code",
   "execution_count": 53,
   "metadata": {
    "colab": {
     "base_uri": "https://localhost:8080/"
    },
    "id": "OLqq8sr6mTLq",
    "outputId": "3c7caaa1-a6ed-4999-8ba5-7fbe6e7b5a7b"
   },
   "outputs": [],
   "source": [
    "## Y-axis relative vectorised tan quadrant function\n",
    "\n",
    "# def quadrant(o, a, ax):\n",
    "\n",
    "#   #breakpoint()\n",
    "\n",
    "#   def invtan(o, a):\n",
    "#     return np.abs(np.arctan(o / a))\n",
    "\n",
    "#   match ax:\n",
    "#     # xy plane / vertical axis angle quadrant\n",
    "#     case \"y\" | \"xy\" | \"vertical\":\n",
    "#       theta = np.where(o > 0,\n",
    "#                          np.where(a > 0,\n",
    "#                                     invtan(o, a) * -1,\n",
    "#                          np.where(a < 0,\n",
    "#                                     invtan(o, a) - np.pi, np.nan)),\n",
    "#               np.where(o < 0,\n",
    "#                          np.where(a < 0,\n",
    "#                                     np.pi - invtan(o, a),\n",
    "#                          np.where(a > 0,\n",
    "#                                     invtan(o, a),\n",
    "#                          np.nan)),\n",
    "#               np.nan))\n",
    "\n",
    "#       #print('y')\n",
    "#       #print(\"o = \"+np.array2string(o))\n",
    "#       #print(\"a = \"+np.array2string(a))\n",
    "#       #print('theta = '+np.array2string(theta))\n",
    "#       #print()\n",
    "#       #print()\n",
    "\n",
    "#     # yz plane / horizontal axis angle quadrant\n",
    "#     case \"x\" | \"yz\" | \"horizontal\":\n",
    "#       theta = np.where(a > 0,\n",
    "#                          np.where(o > 0,\n",
    "#                                     invtan(o, a),\n",
    "#                          np.where(o < 0,\n",
    "#                                     invtan(o, a) * -1, np.nan)),\n",
    "#               np.where(a < 0,\n",
    "#                          np.where(o < 0,\n",
    "#                                     invtan(o, a) - np.pi,\n",
    "#                          np.where(o > 0,\n",
    "#                                     np.pi - invtan(o, a),\n",
    "#                          np.nan)),\n",
    "#               np.nan))\n",
    "\n",
    "#       #print('x')\n",
    "#       #print(\"o = \"+np.array2string(o))\n",
    "#       #print(\"a = \"+np.array2string(a))\n",
    "#       #print('theta = '+np.array2string(theta))\n",
    "#       #print()\n",
    "#       #print()\n",
    "\n",
    "#   return theta"
   ]
  },
  {
   "cell_type": "code",
   "execution_count": 54,
   "metadata": {},
   "outputs": [],
   "source": [
    "## Above v2? Might be no different\n",
    "\n",
    "# def quadrant(o, a, ax):\n",
    "\n",
    "#   #breakpoint()\n",
    "\n",
    "#   def invtan(o, a):\n",
    "#     return np.abs(np.arctan(o / a))\n",
    "\n",
    "#   match ax:\n",
    "#     # xy plane / vertical axis angle quadrant\n",
    "#     case \"y\" | \"xy\" | \"vertical\":\n",
    "#       theta = np.where(o > 0,\n",
    "#                          np.where(a > 0,\n",
    "#                                     invtan(o, a) * -1,\n",
    "#                          np.where(a < 0,\n",
    "#                                     invtan(o, a) - np.pi, np.nan)),\n",
    "#               np.where(o < 0,\n",
    "#                          np.where(a < 0,\n",
    "#                                     np.pi - invtan(o, a),\n",
    "#                          np.where(a > 0,\n",
    "#                                     invtan(o, a),\n",
    "#                          np.nan)),\n",
    "#               np.nan))\n",
    "\n",
    "#       #print('y')\n",
    "#       #print(\"o = \"+np.array2string(o))\n",
    "#       #print(\"a = \"+np.array2string(a))\n",
    "#       #print('theta = '+np.array2string(theta))\n",
    "#       #print()\n",
    "#       #print()\n",
    "\n",
    "#     # yz plane / horizontal axis angle quadrant\n",
    "#     case \"x\" | \"yz\" | \"horizontal\":\n",
    "#       theta = np.where(a > 0,\n",
    "#                          np.where(o > 0,\n",
    "#                                     invtan(o, a),\n",
    "#                          np.where(o < 0,\n",
    "#                                     invtan(o, a) * -1, np.nan)),\n",
    "#               np.where(a < 0,\n",
    "#                          np.where(o < 0,\n",
    "#                                     invtan(o, a) - np.pi,\n",
    "#                          np.where(o > 0,\n",
    "#                                     np.pi - invtan(o, a),\n",
    "#                          np.nan)),\n",
    "#               np.nan))\n",
    "\n",
    "#       #print('x')\n",
    "#       #print(\"o = \"+np.array2string(o))\n",
    "#       #print(\"a = \"+np.array2string(a))\n",
    "#       #print('theta = '+np.array2string(theta))\n",
    "#       #print()\n",
    "#       #print()\n",
    "\n",
    "#   return theta"
   ]
  },
  {
   "cell_type": "code",
   "execution_count": 55,
   "metadata": {},
   "outputs": [],
   "source": [
    "## Non-vectorised tan quadrant function\n",
    "\n",
    "# def quadrant(o, a, ax):\n",
    "\n",
    "#   def invtan(o, a):\n",
    "#     return np.linalg.norm(np.arctan(o / a))\n",
    "\n",
    "#   match ax:\n",
    "#     # xy plane angle quadrant\n",
    "#     case \"y\" | \"xy\" | \"vertical\":\n",
    "#       if o > 0:\n",
    "#         if a > 0:\n",
    "#           theta = invtan(o, a) * -1\n",
    "\n",
    "#         elif a < 0:\n",
    "#           theta = invtan(o, a) - np.pi\n",
    "\n",
    "#       elif o < 0:\n",
    "#         if a < 0:\n",
    "#           theta = np.pi - invtan(o, a)\n",
    "\n",
    "#         elif a > 0:\n",
    "#           theta = invtan(o, a)\n",
    "\n",
    "#     # yz plane angle quadrant\n",
    "#     case \"x\" | \"yz\" | \"horizontal\":\n",
    "#       if a > 0:\n",
    "#         if o > 0:\n",
    "#           theta = invtan(o, a)\n",
    "\n",
    "#         elif o < 0:\n",
    "#           theta = invtan(o, a) * -1\n",
    "\n",
    "#       elif a < 0:\n",
    "#         if o < 0:\n",
    "#           theta = invtan(o, a) - np.pi\n",
    "\n",
    "#         elif o > 0:\n",
    "#           theta = np.pi - invtan(o, a)\n",
    "#   return theta"
   ]
  },
  {
   "cell_type": "code",
   "execution_count": 56,
   "metadata": {
    "id": "sLg6_ztTayWw"
   },
   "outputs": [],
   "source": [
    "x_slice = np.linspace(X.min()-2, X.max()+2, 10)\n",
    "z_slice = np.linspace(Z.min(), Z.max()+10, 10)\n",
    "x_slice, z_slice = np.meshgrid(x_slice, z_slice)\n",
    "#y_slice = np.full_like(x_slice, 0)\n",
    "#y_slice = np.repeat(y_slice[:, :, np.newaxis], 3, 2)\n",
    "y_slice = Y_range[6:9]\n",
    "y_slice = np.repeat(y_slice[:, np.newaxis], z_slice.shape[0], axis=1)\n",
    "y_slice = np.repeat(y_slice[:, :, np.newaxis], x_slice.shape[0], axis=2)"
   ]
  },
  {
   "cell_type": "code",
   "execution_count": 57,
   "metadata": {
    "id": "nSY1CZkjE7XT"
   },
   "outputs": [],
   "source": [
    "# slice_color = 'rgb(50, 50, 200)'\n",
    "# for i in range(y_slice.shape[0]):\n",
    "#   fig.add_trace(go.Surface(x=x_slice,\n",
    "#                            y=y_slice[i, :, :],\n",
    "#                            z=z_slice,\n",
    "#                            surfacecolor=np.zeros_like(x_slice),\n",
    "#                            colorscale=[[0, slice_color],\n",
    "#                                        [1, slice_color]],\n",
    "#                            opacity=0.3))"
   ]
  },
  {
   "cell_type": "code",
   "execution_count": 58,
   "metadata": {
    "id": "uYzCnkKiILD3"
   },
   "outputs": [],
   "source": [
    "n_slice = 6\n",
    "\n",
    "sx = X#_range\n",
    "sz = Z#[n_slice, :]\n",
    "sy = Y#np.repeat(Y_range[n_slice],\n",
    "      #          sz.shape[0],\n",
    "       #         axis=0)\n",
    "\n",
    "s = np.concatenate((sx[:, np.newaxis], sy[:, np.newaxis], sz[:, np.newaxis]), axis=1)#np.vstack((sx,\n",
    "     #          sy,\n",
    "      #         sz))\n",
    "\n",
    "ph = np.array([13, 14, 15])\n",
    "#ph = np.array([-8, 5, 15])\n",
    "\n",
    "ph_v = np.mean(s[n_slice] - np.array(ph)[:, np.newaxis], axis=1) + np.array(ph) # Need to modify this to calculate mean of all sample point vectors later\n",
    "ph_v = np.array([6, 6, -5])"
   ]
  },
  {
   "cell_type": "code",
   "execution_count": 59,
   "metadata": {
    "colab": {
     "base_uri": "https://localhost:8080/",
     "height": 542
    },
    "id": "z2tNCjF2ufLA",
    "outputId": "db99b99d-830b-4ec1-e6ce-a0e0cb81d5f8"
   },
   "outputs": [
    {
     "data": {
      "application/vnd.plotly.v1+json": {
       "config": {
        "plotlyServerURL": "https://plot.ly"
       },
       "data": [
        {
         "type": "scatter3d",
         "x": [
          13
         ],
         "y": [
          14
         ],
         "z": [
          15
         ]
        },
        {
         "type": "scatter3d",
         "x": {
          "bdata": "AAAAAAAAAAByHMdxHMfxP3Icx3EcxwFAq6qqqqqqCkByHMdxHMcRQI7jOI7jOBZAq6qqqqqqGkDIcRzHcRwfQHIcx3EcxyFAAAAAAAAAJEA=",
          "dtype": "f8"
         },
         "y": {
          "bdata": "AAAAAAAAAAAAAAAAAAAAAAAAAAAAAAAAAAAAAAAAAAAAAAAAAAAAAAAAAAAAAAAAAAAAAAAAAAAAAAAAAAAAAAAAAAAAAAAAAAAAAAAAAAA=",
          "dtype": "f8"
         },
         "z": {
          "bdata": "AAAAAAAAScBSBp5uzQ9EwBCLlIGnW0DAchzHcRzHO8CbHxYpA085wJsfFikDTznAchzHcRzHO8AQi5SBp1tAwFIGnm7ND0TAAAAAAAAAScA=",
          "dtype": "f8"
         }
        },
        {
         "line": {
          "color": "rgba(0, 0, 255, 0.2)",
          "width": 2
         },
         "marker": {
          "opacity": 0
         },
         "type": "scatter3d",
         "x": [
          13,
          0
         ],
         "y": [
          14,
          0
         ],
         "z": [
          15,
          -50
         ]
        },
        {
         "line": {
          "color": "rgba(0, 0, 255, 0.2)",
          "width": 2
         },
         "marker": {
          "opacity": 0
         },
         "type": "scatter3d",
         "x": [
          13,
          0
         ],
         "y": [
          14,
          1.1111111111111112
         ],
         "z": [
          15,
          -40.123456790123456
         ]
        },
        {
         "line": {
          "color": "rgba(0, 0, 255, 0.2)",
          "width": 2
         },
         "marker": {
          "opacity": 0
         },
         "type": "scatter3d",
         "x": [
          13,
          0
         ],
         "y": [
          14,
          2.2222222222222223
         ],
         "z": [
          15,
          -32.71604938271605
         ]
        },
        {
         "line": {
          "color": "rgba(0, 0, 255, 0.2)",
          "width": 2
         },
         "marker": {
          "opacity": 0
         },
         "type": "scatter3d",
         "x": [
          13,
          0
         ],
         "y": [
          14,
          3.3333333333333335
         ],
         "z": [
          15,
          -27.77777777777778
         ]
        },
        {
         "line": {
          "color": "rgba(0, 0, 255, 0.2)",
          "width": 2
         },
         "marker": {
          "opacity": 0
         },
         "type": "scatter3d",
         "x": [
          13,
          0
         ],
         "y": [
          14,
          4.444444444444445
         ],
         "z": [
          15,
          -25.308641975308642
         ]
        },
        {
         "line": {
          "color": "rgba(0, 0, 255, 0.2)",
          "width": 2
         },
         "marker": {
          "opacity": 0
         },
         "type": "scatter3d",
         "x": [
          13,
          0
         ],
         "y": [
          14,
          5.555555555555555
         ],
         "z": [
          15,
          -25.308641975308642
         ]
        },
        {
         "line": {
          "color": "rgba(0, 0, 255, 0.2)",
          "width": 2
         },
         "marker": {
          "opacity": 0
         },
         "type": "scatter3d",
         "x": [
          13,
          0
         ],
         "y": [
          14,
          6.666666666666667
         ],
         "z": [
          15,
          -27.77777777777778
         ]
        },
        {
         "line": {
          "color": "rgba(0, 0, 255, 0.2)",
          "width": 2
         },
         "marker": {
          "opacity": 0
         },
         "type": "scatter3d",
         "x": [
          13,
          0
         ],
         "y": [
          14,
          7.777777777777779
         ],
         "z": [
          15,
          -32.71604938271605
         ]
        },
        {
         "line": {
          "color": "rgba(0, 0, 255, 0.2)",
          "width": 2
         },
         "marker": {
          "opacity": 0
         },
         "type": "scatter3d",
         "x": [
          13,
          0
         ],
         "y": [
          14,
          8.88888888888889
         ],
         "z": [
          15,
          -40.123456790123456
         ]
        },
        {
         "line": {
          "color": "rgba(0, 0, 255, 0.2)",
          "width": 2
         },
         "marker": {
          "opacity": 0
         },
         "type": "scatter3d",
         "x": [
          13,
          0
         ],
         "y": [
          14,
          10
         ],
         "z": [
          15,
          -50
         ]
        },
        {
         "type": "scatter3d",
         "x": {
          "bdata": "AAAAAAAAAAByHMdxHMfxP3Icx3EcxwFAq6qqqqqqCkByHMdxHMcRQI7jOI7jOBZAq6qqqqqqGkDIcRzHcRwfQHIcx3EcxyFAAAAAAAAAJEA=",
          "dtype": "f8"
         },
         "y": {
          "bdata": "chzHcRzH8T9yHMdxHMfxP3Icx3Ecx/E/chzHcRzH8T9yHMdxHMfxP3Icx3Ecx/E/chzHcRzH8T9yHMdxHMfxP3Icx3Ecx/E/chzHcRzH8T8=",
          "dtype": "f8"
         },
         "z": {
          "bdata": "Ugaebs0PRMBIGXi6NT8+wMQiZeDp1jbAFikDT7fmMcB+WKQMPN0uwH5YpAw83S7AFikDT7fmMcDFImXg6dY2wEkZeLo1Pz7AUgaebs0PRMA=",
          "dtype": "f8"
         }
        },
        {
         "line": {
          "color": "rgba(0, 0, 255, 0.2)",
          "width": 2
         },
         "marker": {
          "opacity": 0
         },
         "type": "scatter3d",
         "x": [
          13,
          1.1111111111111112
         ],
         "y": [
          14,
          0
         ],
         "z": [
          15,
          -40.123456790123456
         ]
        },
        {
         "line": {
          "color": "rgba(0, 0, 255, 0.2)",
          "width": 2
         },
         "marker": {
          "opacity": 0
         },
         "type": "scatter3d",
         "x": [
          13,
          1.1111111111111112
         ],
         "y": [
          14,
          1.1111111111111112
         ],
         "z": [
          15,
          -30.24691358024691
         ]
        },
        {
         "line": {
          "color": "rgba(0, 0, 255, 0.2)",
          "width": 2
         },
         "marker": {
          "opacity": 0
         },
         "type": "scatter3d",
         "x": [
          13,
          1.1111111111111112
         ],
         "y": [
          14,
          2.2222222222222223
         ],
         "z": [
          15,
          -22.839506172839506
         ]
        },
        {
         "line": {
          "color": "rgba(0, 0, 255, 0.2)",
          "width": 2
         },
         "marker": {
          "opacity": 0
         },
         "type": "scatter3d",
         "x": [
          13,
          1.1111111111111112
         ],
         "y": [
          14,
          3.3333333333333335
         ],
         "z": [
          15,
          -17.901234567901234
         ]
        },
        {
         "line": {
          "color": "rgba(0, 0, 255, 0.2)",
          "width": 2
         },
         "marker": {
          "opacity": 0
         },
         "type": "scatter3d",
         "x": [
          13,
          1.1111111111111112
         ],
         "y": [
          14,
          4.444444444444445
         ],
         "z": [
          15,
          -15.432098765432098
         ]
        },
        {
         "line": {
          "color": "rgba(0, 0, 255, 0.2)",
          "width": 2
         },
         "marker": {
          "opacity": 0
         },
         "type": "scatter3d",
         "x": [
          13,
          1.1111111111111112
         ],
         "y": [
          14,
          5.555555555555555
         ],
         "z": [
          15,
          -15.432098765432098
         ]
        },
        {
         "line": {
          "color": "rgba(0, 0, 255, 0.2)",
          "width": 2
         },
         "marker": {
          "opacity": 0
         },
         "type": "scatter3d",
         "x": [
          13,
          1.1111111111111112
         ],
         "y": [
          14,
          6.666666666666667
         ],
         "z": [
          15,
          -17.901234567901234
         ]
        },
        {
         "line": {
          "color": "rgba(0, 0, 255, 0.2)",
          "width": 2
         },
         "marker": {
          "opacity": 0
         },
         "type": "scatter3d",
         "x": [
          13,
          1.1111111111111112
         ],
         "y": [
          14,
          7.777777777777779
         ],
         "z": [
          15,
          -22.83950617283951
         ]
        },
        {
         "line": {
          "color": "rgba(0, 0, 255, 0.2)",
          "width": 2
         },
         "marker": {
          "opacity": 0
         },
         "type": "scatter3d",
         "x": [
          13,
          1.1111111111111112
         ],
         "y": [
          14,
          8.88888888888889
         ],
         "z": [
          15,
          -30.246913580246915
         ]
        },
        {
         "line": {
          "color": "rgba(0, 0, 255, 0.2)",
          "width": 2
         },
         "marker": {
          "opacity": 0
         },
         "type": "scatter3d",
         "x": [
          13,
          1.1111111111111112
         ],
         "y": [
          14,
          10
         ],
         "z": [
          15,
          -40.123456790123456
         ]
        },
        {
         "type": "scatter3d",
         "x": {
          "bdata": "AAAAAAAAAAByHMdxHMfxP3Icx3EcxwFAq6qqqqqqCkByHMdxHMcRQI7jOI7jOBZAq6qqqqqqGkDIcRzHcRwfQHIcx3EcxyFAAAAAAAAAJEA=",
          "dtype": "f8"
         },
         "y": {
          "bdata": "chzHcRzHAUByHMdxHMcBQHIcx3EcxwFAchzHcRzHAUByHMdxHMcBQHIcx3EcxwFAchzHcRzHAUByHMdxHMcBQHIcx3EcxwFAchzHcRzHAUA=",
          "dtype": "f8"
         },
         "z": {
          "bdata": "EIuUgadbQMDEImXg6dY2wH5YpAw83S7AImXg6db8JMB1a35YpAwgwHVrflikDCDAI2Xg6db8JMCAWKQMPN0uwMQiZeDp1jbAEIuUgadbQMA=",
          "dtype": "f8"
         }
        },
        {
         "line": {
          "color": "rgba(0, 0, 255, 0.2)",
          "width": 2
         },
         "marker": {
          "opacity": 0
         },
         "type": "scatter3d",
         "x": [
          13,
          2.2222222222222223
         ],
         "y": [
          14,
          0
         ],
         "z": [
          15,
          -32.71604938271605
         ]
        },
        {
         "line": {
          "color": "rgba(0, 0, 255, 0.2)",
          "width": 2
         },
         "marker": {
          "opacity": 0
         },
         "type": "scatter3d",
         "x": [
          13,
          2.2222222222222223
         ],
         "y": [
          14,
          1.1111111111111112
         ],
         "z": [
          15,
          -22.839506172839506
         ]
        },
        {
         "line": {
          "color": "rgba(0, 0, 255, 0.2)",
          "width": 2
         },
         "marker": {
          "opacity": 0
         },
         "type": "scatter3d",
         "x": [
          13,
          2.2222222222222223
         ],
         "y": [
          14,
          2.2222222222222223
         ],
         "z": [
          15,
          -15.432098765432098
         ]
        },
        {
         "line": {
          "color": "rgba(0, 0, 255, 0.2)",
          "width": 2
         },
         "marker": {
          "opacity": 0
         },
         "type": "scatter3d",
         "x": [
          13,
          2.2222222222222223
         ],
         "y": [
          14,
          3.3333333333333335
         ],
         "z": [
          15,
          -10.493827160493826
         ]
        },
        {
         "line": {
          "color": "rgba(0, 0, 255, 0.2)",
          "width": 2
         },
         "marker": {
          "opacity": 0
         },
         "type": "scatter3d",
         "x": [
          13,
          2.2222222222222223
         ],
         "y": [
          14,
          4.444444444444445
         ],
         "z": [
          15,
          -8.024691358024691
         ]
        },
        {
         "line": {
          "color": "rgba(0, 0, 255, 0.2)",
          "width": 2
         },
         "marker": {
          "opacity": 0
         },
         "type": "scatter3d",
         "x": [
          13,
          2.2222222222222223
         ],
         "y": [
          14,
          5.555555555555555
         ],
         "z": [
          15,
          -8.024691358024691
         ]
        },
        {
         "line": {
          "color": "rgba(0, 0, 255, 0.2)",
          "width": 2
         },
         "marker": {
          "opacity": 0
         },
         "type": "scatter3d",
         "x": [
          13,
          2.2222222222222223
         ],
         "y": [
          14,
          6.666666666666667
         ],
         "z": [
          15,
          -10.493827160493828
         ]
        },
        {
         "line": {
          "color": "rgba(0, 0, 255, 0.2)",
          "width": 2
         },
         "marker": {
          "opacity": 0
         },
         "type": "scatter3d",
         "x": [
          13,
          2.2222222222222223
         ],
         "y": [
          14,
          7.777777777777779
         ],
         "z": [
          15,
          -15.432098765432102
         ]
        },
        {
         "line": {
          "color": "rgba(0, 0, 255, 0.2)",
          "width": 2
         },
         "marker": {
          "opacity": 0
         },
         "type": "scatter3d",
         "x": [
          13,
          2.2222222222222223
         ],
         "y": [
          14,
          8.88888888888889
         ],
         "z": [
          15,
          -22.839506172839506
         ]
        },
        {
         "line": {
          "color": "rgba(0, 0, 255, 0.2)",
          "width": 2
         },
         "marker": {
          "opacity": 0
         },
         "type": "scatter3d",
         "x": [
          13,
          2.2222222222222223
         ],
         "y": [
          14,
          10
         ],
         "z": [
          15,
          -32.71604938271605
         ]
        },
        {
         "type": "scatter3d",
         "x": {
          "bdata": "AAAAAAAAAAByHMdxHMfxP3Icx3EcxwFAq6qqqqqqCkByHMdxHMcRQI7jOI7jOBZAq6qqqqqqGkDIcRzHcRwfQHIcx3EcxyFAAAAAAAAAJEA=",
          "dtype": "f8"
         },
         "y": {
          "bdata": "q6qqqqqqCkCrqqqqqqoKQKuqqqqqqgpAq6qqqqqqCkCrqqqqqqoKQKuqqqqqqgpAq6qqqqqqCkCrqqqqqqoKQKuqqqqqqgpAq6qqqqqqCkA=",
          "dtype": "f8"
         },
         "z": {
          "bdata": "chzHcRzHO8AWKQNPt+YxwCJl4OnW/CTAjeM4juM4FsBj4OnW/LAIwGPg6db8sAjAjuM4juM4FsAlZeDp1vwkwBcpA0+35jHAchzHcRzHO8A=",
          "dtype": "f8"
         }
        },
        {
         "line": {
          "color": "rgba(0, 0, 255, 0.2)",
          "width": 2
         },
         "marker": {
          "opacity": 0
         },
         "type": "scatter3d",
         "x": [
          13,
          3.3333333333333335
         ],
         "y": [
          14,
          0
         ],
         "z": [
          15,
          -27.77777777777778
         ]
        },
        {
         "line": {
          "color": "rgba(0, 0, 255, 0.2)",
          "width": 2
         },
         "marker": {
          "opacity": 0
         },
         "type": "scatter3d",
         "x": [
          13,
          3.3333333333333335
         ],
         "y": [
          14,
          1.1111111111111112
         ],
         "z": [
          15,
          -17.901234567901234
         ]
        },
        {
         "line": {
          "color": "rgba(0, 0, 255, 0.2)",
          "width": 2
         },
         "marker": {
          "opacity": 0
         },
         "type": "scatter3d",
         "x": [
          13,
          3.3333333333333335
         ],
         "y": [
          14,
          2.2222222222222223
         ],
         "z": [
          15,
          -10.493827160493826
         ]
        },
        {
         "line": {
          "color": "rgba(0, 0, 255, 0.2)",
          "width": 2
         },
         "marker": {
          "opacity": 0
         },
         "type": "scatter3d",
         "x": [
          13,
          3.3333333333333335
         ],
         "y": [
          14,
          3.3333333333333335
         ],
         "z": [
          15,
          -5.5555555555555545
         ]
        },
        {
         "line": {
          "color": "rgba(0, 0, 255, 0.2)",
          "width": 2
         },
         "marker": {
          "opacity": 0
         },
         "type": "scatter3d",
         "x": [
          13,
          3.3333333333333335
         ],
         "y": [
          14,
          4.444444444444445
         ],
         "z": [
          15,
          -3.086419753086419
         ]
        },
        {
         "line": {
          "color": "rgba(0, 0, 255, 0.2)",
          "width": 2
         },
         "marker": {
          "opacity": 0
         },
         "type": "scatter3d",
         "x": [
          13,
          3.3333333333333335
         ],
         "y": [
          14,
          5.555555555555555
         ],
         "z": [
          15,
          -3.086419753086419
         ]
        },
        {
         "line": {
          "color": "rgba(0, 0, 255, 0.2)",
          "width": 2
         },
         "marker": {
          "opacity": 0
         },
         "type": "scatter3d",
         "x": [
          13,
          3.3333333333333335
         ],
         "y": [
          14,
          6.666666666666667
         ],
         "z": [
          15,
          -5.555555555555555
         ]
        },
        {
         "line": {
          "color": "rgba(0, 0, 255, 0.2)",
          "width": 2
         },
         "marker": {
          "opacity": 0
         },
         "type": "scatter3d",
         "x": [
          13,
          3.3333333333333335
         ],
         "y": [
          14,
          7.777777777777779
         ],
         "z": [
          15,
          -10.493827160493831
         ]
        },
        {
         "line": {
          "color": "rgba(0, 0, 255, 0.2)",
          "width": 2
         },
         "marker": {
          "opacity": 0
         },
         "type": "scatter3d",
         "x": [
          13,
          3.3333333333333335
         ],
         "y": [
          14,
          8.88888888888889
         ],
         "z": [
          15,
          -17.901234567901238
         ]
        },
        {
         "line": {
          "color": "rgba(0, 0, 255, 0.2)",
          "width": 2
         },
         "marker": {
          "opacity": 0
         },
         "type": "scatter3d",
         "x": [
          13,
          3.3333333333333335
         ],
         "y": [
          14,
          10
         ],
         "z": [
          15,
          -27.77777777777778
         ]
        },
        {
         "type": "scatter3d",
         "x": {
          "bdata": "AAAAAAAAAAByHMdxHMfxP3Icx3EcxwFAq6qqqqqqCkByHMdxHMcRQI7jOI7jOBZAq6qqqqqqGkDIcRzHcRwfQHIcx3EcxyFAAAAAAAAAJEA=",
          "dtype": "f8"
         },
         "y": {
          "bdata": "chzHcRzHEUByHMdxHMcRQHIcx3EcxxFAchzHcRzHEUByHMdxHMcRQHIcx3EcxxFAchzHcRzHEUByHMdxHMcRQHIcx3EcxxFAchzHcRzHEUA=",
          "dtype": "f8"
         },
         "z": {
          "bdata": "mx8WKQNPOcB+WKQMPN0uwHVrflikDCDAY+Dp1vywCMCz5odFysDjv7Pmh0XKwOO/ZuDp1vywCMB3a35YpAwgwIBYpAw83S7Amx8WKQNPOcA=",
          "dtype": "f8"
         }
        },
        {
         "line": {
          "color": "rgba(0, 0, 255, 0.2)",
          "width": 2
         },
         "marker": {
          "opacity": 0
         },
         "type": "scatter3d",
         "x": [
          13,
          4.444444444444445
         ],
         "y": [
          14,
          0
         ],
         "z": [
          15,
          -25.308641975308642
         ]
        },
        {
         "line": {
          "color": "rgba(0, 0, 255, 0.2)",
          "width": 2
         },
         "marker": {
          "opacity": 0
         },
         "type": "scatter3d",
         "x": [
          13,
          4.444444444444445
         ],
         "y": [
          14,
          1.1111111111111112
         ],
         "z": [
          15,
          -15.432098765432098
         ]
        },
        {
         "line": {
          "color": "rgba(0, 0, 255, 0.2)",
          "width": 2
         },
         "marker": {
          "opacity": 0
         },
         "type": "scatter3d",
         "x": [
          13,
          4.444444444444445
         ],
         "y": [
          14,
          2.2222222222222223
         ],
         "z": [
          15,
          -8.024691358024691
         ]
        },
        {
         "line": {
          "color": "rgba(0, 0, 255, 0.2)",
          "width": 2
         },
         "marker": {
          "opacity": 0
         },
         "type": "scatter3d",
         "x": [
          13,
          4.444444444444445
         ],
         "y": [
          14,
          3.3333333333333335
         ],
         "z": [
          15,
          -3.086419753086419
         ]
        },
        {
         "line": {
          "color": "rgba(0, 0, 255, 0.2)",
          "width": 2
         },
         "marker": {
          "opacity": 0
         },
         "type": "scatter3d",
         "x": [
          13,
          4.444444444444445
         ],
         "y": [
          14,
          4.444444444444445
         ],
         "z": [
          15,
          -0.6172839506172835
         ]
        },
        {
         "line": {
          "color": "rgba(0, 0, 255, 0.2)",
          "width": 2
         },
         "marker": {
          "opacity": 0
         },
         "type": "scatter3d",
         "x": [
          13,
          4.444444444444445
         ],
         "y": [
          14,
          5.555555555555555
         ],
         "z": [
          15,
          -0.6172839506172835
         ]
        },
        {
         "line": {
          "color": "rgba(0, 0, 255, 0.2)",
          "width": 2
         },
         "marker": {
          "opacity": 0
         },
         "type": "scatter3d",
         "x": [
          13,
          4.444444444444445
         ],
         "y": [
          14,
          6.666666666666667
         ],
         "z": [
          15,
          -3.08641975308642
         ]
        },
        {
         "line": {
          "color": "rgba(0, 0, 255, 0.2)",
          "width": 2
         },
         "marker": {
          "opacity": 0
         },
         "type": "scatter3d",
         "x": [
          13,
          4.444444444444445
         ],
         "y": [
          14,
          7.777777777777779
         ],
         "z": [
          15,
          -8.024691358024695
         ]
        },
        {
         "line": {
          "color": "rgba(0, 0, 255, 0.2)",
          "width": 2
         },
         "marker": {
          "opacity": 0
         },
         "type": "scatter3d",
         "x": [
          13,
          4.444444444444445
         ],
         "y": [
          14,
          8.88888888888889
         ],
         "z": [
          15,
          -15.432098765432102
         ]
        },
        {
         "line": {
          "color": "rgba(0, 0, 255, 0.2)",
          "width": 2
         },
         "marker": {
          "opacity": 0
         },
         "type": "scatter3d",
         "x": [
          13,
          4.444444444444445
         ],
         "y": [
          14,
          10
         ],
         "z": [
          15,
          -25.308641975308642
         ]
        },
        {
         "type": "scatter3d",
         "x": {
          "bdata": "AAAAAAAAAAByHMdxHMfxP3Icx3EcxwFAq6qqqqqqCkByHMdxHMcRQI7jOI7jOBZAq6qqqqqqGkDIcRzHcRwfQHIcx3EcxyFAAAAAAAAAJEA=",
          "dtype": "f8"
         },
         "y": {
          "bdata": "juM4juM4FkCO4ziO4zgWQI7jOI7jOBZAjuM4juM4FkCO4ziO4zgWQI7jOI7jOBZAjuM4juM4FkCO4ziO4zgWQI7jOI7jOBZAjuM4juM4FkA=",
          "dtype": "f8"
         },
         "z": {
          "bdata": "mx8WKQNPOcB+WKQMPN0uwHVrflikDCDAY+Dp1vywCMCz5odFysDjv7Pmh0XKwOO/ZuDp1vywCMB3a35YpAwgwIBYpAw83S7Amx8WKQNPOcA=",
          "dtype": "f8"
         }
        },
        {
         "line": {
          "color": "rgba(0, 0, 255, 0.2)",
          "width": 2
         },
         "marker": {
          "opacity": 0
         },
         "type": "scatter3d",
         "x": [
          13,
          5.555555555555555
         ],
         "y": [
          14,
          0
         ],
         "z": [
          15,
          -25.308641975308642
         ]
        },
        {
         "line": {
          "color": "rgba(0, 0, 255, 0.2)",
          "width": 2
         },
         "marker": {
          "opacity": 0
         },
         "type": "scatter3d",
         "x": [
          13,
          5.555555555555555
         ],
         "y": [
          14,
          1.1111111111111112
         ],
         "z": [
          15,
          -15.432098765432098
         ]
        },
        {
         "line": {
          "color": "rgba(0, 0, 255, 0.2)",
          "width": 2
         },
         "marker": {
          "opacity": 0
         },
         "type": "scatter3d",
         "x": [
          13,
          5.555555555555555
         ],
         "y": [
          14,
          2.2222222222222223
         ],
         "z": [
          15,
          -8.024691358024691
         ]
        },
        {
         "line": {
          "color": "rgba(0, 0, 255, 0.2)",
          "width": 2
         },
         "marker": {
          "opacity": 0
         },
         "type": "scatter3d",
         "x": [
          13,
          5.555555555555555
         ],
         "y": [
          14,
          3.3333333333333335
         ],
         "z": [
          15,
          -3.086419753086419
         ]
        },
        {
         "line": {
          "color": "rgba(0, 0, 255, 0.2)",
          "width": 2
         },
         "marker": {
          "opacity": 0
         },
         "type": "scatter3d",
         "x": [
          13,
          5.555555555555555
         ],
         "y": [
          14,
          4.444444444444445
         ],
         "z": [
          15,
          -0.6172839506172835
         ]
        },
        {
         "line": {
          "color": "rgba(0, 0, 255, 0.2)",
          "width": 2
         },
         "marker": {
          "opacity": 0
         },
         "type": "scatter3d",
         "x": [
          13,
          5.555555555555555
         ],
         "y": [
          14,
          5.555555555555555
         ],
         "z": [
          15,
          -0.6172839506172835
         ]
        },
        {
         "line": {
          "color": "rgba(0, 0, 255, 0.2)",
          "width": 2
         },
         "marker": {
          "opacity": 0
         },
         "type": "scatter3d",
         "x": [
          13,
          5.555555555555555
         ],
         "y": [
          14,
          6.666666666666667
         ],
         "z": [
          15,
          -3.08641975308642
         ]
        },
        {
         "line": {
          "color": "rgba(0, 0, 255, 0.2)",
          "width": 2
         },
         "marker": {
          "opacity": 0
         },
         "type": "scatter3d",
         "x": [
          13,
          5.555555555555555
         ],
         "y": [
          14,
          7.777777777777779
         ],
         "z": [
          15,
          -8.024691358024695
         ]
        },
        {
         "line": {
          "color": "rgba(0, 0, 255, 0.2)",
          "width": 2
         },
         "marker": {
          "opacity": 0
         },
         "type": "scatter3d",
         "x": [
          13,
          5.555555555555555
         ],
         "y": [
          14,
          8.88888888888889
         ],
         "z": [
          15,
          -15.432098765432102
         ]
        },
        {
         "line": {
          "color": "rgba(0, 0, 255, 0.2)",
          "width": 2
         },
         "marker": {
          "opacity": 0
         },
         "type": "scatter3d",
         "x": [
          13,
          5.555555555555555
         ],
         "y": [
          14,
          10
         ],
         "z": [
          15,
          -25.308641975308642
         ]
        },
        {
         "type": "scatter3d",
         "x": {
          "bdata": "AAAAAAAAAAByHMdxHMfxP3Icx3EcxwFAq6qqqqqqCkByHMdxHMcRQI7jOI7jOBZAq6qqqqqqGkDIcRzHcRwfQHIcx3EcxyFAAAAAAAAAJEA=",
          "dtype": "f8"
         },
         "y": {
          "bdata": "q6qqqqqqGkCrqqqqqqoaQKuqqqqqqhpAq6qqqqqqGkCrqqqqqqoaQKuqqqqqqhpAq6qqqqqqGkCrqqqqqqoaQKuqqqqqqhpAq6qqqqqqGkA=",
          "dtype": "f8"
         },
         "z": {
          "bdata": "chzHcRzHO8AWKQNPt+YxwCNl4OnW/CTAjuM4juM4FsBm4OnW/LAIwGbg6db8sAjAkOM4juM4FsAmZeDp1vwkwBcpA0+35jHAchzHcRzHO8A=",
          "dtype": "f8"
         }
        },
        {
         "line": {
          "color": "rgba(0, 0, 255, 0.2)",
          "width": 2
         },
         "marker": {
          "opacity": 0
         },
         "type": "scatter3d",
         "x": [
          13,
          6.666666666666667
         ],
         "y": [
          14,
          0
         ],
         "z": [
          15,
          -27.77777777777778
         ]
        },
        {
         "line": {
          "color": "rgba(0, 0, 255, 0.2)",
          "width": 2
         },
         "marker": {
          "opacity": 0
         },
         "type": "scatter3d",
         "x": [
          13,
          6.666666666666667
         ],
         "y": [
          14,
          1.1111111111111112
         ],
         "z": [
          15,
          -17.901234567901234
         ]
        },
        {
         "line": {
          "color": "rgba(0, 0, 255, 0.2)",
          "width": 2
         },
         "marker": {
          "opacity": 0
         },
         "type": "scatter3d",
         "x": [
          13,
          6.666666666666667
         ],
         "y": [
          14,
          2.2222222222222223
         ],
         "z": [
          15,
          -10.493827160493828
         ]
        },
        {
         "line": {
          "color": "rgba(0, 0, 255, 0.2)",
          "width": 2
         },
         "marker": {
          "opacity": 0
         },
         "type": "scatter3d",
         "x": [
          13,
          6.666666666666667
         ],
         "y": [
          14,
          3.3333333333333335
         ],
         "z": [
          15,
          -5.555555555555555
         ]
        },
        {
         "line": {
          "color": "rgba(0, 0, 255, 0.2)",
          "width": 2
         },
         "marker": {
          "opacity": 0
         },
         "type": "scatter3d",
         "x": [
          13,
          6.666666666666667
         ],
         "y": [
          14,
          4.444444444444445
         ],
         "z": [
          15,
          -3.08641975308642
         ]
        },
        {
         "line": {
          "color": "rgba(0, 0, 255, 0.2)",
          "width": 2
         },
         "marker": {
          "opacity": 0
         },
         "type": "scatter3d",
         "x": [
          13,
          6.666666666666667
         ],
         "y": [
          14,
          5.555555555555555
         ],
         "z": [
          15,
          -3.08641975308642
         ]
        },
        {
         "line": {
          "color": "rgba(0, 0, 255, 0.2)",
          "width": 2
         },
         "marker": {
          "opacity": 0
         },
         "type": "scatter3d",
         "x": [
          13,
          6.666666666666667
         ],
         "y": [
          14,
          6.666666666666667
         ],
         "z": [
          15,
          -5.555555555555557
         ]
        },
        {
         "line": {
          "color": "rgba(0, 0, 255, 0.2)",
          "width": 2
         },
         "marker": {
          "opacity": 0
         },
         "type": "scatter3d",
         "x": [
          13,
          6.666666666666667
         ],
         "y": [
          14,
          7.777777777777779
         ],
         "z": [
          15,
          -10.493827160493833
         ]
        },
        {
         "line": {
          "color": "rgba(0, 0, 255, 0.2)",
          "width": 2
         },
         "marker": {
          "opacity": 0
         },
         "type": "scatter3d",
         "x": [
          13,
          6.666666666666667
         ],
         "y": [
          14,
          8.88888888888889
         ],
         "z": [
          15,
          -17.901234567901238
         ]
        },
        {
         "line": {
          "color": "rgba(0, 0, 255, 0.2)",
          "width": 2
         },
         "marker": {
          "opacity": 0
         },
         "type": "scatter3d",
         "x": [
          13,
          6.666666666666667
         ],
         "y": [
          14,
          10
         ],
         "z": [
          15,
          -27.77777777777778
         ]
        },
        {
         "type": "scatter3d",
         "x": {
          "bdata": "AAAAAAAAAAByHMdxHMfxP3Icx3EcxwFAq6qqqqqqCkByHMdxHMcRQI7jOI7jOBZAq6qqqqqqGkDIcRzHcRwfQHIcx3EcxyFAAAAAAAAAJEA=",
          "dtype": "f8"
         },
         "y": {
          "bdata": "yHEcx3EcH0DIcRzHcRwfQMhxHMdxHB9AyHEcx3EcH0DIcRzHcRwfQMhxHMdxHB9AyHEcx3EcH0DIcRzHcRwfQMhxHMdxHB9AyHEcx3EcH0A=",
          "dtype": "f8"
         },
         "z": {
          "bdata": "EIuUgadbQMDFImXg6dY2wIBYpAw83S7AJWXg6db8JMB3a35YpAwgwHdrflikDCDAJmXg6db8JMCDWKQMPN0uwMYiZeDp1jbAEIuUgadbQMA=",
          "dtype": "f8"
         }
        },
        {
         "line": {
          "color": "rgba(0, 0, 255, 0.2)",
          "width": 2
         },
         "marker": {
          "opacity": 0
         },
         "type": "scatter3d",
         "x": [
          13,
          7.777777777777779
         ],
         "y": [
          14,
          0
         ],
         "z": [
          15,
          -32.71604938271605
         ]
        },
        {
         "line": {
          "color": "rgba(0, 0, 255, 0.2)",
          "width": 2
         },
         "marker": {
          "opacity": 0
         },
         "type": "scatter3d",
         "x": [
          13,
          7.777777777777779
         ],
         "y": [
          14,
          1.1111111111111112
         ],
         "z": [
          15,
          -22.83950617283951
         ]
        },
        {
         "line": {
          "color": "rgba(0, 0, 255, 0.2)",
          "width": 2
         },
         "marker": {
          "opacity": 0
         },
         "type": "scatter3d",
         "x": [
          13,
          7.777777777777779
         ],
         "y": [
          14,
          2.2222222222222223
         ],
         "z": [
          15,
          -15.432098765432102
         ]
        },
        {
         "line": {
          "color": "rgba(0, 0, 255, 0.2)",
          "width": 2
         },
         "marker": {
          "opacity": 0
         },
         "type": "scatter3d",
         "x": [
          13,
          7.777777777777779
         ],
         "y": [
          14,
          3.3333333333333335
         ],
         "z": [
          15,
          -10.493827160493831
         ]
        },
        {
         "line": {
          "color": "rgba(0, 0, 255, 0.2)",
          "width": 2
         },
         "marker": {
          "opacity": 0
         },
         "type": "scatter3d",
         "x": [
          13,
          7.777777777777779
         ],
         "y": [
          14,
          4.444444444444445
         ],
         "z": [
          15,
          -8.024691358024695
         ]
        },
        {
         "line": {
          "color": "rgba(0, 0, 255, 0.2)",
          "width": 2
         },
         "marker": {
          "opacity": 0
         },
         "type": "scatter3d",
         "x": [
          13,
          7.777777777777779
         ],
         "y": [
          14,
          5.555555555555555
         ],
         "z": [
          15,
          -8.024691358024695
         ]
        },
        {
         "line": {
          "color": "rgba(0, 0, 255, 0.2)",
          "width": 2
         },
         "marker": {
          "opacity": 0
         },
         "type": "scatter3d",
         "x": [
          13,
          7.777777777777779
         ],
         "y": [
          14,
          6.666666666666667
         ],
         "z": [
          15,
          -10.493827160493833
         ]
        },
        {
         "line": {
          "color": "rgba(0, 0, 255, 0.2)",
          "width": 2
         },
         "marker": {
          "opacity": 0
         },
         "type": "scatter3d",
         "x": [
          13,
          7.777777777777779
         ],
         "y": [
          14,
          7.777777777777779
         ],
         "z": [
          15,
          -15.432098765432107
         ]
        },
        {
         "line": {
          "color": "rgba(0, 0, 255, 0.2)",
          "width": 2
         },
         "marker": {
          "opacity": 0
         },
         "type": "scatter3d",
         "x": [
          13,
          7.777777777777779
         ],
         "y": [
          14,
          8.88888888888889
         ],
         "z": [
          15,
          -22.839506172839513
         ]
        },
        {
         "line": {
          "color": "rgba(0, 0, 255, 0.2)",
          "width": 2
         },
         "marker": {
          "opacity": 0
         },
         "type": "scatter3d",
         "x": [
          13,
          7.777777777777779
         ],
         "y": [
          14,
          10
         ],
         "z": [
          15,
          -32.71604938271605
         ]
        },
        {
         "type": "scatter3d",
         "x": {
          "bdata": "AAAAAAAAAAByHMdxHMfxP3Icx3EcxwFAq6qqqqqqCkByHMdxHMcRQI7jOI7jOBZAq6qqqqqqGkDIcRzHcRwfQHIcx3EcxyFAAAAAAAAAJEA=",
          "dtype": "f8"
         },
         "y": {
          "bdata": "chzHcRzHIUByHMdxHMchQHIcx3EcxyFAchzHcRzHIUByHMdxHMchQHIcx3EcxyFAchzHcRzHIUByHMdxHMchQHIcx3EcxyFAchzHcRzHIUA=",
          "dtype": "f8"
         },
         "z": {
          "bdata": "Ugaebs0PRMBJGXi6NT8+wMQiZeDp1jbAFykDT7fmMcCAWKQMPN0uwIBYpAw83S7AFykDT7fmMcDGImXg6dY2wEoZeLo1Pz7AUgaebs0PRMA=",
          "dtype": "f8"
         }
        },
        {
         "line": {
          "color": "rgba(0, 0, 255, 0.2)",
          "width": 2
         },
         "marker": {
          "opacity": 0
         },
         "type": "scatter3d",
         "x": [
          13,
          8.88888888888889
         ],
         "y": [
          14,
          0
         ],
         "z": [
          15,
          -40.123456790123456
         ]
        },
        {
         "line": {
          "color": "rgba(0, 0, 255, 0.2)",
          "width": 2
         },
         "marker": {
          "opacity": 0
         },
         "type": "scatter3d",
         "x": [
          13,
          8.88888888888889
         ],
         "y": [
          14,
          1.1111111111111112
         ],
         "z": [
          15,
          -30.246913580246915
         ]
        },
        {
         "line": {
          "color": "rgba(0, 0, 255, 0.2)",
          "width": 2
         },
         "marker": {
          "opacity": 0
         },
         "type": "scatter3d",
         "x": [
          13,
          8.88888888888889
         ],
         "y": [
          14,
          2.2222222222222223
         ],
         "z": [
          15,
          -22.839506172839506
         ]
        },
        {
         "line": {
          "color": "rgba(0, 0, 255, 0.2)",
          "width": 2
         },
         "marker": {
          "opacity": 0
         },
         "type": "scatter3d",
         "x": [
          13,
          8.88888888888889
         ],
         "y": [
          14,
          3.3333333333333335
         ],
         "z": [
          15,
          -17.901234567901238
         ]
        },
        {
         "line": {
          "color": "rgba(0, 0, 255, 0.2)",
          "width": 2
         },
         "marker": {
          "opacity": 0
         },
         "type": "scatter3d",
         "x": [
          13,
          8.88888888888889
         ],
         "y": [
          14,
          4.444444444444445
         ],
         "z": [
          15,
          -15.432098765432102
         ]
        },
        {
         "line": {
          "color": "rgba(0, 0, 255, 0.2)",
          "width": 2
         },
         "marker": {
          "opacity": 0
         },
         "type": "scatter3d",
         "x": [
          13,
          8.88888888888889
         ],
         "y": [
          14,
          5.555555555555555
         ],
         "z": [
          15,
          -15.432098765432102
         ]
        },
        {
         "line": {
          "color": "rgba(0, 0, 255, 0.2)",
          "width": 2
         },
         "marker": {
          "opacity": 0
         },
         "type": "scatter3d",
         "x": [
          13,
          8.88888888888889
         ],
         "y": [
          14,
          6.666666666666667
         ],
         "z": [
          15,
          -17.901234567901238
         ]
        },
        {
         "line": {
          "color": "rgba(0, 0, 255, 0.2)",
          "width": 2
         },
         "marker": {
          "opacity": 0
         },
         "type": "scatter3d",
         "x": [
          13,
          8.88888888888889
         ],
         "y": [
          14,
          7.777777777777779
         ],
         "z": [
          15,
          -22.839506172839513
         ]
        },
        {
         "line": {
          "color": "rgba(0, 0, 255, 0.2)",
          "width": 2
         },
         "marker": {
          "opacity": 0
         },
         "type": "scatter3d",
         "x": [
          13,
          8.88888888888889
         ],
         "y": [
          14,
          8.88888888888889
         ],
         "z": [
          15,
          -30.24691358024692
         ]
        },
        {
         "line": {
          "color": "rgba(0, 0, 255, 0.2)",
          "width": 2
         },
         "marker": {
          "opacity": 0
         },
         "type": "scatter3d",
         "x": [
          13,
          8.88888888888889
         ],
         "y": [
          14,
          10
         ],
         "z": [
          15,
          -40.123456790123456
         ]
        },
        {
         "type": "scatter3d",
         "x": {
          "bdata": "AAAAAAAAAAByHMdxHMfxP3Icx3EcxwFAq6qqqqqqCkByHMdxHMcRQI7jOI7jOBZAq6qqqqqqGkDIcRzHcRwfQHIcx3EcxyFAAAAAAAAAJEA=",
          "dtype": "f8"
         },
         "y": {
          "bdata": "AAAAAAAAJEAAAAAAAAAkQAAAAAAAACRAAAAAAAAAJEAAAAAAAAAkQAAAAAAAACRAAAAAAAAAJEAAAAAAAAAkQAAAAAAAACRAAAAAAAAAJEA=",
          "dtype": "f8"
         },
         "z": {
          "bdata": "AAAAAAAAScBSBp5uzQ9EwBCLlIGnW0DAchzHcRzHO8CbHxYpA085wJsfFikDTznAchzHcRzHO8AQi5SBp1tAwFIGnm7ND0TAAAAAAAAAScA=",
          "dtype": "f8"
         }
        },
        {
         "line": {
          "color": "rgba(0, 0, 255, 0.2)",
          "width": 2
         },
         "marker": {
          "opacity": 0
         },
         "type": "scatter3d",
         "x": [
          13,
          10
         ],
         "y": [
          14,
          0
         ],
         "z": [
          15,
          -50
         ]
        },
        {
         "line": {
          "color": "rgba(0, 0, 255, 0.2)",
          "width": 2
         },
         "marker": {
          "opacity": 0
         },
         "type": "scatter3d",
         "x": [
          13,
          10
         ],
         "y": [
          14,
          1.1111111111111112
         ],
         "z": [
          15,
          -40.123456790123456
         ]
        },
        {
         "line": {
          "color": "rgba(0, 0, 255, 0.2)",
          "width": 2
         },
         "marker": {
          "opacity": 0
         },
         "type": "scatter3d",
         "x": [
          13,
          10
         ],
         "y": [
          14,
          2.2222222222222223
         ],
         "z": [
          15,
          -32.71604938271605
         ]
        },
        {
         "line": {
          "color": "rgba(0, 0, 255, 0.2)",
          "width": 2
         },
         "marker": {
          "opacity": 0
         },
         "type": "scatter3d",
         "x": [
          13,
          10
         ],
         "y": [
          14,
          3.3333333333333335
         ],
         "z": [
          15,
          -27.77777777777778
         ]
        },
        {
         "line": {
          "color": "rgba(0, 0, 255, 0.2)",
          "width": 2
         },
         "marker": {
          "opacity": 0
         },
         "type": "scatter3d",
         "x": [
          13,
          10
         ],
         "y": [
          14,
          4.444444444444445
         ],
         "z": [
          15,
          -25.308641975308642
         ]
        },
        {
         "line": {
          "color": "rgba(0, 0, 255, 0.2)",
          "width": 2
         },
         "marker": {
          "opacity": 0
         },
         "type": "scatter3d",
         "x": [
          13,
          10
         ],
         "y": [
          14,
          5.555555555555555
         ],
         "z": [
          15,
          -25.308641975308642
         ]
        },
        {
         "line": {
          "color": "rgba(0, 0, 255, 0.2)",
          "width": 2
         },
         "marker": {
          "opacity": 0
         },
         "type": "scatter3d",
         "x": [
          13,
          10
         ],
         "y": [
          14,
          6.666666666666667
         ],
         "z": [
          15,
          -27.77777777777778
         ]
        },
        {
         "line": {
          "color": "rgba(0, 0, 255, 0.2)",
          "width": 2
         },
         "marker": {
          "opacity": 0
         },
         "type": "scatter3d",
         "x": [
          13,
          10
         ],
         "y": [
          14,
          7.777777777777779
         ],
         "z": [
          15,
          -32.71604938271605
         ]
        },
        {
         "line": {
          "color": "rgba(0, 0, 255, 0.2)",
          "width": 2
         },
         "marker": {
          "opacity": 0
         },
         "type": "scatter3d",
         "x": [
          13,
          10
         ],
         "y": [
          14,
          8.88888888888889
         ],
         "z": [
          15,
          -40.123456790123456
         ]
        },
        {
         "line": {
          "color": "rgba(0, 0, 255, 0.2)",
          "width": 2
         },
         "marker": {
          "opacity": 0
         },
         "type": "scatter3d",
         "x": [
          13,
          10
         ],
         "y": [
          14,
          10
         ],
         "z": [
          15,
          -50
         ]
        },
        {
         "line": {
          "color": "green",
          "width": 2
         },
         "type": "scatter3d",
         "x": [
          13,
          6
         ],
         "y": [
          14,
          6
         ],
         "z": [
          15,
          -5
         ]
        }
       ],
       "layout": {
        "template": {
         "data": {
          "bar": [
           {
            "error_x": {
             "color": "#2a3f5f"
            },
            "error_y": {
             "color": "#2a3f5f"
            },
            "marker": {
             "line": {
              "color": "#E5ECF6",
              "width": 0.5
             },
             "pattern": {
              "fillmode": "overlay",
              "size": 10,
              "solidity": 0.2
             }
            },
            "type": "bar"
           }
          ],
          "barpolar": [
           {
            "marker": {
             "line": {
              "color": "#E5ECF6",
              "width": 0.5
             },
             "pattern": {
              "fillmode": "overlay",
              "size": 10,
              "solidity": 0.2
             }
            },
            "type": "barpolar"
           }
          ],
          "carpet": [
           {
            "aaxis": {
             "endlinecolor": "#2a3f5f",
             "gridcolor": "white",
             "linecolor": "white",
             "minorgridcolor": "white",
             "startlinecolor": "#2a3f5f"
            },
            "baxis": {
             "endlinecolor": "#2a3f5f",
             "gridcolor": "white",
             "linecolor": "white",
             "minorgridcolor": "white",
             "startlinecolor": "#2a3f5f"
            },
            "type": "carpet"
           }
          ],
          "choropleth": [
           {
            "colorbar": {
             "outlinewidth": 0,
             "ticks": ""
            },
            "type": "choropleth"
           }
          ],
          "contour": [
           {
            "colorbar": {
             "outlinewidth": 0,
             "ticks": ""
            },
            "colorscale": [
             [
              0,
              "#0d0887"
             ],
             [
              0.1111111111111111,
              "#46039f"
             ],
             [
              0.2222222222222222,
              "#7201a8"
             ],
             [
              0.3333333333333333,
              "#9c179e"
             ],
             [
              0.4444444444444444,
              "#bd3786"
             ],
             [
              0.5555555555555556,
              "#d8576b"
             ],
             [
              0.6666666666666666,
              "#ed7953"
             ],
             [
              0.7777777777777778,
              "#fb9f3a"
             ],
             [
              0.8888888888888888,
              "#fdca26"
             ],
             [
              1,
              "#f0f921"
             ]
            ],
            "type": "contour"
           }
          ],
          "contourcarpet": [
           {
            "colorbar": {
             "outlinewidth": 0,
             "ticks": ""
            },
            "type": "contourcarpet"
           }
          ],
          "heatmap": [
           {
            "colorbar": {
             "outlinewidth": 0,
             "ticks": ""
            },
            "colorscale": [
             [
              0,
              "#0d0887"
             ],
             [
              0.1111111111111111,
              "#46039f"
             ],
             [
              0.2222222222222222,
              "#7201a8"
             ],
             [
              0.3333333333333333,
              "#9c179e"
             ],
             [
              0.4444444444444444,
              "#bd3786"
             ],
             [
              0.5555555555555556,
              "#d8576b"
             ],
             [
              0.6666666666666666,
              "#ed7953"
             ],
             [
              0.7777777777777778,
              "#fb9f3a"
             ],
             [
              0.8888888888888888,
              "#fdca26"
             ],
             [
              1,
              "#f0f921"
             ]
            ],
            "type": "heatmap"
           }
          ],
          "histogram": [
           {
            "marker": {
             "pattern": {
              "fillmode": "overlay",
              "size": 10,
              "solidity": 0.2
             }
            },
            "type": "histogram"
           }
          ],
          "histogram2d": [
           {
            "colorbar": {
             "outlinewidth": 0,
             "ticks": ""
            },
            "colorscale": [
             [
              0,
              "#0d0887"
             ],
             [
              0.1111111111111111,
              "#46039f"
             ],
             [
              0.2222222222222222,
              "#7201a8"
             ],
             [
              0.3333333333333333,
              "#9c179e"
             ],
             [
              0.4444444444444444,
              "#bd3786"
             ],
             [
              0.5555555555555556,
              "#d8576b"
             ],
             [
              0.6666666666666666,
              "#ed7953"
             ],
             [
              0.7777777777777778,
              "#fb9f3a"
             ],
             [
              0.8888888888888888,
              "#fdca26"
             ],
             [
              1,
              "#f0f921"
             ]
            ],
            "type": "histogram2d"
           }
          ],
          "histogram2dcontour": [
           {
            "colorbar": {
             "outlinewidth": 0,
             "ticks": ""
            },
            "colorscale": [
             [
              0,
              "#0d0887"
             ],
             [
              0.1111111111111111,
              "#46039f"
             ],
             [
              0.2222222222222222,
              "#7201a8"
             ],
             [
              0.3333333333333333,
              "#9c179e"
             ],
             [
              0.4444444444444444,
              "#bd3786"
             ],
             [
              0.5555555555555556,
              "#d8576b"
             ],
             [
              0.6666666666666666,
              "#ed7953"
             ],
             [
              0.7777777777777778,
              "#fb9f3a"
             ],
             [
              0.8888888888888888,
              "#fdca26"
             ],
             [
              1,
              "#f0f921"
             ]
            ],
            "type": "histogram2dcontour"
           }
          ],
          "mesh3d": [
           {
            "colorbar": {
             "outlinewidth": 0,
             "ticks": ""
            },
            "type": "mesh3d"
           }
          ],
          "parcoords": [
           {
            "line": {
             "colorbar": {
              "outlinewidth": 0,
              "ticks": ""
             }
            },
            "type": "parcoords"
           }
          ],
          "pie": [
           {
            "automargin": true,
            "type": "pie"
           }
          ],
          "scatter": [
           {
            "fillpattern": {
             "fillmode": "overlay",
             "size": 10,
             "solidity": 0.2
            },
            "type": "scatter"
           }
          ],
          "scatter3d": [
           {
            "line": {
             "colorbar": {
              "outlinewidth": 0,
              "ticks": ""
             }
            },
            "marker": {
             "colorbar": {
              "outlinewidth": 0,
              "ticks": ""
             }
            },
            "type": "scatter3d"
           }
          ],
          "scattercarpet": [
           {
            "marker": {
             "colorbar": {
              "outlinewidth": 0,
              "ticks": ""
             }
            },
            "type": "scattercarpet"
           }
          ],
          "scattergeo": [
           {
            "marker": {
             "colorbar": {
              "outlinewidth": 0,
              "ticks": ""
             }
            },
            "type": "scattergeo"
           }
          ],
          "scattergl": [
           {
            "marker": {
             "colorbar": {
              "outlinewidth": 0,
              "ticks": ""
             }
            },
            "type": "scattergl"
           }
          ],
          "scattermap": [
           {
            "marker": {
             "colorbar": {
              "outlinewidth": 0,
              "ticks": ""
             }
            },
            "type": "scattermap"
           }
          ],
          "scattermapbox": [
           {
            "marker": {
             "colorbar": {
              "outlinewidth": 0,
              "ticks": ""
             }
            },
            "type": "scattermapbox"
           }
          ],
          "scatterpolar": [
           {
            "marker": {
             "colorbar": {
              "outlinewidth": 0,
              "ticks": ""
             }
            },
            "type": "scatterpolar"
           }
          ],
          "scatterpolargl": [
           {
            "marker": {
             "colorbar": {
              "outlinewidth": 0,
              "ticks": ""
             }
            },
            "type": "scatterpolargl"
           }
          ],
          "scatterternary": [
           {
            "marker": {
             "colorbar": {
              "outlinewidth": 0,
              "ticks": ""
             }
            },
            "type": "scatterternary"
           }
          ],
          "surface": [
           {
            "colorbar": {
             "outlinewidth": 0,
             "ticks": ""
            },
            "colorscale": [
             [
              0,
              "#0d0887"
             ],
             [
              0.1111111111111111,
              "#46039f"
             ],
             [
              0.2222222222222222,
              "#7201a8"
             ],
             [
              0.3333333333333333,
              "#9c179e"
             ],
             [
              0.4444444444444444,
              "#bd3786"
             ],
             [
              0.5555555555555556,
              "#d8576b"
             ],
             [
              0.6666666666666666,
              "#ed7953"
             ],
             [
              0.7777777777777778,
              "#fb9f3a"
             ],
             [
              0.8888888888888888,
              "#fdca26"
             ],
             [
              1,
              "#f0f921"
             ]
            ],
            "type": "surface"
           }
          ],
          "table": [
           {
            "cells": {
             "fill": {
              "color": "#EBF0F8"
             },
             "line": {
              "color": "white"
             }
            },
            "header": {
             "fill": {
              "color": "#C8D4E3"
             },
             "line": {
              "color": "white"
             }
            },
            "type": "table"
           }
          ]
         },
         "layout": {
          "annotationdefaults": {
           "arrowcolor": "#2a3f5f",
           "arrowhead": 0,
           "arrowwidth": 1
          },
          "autotypenumbers": "strict",
          "coloraxis": {
           "colorbar": {
            "outlinewidth": 0,
            "ticks": ""
           }
          },
          "colorscale": {
           "diverging": [
            [
             0,
             "#8e0152"
            ],
            [
             0.1,
             "#c51b7d"
            ],
            [
             0.2,
             "#de77ae"
            ],
            [
             0.3,
             "#f1b6da"
            ],
            [
             0.4,
             "#fde0ef"
            ],
            [
             0.5,
             "#f7f7f7"
            ],
            [
             0.6,
             "#e6f5d0"
            ],
            [
             0.7,
             "#b8e186"
            ],
            [
             0.8,
             "#7fbc41"
            ],
            [
             0.9,
             "#4d9221"
            ],
            [
             1,
             "#276419"
            ]
           ],
           "sequential": [
            [
             0,
             "#0d0887"
            ],
            [
             0.1111111111111111,
             "#46039f"
            ],
            [
             0.2222222222222222,
             "#7201a8"
            ],
            [
             0.3333333333333333,
             "#9c179e"
            ],
            [
             0.4444444444444444,
             "#bd3786"
            ],
            [
             0.5555555555555556,
             "#d8576b"
            ],
            [
             0.6666666666666666,
             "#ed7953"
            ],
            [
             0.7777777777777778,
             "#fb9f3a"
            ],
            [
             0.8888888888888888,
             "#fdca26"
            ],
            [
             1,
             "#f0f921"
            ]
           ],
           "sequentialminus": [
            [
             0,
             "#0d0887"
            ],
            [
             0.1111111111111111,
             "#46039f"
            ],
            [
             0.2222222222222222,
             "#7201a8"
            ],
            [
             0.3333333333333333,
             "#9c179e"
            ],
            [
             0.4444444444444444,
             "#bd3786"
            ],
            [
             0.5555555555555556,
             "#d8576b"
            ],
            [
             0.6666666666666666,
             "#ed7953"
            ],
            [
             0.7777777777777778,
             "#fb9f3a"
            ],
            [
             0.8888888888888888,
             "#fdca26"
            ],
            [
             1,
             "#f0f921"
            ]
           ]
          },
          "colorway": [
           "#636efa",
           "#EF553B",
           "#00cc96",
           "#ab63fa",
           "#FFA15A",
           "#19d3f3",
           "#FF6692",
           "#B6E880",
           "#FF97FF",
           "#FECB52"
          ],
          "font": {
           "color": "#2a3f5f"
          },
          "geo": {
           "bgcolor": "white",
           "lakecolor": "white",
           "landcolor": "#E5ECF6",
           "showlakes": true,
           "showland": true,
           "subunitcolor": "white"
          },
          "hoverlabel": {
           "align": "left"
          },
          "hovermode": "closest",
          "mapbox": {
           "style": "light"
          },
          "paper_bgcolor": "white",
          "plot_bgcolor": "#E5ECF6",
          "polar": {
           "angularaxis": {
            "gridcolor": "white",
            "linecolor": "white",
            "ticks": ""
           },
           "bgcolor": "#E5ECF6",
           "radialaxis": {
            "gridcolor": "white",
            "linecolor": "white",
            "ticks": ""
           }
          },
          "scene": {
           "xaxis": {
            "backgroundcolor": "#E5ECF6",
            "gridcolor": "white",
            "gridwidth": 2,
            "linecolor": "white",
            "showbackground": true,
            "ticks": "",
            "zerolinecolor": "white"
           },
           "yaxis": {
            "backgroundcolor": "#E5ECF6",
            "gridcolor": "white",
            "gridwidth": 2,
            "linecolor": "white",
            "showbackground": true,
            "ticks": "",
            "zerolinecolor": "white"
           },
           "zaxis": {
            "backgroundcolor": "#E5ECF6",
            "gridcolor": "white",
            "gridwidth": 2,
            "linecolor": "white",
            "showbackground": true,
            "ticks": "",
            "zerolinecolor": "white"
           }
          },
          "shapedefaults": {
           "line": {
            "color": "#2a3f5f"
           }
          },
          "ternary": {
           "aaxis": {
            "gridcolor": "white",
            "linecolor": "white",
            "ticks": ""
           },
           "baxis": {
            "gridcolor": "white",
            "linecolor": "white",
            "ticks": ""
           },
           "bgcolor": "#E5ECF6",
           "caxis": {
            "gridcolor": "white",
            "linecolor": "white",
            "ticks": ""
           }
          },
          "title": {
           "x": 0.05
          },
          "xaxis": {
           "automargin": true,
           "gridcolor": "white",
           "linecolor": "white",
           "ticks": "",
           "title": {
            "standoff": 15
           },
           "zerolinecolor": "white",
           "zerolinewidth": 2
          },
          "yaxis": {
           "automargin": true,
           "gridcolor": "white",
           "linecolor": "white",
           "ticks": "",
           "title": {
            "standoff": 15
           },
           "zerolinecolor": "white",
           "zerolinewidth": 2
          }
         }
        }
       }
      }
     },
     "metadata": {},
     "output_type": "display_data"
    }
   ],
   "source": [
    "# figure creation + surface plot\n",
    "fig = go.Figure()#data=go.Surface(x=X,\n",
    "                  #              y=Y,\n",
    "                   #             z=Z))\n",
    "\n",
    "# plot viewpoint\n",
    "fig.add_trace(go.Scatter3d(x=[ph[0]],\n",
    "                           y=[ph[1]],\n",
    "                           z=[ph[2]]))\n",
    "\n",
    "# plot sample points\n",
    "for i in range(s.shape[2]):\n",
    "  fig.add_trace(go.Scatter3d(x=s[i, 0],\n",
    "                             y=s[i, 1],\n",
    "                             z=s[i, 2]))\n",
    "  for j in range(s.shape[0]):\n",
    "    # plot sample vectors\n",
    "    fig.add_trace(go.Scatter3d(x=[ph[0], s[j, 0, i]],\n",
    "                               y=[ph[1], s[j, 1, i]],\n",
    "                               z=[ph[2], s[j, 2, i]],\n",
    "                               line=dict(color='rgba(0, 0, 255, 0.2)',\n",
    "                                         width=2),\n",
    "                               marker={'opacity': 0}))\n",
    "\n",
    "\n",
    "# plot mean vector\n",
    "fig.add_trace(go.Scatter3d(x=[ph[0], ph_v[0]],\n",
    "                           y=[ph[1], ph_v[1]],\n",
    "                           z=[ph[2], ph_v[2]],\n",
    "                           line=dict(color='green',\n",
    "                                     width=2)))\n",
    "\n",
    "#fig.add_trace(go.Scatter3d(x=[0], y=[0], z=[0]))\n",
    "\n",
    "fig.show()\n"
   ]
  },
  {
   "cell_type": "code",
   "execution_count": 60,
   "metadata": {
    "colab": {
     "base_uri": "https://localhost:8080/"
    },
    "id": "m2gKiY2t_hry",
    "outputId": "c204dcf6-cdf0-4b5a-91e9-594227015867"
   },
   "outputs": [],
   "source": [
    "## 2D Projection example\n",
    "\n",
    "# pinhole = 7\n",
    "\n",
    "# a = np.array([15, 5])\n",
    "\n",
    "# hyp = np.linalg.norm(a)\n",
    "# theta = np.arcsin(a[1] / hyp)\n",
    "\n",
    "# theta = theta * -1\n",
    "\n",
    "# o = pinhole * np.tan(theta)\n",
    "# print(o)\n"
   ]
  },
  {
   "cell_type": "code",
   "execution_count": 61,
   "metadata": {
    "id": "kg1keEDvZJoL"
   },
   "outputs": [],
   "source": [
    "## 2D reference frame rotation example from PINHOLE>WORLD. See notebook.\n",
    "#  In practice this will be performed WORLD>PINHOLE, and will be on an entire matrix of 3D points\n",
    "\n",
    "# px = 3\n",
    "# py = 15\n",
    "# point = np.array([px, py])\n",
    "# hyp = np.linalg.norm(point)\n",
    "# x = np.arctan(3/15)\n",
    "\n",
    "# x_dash = x + (np.pi/4)\n",
    "# opposite = hyp * np.sin(x_dash)\n",
    "# adjacent = hyp * np.cos(x_dash)\n",
    "# px_dash = opposite\n",
    "# py_dash = adjacent\n",
    "# print(px_dash)\n",
    "# print(py_dash)"
   ]
  },
  {
   "cell_type": "code",
   "execution_count": 62,
   "metadata": {
    "colab": {
     "base_uri": "https://localhost:8080/"
    },
    "id": "98594z-uAc5i",
    "outputId": "fcc46a6a-ecf0-4c8b-f00f-9fc53302c575"
   },
   "outputs": [
    {
     "name": "stdout",
     "output_type": "stream",
     "text": [
      "phi_z:  2.4227626539681686\n",
      "phi_x:  -1.0822617378664598\n",
      "[-13.         -11.88888889 -10.77777778  -9.66666667  -8.55555556\n",
      "  -7.44444444  -6.33333333  -5.22222222  -4.11111111  -3.        ]\n",
      "\n",
      "[-7.33333333 -7.33333333 -7.33333333 -7.33333333 -7.33333333 -7.33333333\n",
      " -7.33333333 -7.33333333 -7.33333333 -7.33333333]\n",
      "\n",
      "[-42.77777778 -32.90123457 -25.49382716 -20.55555556 -18.08641975\n",
      " -18.08641975 -20.55555556 -25.49382716 -32.90123457 -42.77777778]\n",
      "\n",
      "[ 1.29610431  0.45990798 -0.37628835 -1.21248467 -2.048681   -2.88487733\n",
      " -3.72107366 -4.55726998 -5.39346631 -6.22966264]\n",
      "\n",
      "[57.24541635 48.18081837 41.29652056 36.59252293 34.06882548 33.7254282\n",
      " 35.5623311  39.57953417 45.77703743 54.15484085]\n",
      "\n",
      "[ -9.7468644   -5.75756461  -2.92711026  -1.25550135  -0.74273788\n",
      "  -1.38881986  -3.19374727  -6.15752011 -10.2801384  -15.56160213]\n"
     ]
    }
   ],
   "source": [
    "## Reference frame conversion WORLD>PINHOLD\n",
    "\n",
    "# 1. Origin translation\n",
    "s_wt = s - ph[:, np.newaxis]\n",
    "s_ph = np.empty(s_wt.shape)\n",
    "\n",
    "# 2. Determine axis rotation required\n",
    "  # 2.2. Calculate camera orientation unit vector\n",
    "ph_u = (ph_v - ph) #/ np.linalg.norm(ph_v - ph)\n",
    "\n",
    "\n",
    "# 4. Reference frame conversion\n",
    "phi_z = quadrant(ph_u[1], ph_u[0]) - (np.pi / 2)    # 2.6. Caclculate required z rotation/yaw (xy plane)\n",
    "#phi_z = 0\n",
    "print(\"phi_z: \",phi_z)\n",
    "\n",
    "h_xy = np.linalg.norm(s_wt[:, 0:2, :], axis=1)         # 4.2. Calculate hypotenuse of point in the plane\n",
    "theta_xy = quadrant(s_wt[:, 1, :], s_wt[:, 0, :])         # 4.3., 4.4. Calculate angles between axes + rotation\n",
    "r_theta_xy = theta_xy - phi_z\n",
    "\n",
    "  # 4.5. Calculate converted points using new angles\n",
    "s_ph[:, 0, :] = h_xy * np.cos(r_theta_xy)              # rotated x coordinates\n",
    "s_ph[:, 1, :] = h_xy * np.sin(r_theta_xy)              # rotated y coordinates\n",
    "s_ph[:, 2, :] = s_wt[:, 2, :]                             # z values have't changed yet\n",
    "\n",
    "\n",
    "\n",
    "h_xy_ph_u = np.linalg.norm(ph_u[0:2])\n",
    "\n",
    "phi_x = quadrant(ph_u[2], h_xy_ph_u)                  # 2.6. Caclculate required x rotation/pitch (yz plane)\n",
    "#phi_x = 0\n",
    "print(\"phi_x: \",phi_x)\n",
    "\n",
    "h_yz = np.linalg.norm(s_ph[:, 1:, :], axis=1)          # 4.2. Calculate hypotenuse of point in the plane\n",
    "theta_yz = quadrant(s_ph[:, 2, :], s_ph[:, 1, :])         # 4.3., 4.4. Calculate angles between axes + rotation\n",
    "r_theta_yz = theta_yz - phi_x\n",
    "\n",
    "  # 4.5. Calculate converted points using new angles\n",
    "s_ph[:, 1, :] = h_yz * np.cos(r_theta_yz)              # rotated y coordinates\n",
    "s_ph[:, 2, :] = h_yz * np.sin(r_theta_yz)              # rotated z coordinates\n",
    "\n",
    "#h_xz = np.linalg.norm(np.vstack((s_wt[0, :], s_wt[2, :])), axis=0)\n",
    "#theta_zxz = quadrant(s_wt[2, :], s_wt[0, :])\n",
    "\n",
    "\n",
    "\n",
    "\n",
    "axis_length = 4\n",
    "axes = np.array([[axis_length, 0.01, 0.01], [0.01, axis_length, 0.01], [0.01, 0.01, axis_length]])\n",
    "axes_ph = np.empty(axes.shape)\n",
    "\n",
    "h_ax_yz = np.linalg.norm(axes[1:, :], axis=0)\n",
    "r_ax_theta_yz = quadrant(axes[2, :], axes[1, :]) + phi_x\n",
    "\n",
    "axes_ph[0, :] = axes[0, :]\n",
    "axes_ph[1, :] = h_ax_yz * np.cos(r_ax_theta_yz)\n",
    "axes_ph[2, :] = h_ax_yz * np.sin(r_ax_theta_yz)\n",
    "\n",
    "\n",
    "h_ax_xy = np.linalg.norm(axes_ph[0:2, :], axis=0)\n",
    "r_ax_theta_xy = quadrant(axes_ph[1, :], axes_ph[0, :]) + phi_z\n",
    "\n",
    "axes_ph[0, :] = h_ax_xy * np.cos(r_ax_theta_xy)\n",
    "axes_ph[1, :] = h_ax_xy * np.sin(r_ax_theta_xy)\n",
    "\n",
    "print(s_wt[6, 0])\n",
    "print()\n",
    "print(s_wt[6, 1])\n",
    "print()\n",
    "print(s_wt[6, 2])\n",
    "\n",
    "print()\n",
    "\n",
    "k = 1\n",
    "print(s_ph[k, 0])\n",
    "print()\n",
    "print(s_ph[k, 1])\n",
    "print()\n",
    "print(s_ph[k, 2])"
   ]
  },
  {
   "cell_type": "code",
   "execution_count": 63,
   "metadata": {
    "colab": {
     "base_uri": "https://localhost:8080/",
     "height": 1000
    },
    "id": "cxLtQVX8qJcx",
    "outputId": "7a0e6543-7727-4d64-fd84-f7326e3be515"
   },
   "outputs": [
    {
     "data": {
      "application/vnd.plotly.v1+json": {
       "config": {
        "plotlyServerURL": "https://plot.ly"
       },
       "data": [
        {
         "type": "scatter3d",
         "x": {
          "bdata": "AAAAAAAAKsByHMdxHMcnwOQ4juM4jiXAVVVVVVVVI8DHcRzHcRwhwHIcx3Ecxx3AVVVVVVVVGcA4juM4juMUwBzHcRzHcRDAAAAAAAAACMA=",
          "dtype": "f8"
         },
         "y": {
          "bdata": "AAAAAAAALMAAAAAAAAAswAAAAAAAACzAAAAAAAAALMAAAAAAAAAswAAAAAAAACzAAAAAAAAALMAAAAAAAAAswAAAAAAAACzAAAAAAAAALMA=",
          "dtype": "f8"
         },
         "z": {
          "bdata": "AAAAAABAUMBSBp5uzY9LwBCLlIGn20fAOY7jOI5jRcDOD4uUgSdEwM4Pi5SBJ0TAOY7jOI5jRcAQi5SBp9tHwFIGnm7Nj0vAAAAAAABAUMA=",
          "dtype": "f8"
         }
        },
        {
         "type": "scatter3d",
         "x": {
          "bdata": "AAAAAAAAKsByHMdxHMcnwOQ4juM4jiXAVVVVVVVVI8DHcRzHcRwhwHIcx3Ecxx3AVVVVVVVVGcA4juM4juMUwBzHcRzHcRDAAAAAAAAACMA=",
          "dtype": "f8"
         },
         "y": {
          "bdata": "chzHcRzHKcByHMdxHMcpwHIcx3EcxynAchzHcRzHKcByHMdxHMcpwHIcx3EcxynAchzHcRzHKcByHMdxHMcpwHIcx3EcxynAchzHcRzHKcA=",
          "dtype": "f8"
         },
         "z": {
          "bdata": "Ugaebs2PS8CkDDzdmp9GwGKRMvB060LAi5SBp1tzQMA/LFIGnm4+wD8sUgaebj7Ai5SBp1tzQMBikTLwdOtCwKQMPN2an0bAUgaebs2PS8A=",
          "dtype": "f8"
         }
        },
        {
         "type": "scatter3d",
         "x": {
          "bdata": "AAAAAAAAKsByHMdxHMcnwOQ4juM4jiXAVVVVVVVVI8DHcRzHcRwhwHIcx3Ecxx3AVVVVVVVVGcA4juM4juMUwBzHcRzHcRDAAAAAAAAACMA=",
          "dtype": "f8"
         },
         "y": {
          "bdata": "5DiO4ziOJ8DkOI7jOI4nwOQ4juM4jifA5DiO4ziOJ8DkOI7jOI4nwOQ4juM4jifA5DiO4ziOJ8DkOI7jOI4nwOQ4juM4jifA5DiO4ziOJ8A=",
          "dtype": "f8"
         },
         "z": {
          "bdata": "EIuUgafbR8BikTLwdOtCwD8sUgaebj7AkTLwdGt+OcC6NT8sUgY3wLo1PyxSBjfAkjLwdGt+OcBALFIGnm4+wGKRMvB060LAEIuUgafbR8A=",
          "dtype": "f8"
         }
        },
        {
         "type": "scatter3d",
         "x": {
          "bdata": "AAAAAAAAKsByHMdxHMcnwOQ4juM4jiXAVVVVVVVVI8DHcRzHcRwhwHIcx3Ecxx3AVVVVVVVVGcA4juM4juMUwBzHcRzHcRDAAAAAAAAACMA=",
          "dtype": "f8"
         },
         "y": {
          "bdata": "VVVVVVVVJcBVVVVVVVUlwFVVVVVVVSXAVVVVVVVVJcBVVVVVVVUlwFVVVVVVVSXAVVVVVVVVJcBVVVVVVVUlwFVVVVVVVSXAVVVVVVVVJcA=",
          "dtype": "f8"
         },
         "z": {
          "bdata": "OY7jOI5jRcCLlIGnW3NAwJEy8HRrfjnA4ziO4ziONMAMPN2aHxYywAw83ZofFjLA5DiO4ziONMCSMvB0a345wIyUgadbc0DAOY7jOI5jRcA=",
          "dtype": "f8"
         }
        },
        {
         "type": "scatter3d",
         "x": {
          "bdata": "AAAAAAAAKsByHMdxHMcnwOQ4juM4jiXAVVVVVVVVI8DHcRzHcRwhwHIcx3Ecxx3AVVVVVVVVGcA4juM4juMUwBzHcRzHcRDAAAAAAAAACMA=",
          "dtype": "f8"
         },
         "y": {
          "bdata": "x3Ecx3EcI8DHcRzHcRwjwMdxHMdxHCPAx3Ecx3EcI8DHcRzHcRwjwMdxHMdxHCPAx3Ecx3EcI8DHcRzHcRwjwMdxHMdxHCPAx3Ecx3EcI8A=",
          "dtype": "f8"
         },
         "z": {
          "bdata": "zg+LlIEnRMA/LFIGnm4+wLo1PyxSBjfADDzdmh8WMsBrflikDDwvwGt+WKQMPC/ADTzdmh8WMsC8NT8sUgY3wEAsUgaebj7Azg+LlIEnRMA=",
          "dtype": "f8"
         }
        },
        {
         "type": "scatter3d",
         "x": {
          "bdata": "AAAAAAAAKsByHMdxHMcnwOQ4juM4jiXAVVVVVVVVI8DHcRzHcRwhwHIcx3Ecxx3AVVVVVVVVGcA4juM4juMUwBzHcRzHcRDAAAAAAAAACMA=",
          "dtype": "f8"
         },
         "y": {
          "bdata": "OY7jOI7jIMA5juM4juMgwDmO4ziO4yDAOY7jOI7jIMA5juM4juMgwDmO4ziO4yDAOY7jOI7jIMA5juM4juMgwDmO4ziO4yDAOY7jOI7jIMA=",
          "dtype": "f8"
         },
         "z": {
          "bdata": "zg+LlIEnRMA/LFIGnm4+wLo1PyxSBjfADDzdmh8WMsBrflikDDwvwGt+WKQMPC/ADTzdmh8WMsC8NT8sUgY3wEAsUgaebj7Azg+LlIEnRMA=",
          "dtype": "f8"
         }
        },
        {
         "type": "scatter3d",
         "x": {
          "bdata": "AAAAAAAAKsByHMdxHMcnwOQ4juM4jiXAVVVVVVVVI8DHcRzHcRwhwHIcx3Ecxx3AVVVVVVVVGcA4juM4juMUwBzHcRzHcRDAAAAAAAAACMA=",
          "dtype": "f8"
         },
         "y": {
          "bdata": "VVVVVVVVHcBVVVVVVVUdwFVVVVVVVR3AVVVVVVVVHcBVVVVVVVUdwFVVVVVVVR3AVVVVVVVVHcBVVVVVVVUdwFVVVVVVVR3AVVVVVVVVHcA=",
          "dtype": "f8"
         },
         "z": {
          "bdata": "OY7jOI5jRcCLlIGnW3NAwJIy8HRrfjnA5DiO4ziONMANPN2aHxYywA083ZofFjLA5DiO4ziONMCTMvB0a345wIyUgadbc0DAOY7jOI5jRcA=",
          "dtype": "f8"
         }
        },
        {
         "type": "scatter3d",
         "x": {
          "bdata": "AAAAAAAAKsByHMdxHMcnwOQ4juM4jiXAVVVVVVVVI8DHcRzHcRwhwHIcx3Ecxx3AVVVVVVVVGcA4juM4juMUwBzHcRzHcRDAAAAAAAAACMA=",
          "dtype": "f8"
         },
         "y": {
          "bdata": "OI7jOI7jGMA4juM4juMYwDiO4ziO4xjAOI7jOI7jGMA4juM4juMYwDiO4ziO4xjAOI7jOI7jGMA4juM4juMYwDiO4ziO4xjAOI7jOI7jGMA=",
          "dtype": "f8"
         },
         "z": {
          "bdata": "EIuUgafbR8BikTLwdOtCwEAsUgaebj7AkjLwdGt+OcC8NT8sUgY3wLw1PyxSBjfAkzLwdGt+OcBCLFIGnm4+wGORMvB060LAEIuUgafbR8A=",
          "dtype": "f8"
         }
        },
        {
         "type": "scatter3d",
         "x": {
          "bdata": "AAAAAAAAKsByHMdxHMcnwOQ4juM4jiXAVVVVVVVVI8DHcRzHcRwhwHIcx3Ecxx3AVVVVVVVVGcA4juM4juMUwBzHcRzHcRDAAAAAAAAACMA=",
          "dtype": "f8"
         },
         "y": {
          "bdata": "HMdxHMdxFMAcx3Ecx3EUwBzHcRzHcRTAHMdxHMdxFMAcx3Ecx3EUwBzHcRzHcRTAHMdxHMdxFMAcx3Ecx3EUwBzHcRzHcRTAHMdxHMdxFMA=",
          "dtype": "f8"
         },
         "z": {
          "bdata": "Ugaebs2PS8CkDDzdmp9GwGKRMvB060LAjJSBp1tzQMBALFIGnm4+wEAsUgaebj7AjJSBp1tzQMBjkTLwdOtCwKUMPN2an0bAUgaebs2PS8A=",
          "dtype": "f8"
         }
        },
        {
         "type": "scatter3d",
         "x": {
          "bdata": "AAAAAAAAKsByHMdxHMcnwOQ4juM4jiXAVVVVVVVVI8DHcRzHcRwhwHIcx3Ecxx3AVVVVVVVVGcA4juM4juMUwBzHcRzHcRDAAAAAAAAACMA=",
          "dtype": "f8"
         },
         "y": {
          "bdata": "AAAAAAAAEMAAAAAAAAAQwAAAAAAAABDAAAAAAAAAEMAAAAAAAAAQwAAAAAAAABDAAAAAAAAAEMAAAAAAAAAQwAAAAAAAABDAAAAAAAAAEMA=",
          "dtype": "f8"
         },
         "z": {
          "bdata": "AAAAAABAUMBSBp5uzY9LwBCLlIGn20fAOY7jOI5jRcDOD4uUgSdEwM4Pi5SBJ0TAOY7jOI5jRcAQi5SBp9tHwFIGnm7Nj0vAAAAAAABAUMA=",
          "dtype": "f8"
         }
        },
        {
         "type": "scatter3d",
         "x": [
          0
         ],
         "y": [
          0
         ],
         "z": [
          0
         ]
        },
        {
         "line": {
          "color": "red",
          "width": 3
         },
         "marker": {
          "opacity": 0
         },
         "name": "x-axis",
         "type": "scatter3d",
         "x": [
          0,
          4
         ],
         "y": [
          0,
          0.01
         ],
         "z": [
          0,
          0.01
         ]
        },
        {
         "line": {
          "color": "green",
          "width": 3
         },
         "marker": {
          "opacity": 0
         },
         "name": "y-axis",
         "type": "scatter3d",
         "x": [
          0,
          0.01
         ],
         "y": [
          0,
          4
         ],
         "z": [
          0,
          0.01
         ]
        },
        {
         "line": {
          "color": "blue",
          "width": 3
         },
         "marker": {
          "opacity": 0
         },
         "name": "z-axis",
         "type": "scatter3d",
         "x": [
          0,
          0.01
         ],
         "y": [
          0,
          0.01
         ],
         "z": [
          0,
          4
         ]
        },
        {
         "line": {
          "color": "cyan",
          "width": 3
         },
         "marker": {
          "opacity": 0
         },
         "name": "ph_u",
         "type": "scatter3d",
         "x": [
          0,
          -7
         ],
         "y": [
          0,
          -8
         ],
         "z": [
          0,
          -20
         ]
        }
       ],
       "layout": {
        "scene": {
         "aspectmode": "cube",
         "aspectratio": {
          "x": 1,
          "y": 1,
          "z": 1
         },
         "camera": {
          "center": {
           "x": 0,
           "y": 0,
           "z": 0
          },
          "eye": {
           "x": 1,
           "y": 1,
           "z": 1
          },
          "up": {
           "x": 0,
           "y": 0,
           "z": 1
          }
         }
        },
        "template": {
         "data": {
          "bar": [
           {
            "error_x": {
             "color": "#2a3f5f"
            },
            "error_y": {
             "color": "#2a3f5f"
            },
            "marker": {
             "line": {
              "color": "#E5ECF6",
              "width": 0.5
             },
             "pattern": {
              "fillmode": "overlay",
              "size": 10,
              "solidity": 0.2
             }
            },
            "type": "bar"
           }
          ],
          "barpolar": [
           {
            "marker": {
             "line": {
              "color": "#E5ECF6",
              "width": 0.5
             },
             "pattern": {
              "fillmode": "overlay",
              "size": 10,
              "solidity": 0.2
             }
            },
            "type": "barpolar"
           }
          ],
          "carpet": [
           {
            "aaxis": {
             "endlinecolor": "#2a3f5f",
             "gridcolor": "white",
             "linecolor": "white",
             "minorgridcolor": "white",
             "startlinecolor": "#2a3f5f"
            },
            "baxis": {
             "endlinecolor": "#2a3f5f",
             "gridcolor": "white",
             "linecolor": "white",
             "minorgridcolor": "white",
             "startlinecolor": "#2a3f5f"
            },
            "type": "carpet"
           }
          ],
          "choropleth": [
           {
            "colorbar": {
             "outlinewidth": 0,
             "ticks": ""
            },
            "type": "choropleth"
           }
          ],
          "contour": [
           {
            "colorbar": {
             "outlinewidth": 0,
             "ticks": ""
            },
            "colorscale": [
             [
              0,
              "#0d0887"
             ],
             [
              0.1111111111111111,
              "#46039f"
             ],
             [
              0.2222222222222222,
              "#7201a8"
             ],
             [
              0.3333333333333333,
              "#9c179e"
             ],
             [
              0.4444444444444444,
              "#bd3786"
             ],
             [
              0.5555555555555556,
              "#d8576b"
             ],
             [
              0.6666666666666666,
              "#ed7953"
             ],
             [
              0.7777777777777778,
              "#fb9f3a"
             ],
             [
              0.8888888888888888,
              "#fdca26"
             ],
             [
              1,
              "#f0f921"
             ]
            ],
            "type": "contour"
           }
          ],
          "contourcarpet": [
           {
            "colorbar": {
             "outlinewidth": 0,
             "ticks": ""
            },
            "type": "contourcarpet"
           }
          ],
          "heatmap": [
           {
            "colorbar": {
             "outlinewidth": 0,
             "ticks": ""
            },
            "colorscale": [
             [
              0,
              "#0d0887"
             ],
             [
              0.1111111111111111,
              "#46039f"
             ],
             [
              0.2222222222222222,
              "#7201a8"
             ],
             [
              0.3333333333333333,
              "#9c179e"
             ],
             [
              0.4444444444444444,
              "#bd3786"
             ],
             [
              0.5555555555555556,
              "#d8576b"
             ],
             [
              0.6666666666666666,
              "#ed7953"
             ],
             [
              0.7777777777777778,
              "#fb9f3a"
             ],
             [
              0.8888888888888888,
              "#fdca26"
             ],
             [
              1,
              "#f0f921"
             ]
            ],
            "type": "heatmap"
           }
          ],
          "histogram": [
           {
            "marker": {
             "pattern": {
              "fillmode": "overlay",
              "size": 10,
              "solidity": 0.2
             }
            },
            "type": "histogram"
           }
          ],
          "histogram2d": [
           {
            "colorbar": {
             "outlinewidth": 0,
             "ticks": ""
            },
            "colorscale": [
             [
              0,
              "#0d0887"
             ],
             [
              0.1111111111111111,
              "#46039f"
             ],
             [
              0.2222222222222222,
              "#7201a8"
             ],
             [
              0.3333333333333333,
              "#9c179e"
             ],
             [
              0.4444444444444444,
              "#bd3786"
             ],
             [
              0.5555555555555556,
              "#d8576b"
             ],
             [
              0.6666666666666666,
              "#ed7953"
             ],
             [
              0.7777777777777778,
              "#fb9f3a"
             ],
             [
              0.8888888888888888,
              "#fdca26"
             ],
             [
              1,
              "#f0f921"
             ]
            ],
            "type": "histogram2d"
           }
          ],
          "histogram2dcontour": [
           {
            "colorbar": {
             "outlinewidth": 0,
             "ticks": ""
            },
            "colorscale": [
             [
              0,
              "#0d0887"
             ],
             [
              0.1111111111111111,
              "#46039f"
             ],
             [
              0.2222222222222222,
              "#7201a8"
             ],
             [
              0.3333333333333333,
              "#9c179e"
             ],
             [
              0.4444444444444444,
              "#bd3786"
             ],
             [
              0.5555555555555556,
              "#d8576b"
             ],
             [
              0.6666666666666666,
              "#ed7953"
             ],
             [
              0.7777777777777778,
              "#fb9f3a"
             ],
             [
              0.8888888888888888,
              "#fdca26"
             ],
             [
              1,
              "#f0f921"
             ]
            ],
            "type": "histogram2dcontour"
           }
          ],
          "mesh3d": [
           {
            "colorbar": {
             "outlinewidth": 0,
             "ticks": ""
            },
            "type": "mesh3d"
           }
          ],
          "parcoords": [
           {
            "line": {
             "colorbar": {
              "outlinewidth": 0,
              "ticks": ""
             }
            },
            "type": "parcoords"
           }
          ],
          "pie": [
           {
            "automargin": true,
            "type": "pie"
           }
          ],
          "scatter": [
           {
            "fillpattern": {
             "fillmode": "overlay",
             "size": 10,
             "solidity": 0.2
            },
            "type": "scatter"
           }
          ],
          "scatter3d": [
           {
            "line": {
             "colorbar": {
              "outlinewidth": 0,
              "ticks": ""
             }
            },
            "marker": {
             "colorbar": {
              "outlinewidth": 0,
              "ticks": ""
             }
            },
            "type": "scatter3d"
           }
          ],
          "scattercarpet": [
           {
            "marker": {
             "colorbar": {
              "outlinewidth": 0,
              "ticks": ""
             }
            },
            "type": "scattercarpet"
           }
          ],
          "scattergeo": [
           {
            "marker": {
             "colorbar": {
              "outlinewidth": 0,
              "ticks": ""
             }
            },
            "type": "scattergeo"
           }
          ],
          "scattergl": [
           {
            "marker": {
             "colorbar": {
              "outlinewidth": 0,
              "ticks": ""
             }
            },
            "type": "scattergl"
           }
          ],
          "scattermap": [
           {
            "marker": {
             "colorbar": {
              "outlinewidth": 0,
              "ticks": ""
             }
            },
            "type": "scattermap"
           }
          ],
          "scattermapbox": [
           {
            "marker": {
             "colorbar": {
              "outlinewidth": 0,
              "ticks": ""
             }
            },
            "type": "scattermapbox"
           }
          ],
          "scatterpolar": [
           {
            "marker": {
             "colorbar": {
              "outlinewidth": 0,
              "ticks": ""
             }
            },
            "type": "scatterpolar"
           }
          ],
          "scatterpolargl": [
           {
            "marker": {
             "colorbar": {
              "outlinewidth": 0,
              "ticks": ""
             }
            },
            "type": "scatterpolargl"
           }
          ],
          "scatterternary": [
           {
            "marker": {
             "colorbar": {
              "outlinewidth": 0,
              "ticks": ""
             }
            },
            "type": "scatterternary"
           }
          ],
          "surface": [
           {
            "colorbar": {
             "outlinewidth": 0,
             "ticks": ""
            },
            "colorscale": [
             [
              0,
              "#0d0887"
             ],
             [
              0.1111111111111111,
              "#46039f"
             ],
             [
              0.2222222222222222,
              "#7201a8"
             ],
             [
              0.3333333333333333,
              "#9c179e"
             ],
             [
              0.4444444444444444,
              "#bd3786"
             ],
             [
              0.5555555555555556,
              "#d8576b"
             ],
             [
              0.6666666666666666,
              "#ed7953"
             ],
             [
              0.7777777777777778,
              "#fb9f3a"
             ],
             [
              0.8888888888888888,
              "#fdca26"
             ],
             [
              1,
              "#f0f921"
             ]
            ],
            "type": "surface"
           }
          ],
          "table": [
           {
            "cells": {
             "fill": {
              "color": "#EBF0F8"
             },
             "line": {
              "color": "white"
             }
            },
            "header": {
             "fill": {
              "color": "#C8D4E3"
             },
             "line": {
              "color": "white"
             }
            },
            "type": "table"
           }
          ]
         },
         "layout": {
          "annotationdefaults": {
           "arrowcolor": "#2a3f5f",
           "arrowhead": 0,
           "arrowwidth": 1
          },
          "autotypenumbers": "strict",
          "coloraxis": {
           "colorbar": {
            "outlinewidth": 0,
            "ticks": ""
           }
          },
          "colorscale": {
           "diverging": [
            [
             0,
             "#8e0152"
            ],
            [
             0.1,
             "#c51b7d"
            ],
            [
             0.2,
             "#de77ae"
            ],
            [
             0.3,
             "#f1b6da"
            ],
            [
             0.4,
             "#fde0ef"
            ],
            [
             0.5,
             "#f7f7f7"
            ],
            [
             0.6,
             "#e6f5d0"
            ],
            [
             0.7,
             "#b8e186"
            ],
            [
             0.8,
             "#7fbc41"
            ],
            [
             0.9,
             "#4d9221"
            ],
            [
             1,
             "#276419"
            ]
           ],
           "sequential": [
            [
             0,
             "#0d0887"
            ],
            [
             0.1111111111111111,
             "#46039f"
            ],
            [
             0.2222222222222222,
             "#7201a8"
            ],
            [
             0.3333333333333333,
             "#9c179e"
            ],
            [
             0.4444444444444444,
             "#bd3786"
            ],
            [
             0.5555555555555556,
             "#d8576b"
            ],
            [
             0.6666666666666666,
             "#ed7953"
            ],
            [
             0.7777777777777778,
             "#fb9f3a"
            ],
            [
             0.8888888888888888,
             "#fdca26"
            ],
            [
             1,
             "#f0f921"
            ]
           ],
           "sequentialminus": [
            [
             0,
             "#0d0887"
            ],
            [
             0.1111111111111111,
             "#46039f"
            ],
            [
             0.2222222222222222,
             "#7201a8"
            ],
            [
             0.3333333333333333,
             "#9c179e"
            ],
            [
             0.4444444444444444,
             "#bd3786"
            ],
            [
             0.5555555555555556,
             "#d8576b"
            ],
            [
             0.6666666666666666,
             "#ed7953"
            ],
            [
             0.7777777777777778,
             "#fb9f3a"
            ],
            [
             0.8888888888888888,
             "#fdca26"
            ],
            [
             1,
             "#f0f921"
            ]
           ]
          },
          "colorway": [
           "#636efa",
           "#EF553B",
           "#00cc96",
           "#ab63fa",
           "#FFA15A",
           "#19d3f3",
           "#FF6692",
           "#B6E880",
           "#FF97FF",
           "#FECB52"
          ],
          "font": {
           "color": "#2a3f5f"
          },
          "geo": {
           "bgcolor": "white",
           "lakecolor": "white",
           "landcolor": "#E5ECF6",
           "showlakes": true,
           "showland": true,
           "subunitcolor": "white"
          },
          "hoverlabel": {
           "align": "left"
          },
          "hovermode": "closest",
          "mapbox": {
           "style": "light"
          },
          "paper_bgcolor": "white",
          "plot_bgcolor": "#E5ECF6",
          "polar": {
           "angularaxis": {
            "gridcolor": "white",
            "linecolor": "white",
            "ticks": ""
           },
           "bgcolor": "#E5ECF6",
           "radialaxis": {
            "gridcolor": "white",
            "linecolor": "white",
            "ticks": ""
           }
          },
          "scene": {
           "xaxis": {
            "backgroundcolor": "#E5ECF6",
            "gridcolor": "white",
            "gridwidth": 2,
            "linecolor": "white",
            "showbackground": true,
            "ticks": "",
            "zerolinecolor": "white"
           },
           "yaxis": {
            "backgroundcolor": "#E5ECF6",
            "gridcolor": "white",
            "gridwidth": 2,
            "linecolor": "white",
            "showbackground": true,
            "ticks": "",
            "zerolinecolor": "white"
           },
           "zaxis": {
            "backgroundcolor": "#E5ECF6",
            "gridcolor": "white",
            "gridwidth": 2,
            "linecolor": "white",
            "showbackground": true,
            "ticks": "",
            "zerolinecolor": "white"
           }
          },
          "shapedefaults": {
           "line": {
            "color": "#2a3f5f"
           }
          },
          "ternary": {
           "aaxis": {
            "gridcolor": "white",
            "linecolor": "white",
            "ticks": ""
           },
           "baxis": {
            "gridcolor": "white",
            "linecolor": "white",
            "ticks": ""
           },
           "bgcolor": "#E5ECF6",
           "caxis": {
            "gridcolor": "white",
            "linecolor": "white",
            "ticks": ""
           }
          },
          "title": {
           "x": 0.05
          },
          "xaxis": {
           "automargin": true,
           "gridcolor": "white",
           "linecolor": "white",
           "ticks": "",
           "title": {
            "standoff": 15
           },
           "zerolinecolor": "white",
           "zerolinewidth": 2
          },
          "yaxis": {
           "automargin": true,
           "gridcolor": "white",
           "linecolor": "white",
           "ticks": "",
           "title": {
            "standoff": 15
           },
           "zerolinecolor": "white",
           "zerolinewidth": 2
          }
         }
        }
       }
      }
     },
     "metadata": {},
     "output_type": "display_data"
    },
    {
     "data": {
      "application/vnd.plotly.v1+json": {
       "config": {
        "plotlyServerURL": "https://plot.ly"
       },
       "data": [
        {
         "type": "scatter3d",
         "x": {
          "bdata": "kvJTytQP4j9QZTQFlGTRv7srxGc0uvG/Iz47zkMb/79wKFmaKT4GwJaxlE2x7gzAcR1ogJzPEcAU4gVa4CcVwLGmozMkgBjAVWtBDWjYG8A=",
          "dtype": "f8"
         },
         "y": {
          "bdata": "EgFOBfuWUEBwcHRLsaVMQAUTzZ+ANElA5emlB2TaRkAN9f6CW5dFQH802BFna0VAOqgxtIZWRkA/UAtqulhIQIwsZTMCcktAJD0/EF6iT0A=",
          "dtype": "f8"
         },
         "z": {
          "bdata": "FIZi56hJK8DaPvNmI08jwOMdBi7kSxvAv+wj7ymcFMA66j8RGI8SwFsWWpSuJBXAHnFyeO1cHMBDfcRe6hskwEnZzjGyWizAVCasGmd1M8A=",
          "dtype": "f8"
         }
        },
        {
         "type": "scatter3d",
         "x": {
          "bdata": "jCnS3te89D/tW2zhIW/dP37ub7gbFdi/EA6TVFZm879REIXdsmMAwI2ZwJA6FAfA1yL8Q8LEDcAC1pv7pDoSwKOaOdXokhXATV/XrizrGMA=",
          "dtype": "f8"
         },
         "y": {
          "bdata": "f3mTzWmfTEDM52sOJRdIQGGKxGL0pURAQWGdytdLQkBqbPZFzwhBQNurz9Ta3EBAlh8pd/rHQUCbxwItLspDQOmjXPZ140ZAgLQ209ETS0A=",
          "dtype": "f8"
         },
         "z": {
          "bdata": "t6+ZAmV+I8D90FQEvwcXwF/i6Mi4agfAEgBJlogW9L8G7HE9gsTnv4CmISubOPa/y4jBXcuMCcDRTffzTKEYwPACBk1ujyTASXaPUIofL8A=",
          "dtype": "f8"
         }
        },
        {
         "type": "scatter3d",
         "x": {
          "bdata": "1Sw9rOI4AEAwRwPytRDzP+HSMC6avtY/unera6PF3r9k8GFBeBL1v3GB7NPDOQHAtwooh0vqB8Dwk2M605oOwJ2Oz3atpRLAOFNtUPH9FcA=",
          "dtype": "f8"
         },
         "y": {
          "bdata": "JiULpPEnSUByk+PkrJ9EQAg2PDl8LkFAzRkqQr+oPUAeMNw4riI7QAGvjlbFyjpAepZBmwShPEBCc3oDtlJAQI9P1Mz9a0NAKGCuqVmcR0A=",
          "dtype": "f8"
         },
         "z": {
          "bdata": "Y+GfnOoIHMDXpYI3vycIwE1jHnyfL8i/LPgEDPW49z9AApWDPO3/P71RLHfilvU/O2XUZGQo3b9+n8cW21oLwNGHeDH9Kh7AQbdFnJqlKcA=",
          "dtype": "f8"
         }
        },
        {
         "type": "scatter3d",
         "x": {
          "bdata": "7UQRaVkTBkBgd6tro8X+P+dkNAWUZPE/o0n1ehIO0D9NgHOPFbviv5bSMC6avva/mPJTytQPAsDce499XMAIwBgFyzDkcA/AJ0cD8rUQE8A=",
          "dtype": "f8"
         },
         "y": {
          "bdata": "FAUDjo3HRkBhc9vOSD9CQO0raEYwnD1Aq9kZFvfnOED878sM5mE2QOBufir9CTZAWFYxbzzgN0BipuTao+Q7QIAvzLaZC0FAFkCmk/U7RUA=",
          "dtype": "f8"
         },
         "z": {
          "bdata": "8JEKlbO3FcDUDbBQogr3v1lx0S7oPvY/9xotleh+CED9H/VQDJkMQMDHwErfbQdAXSQgBcP68T9NAToP2nD9v2Q44ynG2RfAig97GP98JsA=",
          "dtype": "f8"
         }
        },
        {
         "type": "scatter3d",
         "x": {
          "bdata": "El3lJdDtC0C/06lySD0FQBOV3H6BGf0/LAXLMORw7z/IgHOPFbvCPxBFEWlZE+a/57T/Grxq+L/GY7vA5eUCwAPt9nNtlgnAHzuZk3ojEMA=",
          "dtype": "f8"
         },
         "y": {
          "bdata": "Thl7iz1+RUCbh1PM+PVAQGBUWEGQCTtAHQIKEVdVNkBvGLwHRs8zQFKXbiVddzNAyX4hapxNNUDUztTVA1I5QG+HiGiThD9AT1QekaXyQ0A=",
          "dtype": "f8"
         },
         "z": {
          "bdata": "JHFz7iQJFMDVilO2Z1Dwv230Lcki+fw/iVxb4gXcC0CQYSOeKfYPQEYJ75f8ygpAgqd8n/20+D9Aft10n7b2v54XTIM3KxbAKX8vxbelJcA=",
          "dtype": "f8"
         }
        },
        {
         "type": "scatter3d",
         "x": {
          "bdata": "kbpccSPkEEDk630vvxcLQKBiQnw3ZwRAxrINkl9t+z+LQC1XoBjsP+m38aMYaKU/mQmvQp1r6b9Ul84H3hb6v+jUIrf2uwPAIF5ean5sCsA=",
          "dtype": "f8"
         },
         "y": {
          "bdata": "0GFznAFMRUAc0EvdvMNAQGTlSGMYpTpAIZP6Mt/wNUB0qawpzmozQFYoX0flEjNAzQ8SjCTpNEDYX8X3i+04QHMYeYobID9A0ZwWomnAQ0A=",
          "dtype": "f8"
         },
         "z": {
          "bdata": "DH/aqD79FsA3wu+fziD8v/q8kd+7KPE/yUCNbdLzBUDYRVUp9g0KQJXtICPJ4gRACuDAay3J6T/S2jwvg0MBwHYlsz1RHxnAFwZjosQfJ8A=",
          "dtype": "f8"
         }
        },
        {
         "type": "scatter3d",
         "x": {
          "bdata": "oMbGz17RE0D+ASn2GnkQQLx6FjmuQQpAd/HahSaRA0Bn0D6lPcH5P+x7j31cwOg/QUr1ehIOsL8Rzkwc4cPsv5F5nfT/wvu/F0aKrQeSBMA=",
          "dtype": "f8"
         },
         "y": {
          "bdata": "nN7rwNkwRkDoTMQBlahBQPzeOazIbjxAuYzre4+6N0AKo51yfjQ1QO4hUJCV3DRAZAkD1dSyNkBvWbZAPLc6QAYJtenldEBAnBmPxkGlREA=",
          "dtype": "f8"
         },
         "z": {
          "bdata": "hbs/xACUHsAcWsKG6z0NwC1qBhyZZOq/Dh8L2zgZ6z+emRXl48D1PzHSWbET1eY/+IG0t3F28b/sqQOzgzgQwAExjKwJWyDAV6QVsCXrKsA=",
          "dtype": "f8"
         }
        },
        {
         "type": "scatter3d",
         "x": {
          "bdata": "qdIwLpq+FkAHDpNUVmYTQGxJ9XoSDhBAlQmvQp1rCUBMgHOPFbsCQB/ub7gbFfg/NLfxoxho5T+6t/GjGGjFv29J9XoSDvC/6Fts4SFv/b8=",
          "dtype": "f8"
         },
         "y": {
          "bdata": "sY/k+MUsSED8/bw5gaRDQJOgFY5QM0BA4+7c62eyO0A2BY/iViw5QBmEQQBu1DhAkGv0RK2qOkCau6ewFK8+QBu6rSHScEJAscqH/i2hRkA=",
          "dtype": "f8"
         },
         "z": {
          "bdata": "V5NRoLVmJcA3mMQ/YNgawNRwyD/7Cw/Ahw4EwoasAcADE3gMxiT7v8dhcAyQvQLAq4tQ6gaXEMAZFWcv7nEcwJLmveq+dybA96wjd+2DMMA=",
          "dtype": "f8"
         }
        },
        {
         "type": "scatter3d",
         "x": {
          "bdata": "tN6ajNWrGUAWGv2ykVMWQHZVX9lN+xJAqCGD/xNGD0BmmEdMjJUIQCgPDJkE5QFAzAuhy/lo9j+G8lPK1A/iP7tkNAWUZNG/xSvEZzS68b8=",
          "dtype": "f8"
         },
         "y": {
          "bdata": "D3VdRMY/S0Bb4zWFgbdGQPCFjtlQRkNA0FxnQTTsQEDxz4B5V1I/QNZOM5du+j5AJhvz7VZoQEArw8yjimpCQHmfJm3Sg0VAELAASi60SUA=",
          "dtype": "f8"
         },
         "z": {
          "bdata": "OWACD7/ULcAAGZOOOdolwBzpoj4IMSDAEaFjPlayGcCFnn9gRKUXwKvKmePaOhrAvBLZ44y5IMBvV2SGAKcmwHezblnI5S7AZxN8LvK6NMA=",
          "dtype": "f8"
         }
        },
        {
         "type": "scatter3d",
         "x": {
          "bdata": "xOoE6xCZHEAgJmcRzUAZQINhyTeJ6BVA35wrXkWQEkCDsBsJA3AOQEEn4FV7vwdAAZ6kovMOAUB+KdLe17z0P+5bbOEhb90/Ju5vuBsV2L8=",
          "dtype": "f8"
         },
         "y": {
          "bdata": "t45Wo9ppT0AD/S7kleFKQJmfhzhlcEdAd3ZgoEgWRUCggbkbQNNDQBLBkqpLp0NAzDTsTGuSREDT3MUCn5RGQCC5H8zmrUlAt8n5qELeTUA=",
          "dtype": "f8"
         },
         "z": {
          "bdata": "OiIZVw5KNMCcfuGWy0wwwFTN0t1l8CrAvrRhvoiYJ8B8s2/P/5EmwI/J/BDL3CfA8PYIg+p4K8DTHcoSL7MwwNhLT/yS0jTAgwUU/qAaOsA=",
          "dtype": "f8"
         }
        },
        {
         "type": "scatter3d",
         "x": [
          0
         ],
         "y": [
          0
         ],
         "z": [
          0
         ]
        },
        {
         "line": {
          "color": "red",
          "width": 3
         },
         "marker": {
          "opacity": 0
         },
         "name": "x-axis",
         "type": "scatter3d",
         "x": [
          0,
          -3.0192120920633174
         ],
         "y": [
          0,
          2.623840930633151
         ],
         "z": [
          0,
          -0.004136891684004782
         ]
        },
        {
         "line": {
          "color": "green",
          "width": 3
         },
         "marker": {
          "opacity": 0
         },
         "name": "y-axis",
         "type": "scatter3d",
         "x": [
          0,
          -1.2495707046104318
         ],
         "y": [
          0,
          -1.4128948826794432
         ],
         "z": [
          0,
          -3.527392961477021
         ]
        },
        {
         "line": {
          "color": "blue",
          "width": 3
         },
         "marker": {
          "opacity": 0
         },
         "name": "z-axis",
         "type": "scatter3d",
         "x": [
          0,
          -2.3365114368423034
         ],
         "y": [
          0,
          -2.655112862373009
         ],
         "z": [
          0,
          1.8684993961911036
         ]
        }
       ],
       "layout": {
        "scene": {
         "aspectmode": "cube",
         "aspectratio": {
          "x": 1,
          "y": 1,
          "z": 1
         },
         "camera": {
          "center": {
           "x": 0,
           "y": 0,
           "z": 0
          },
          "eye": {
           "x": 1,
           "y": 1,
           "z": 1
          },
          "up": {
           "x": 0,
           "y": 0,
           "z": 1
          }
         }
        },
        "template": {
         "data": {
          "bar": [
           {
            "error_x": {
             "color": "#2a3f5f"
            },
            "error_y": {
             "color": "#2a3f5f"
            },
            "marker": {
             "line": {
              "color": "#E5ECF6",
              "width": 0.5
             },
             "pattern": {
              "fillmode": "overlay",
              "size": 10,
              "solidity": 0.2
             }
            },
            "type": "bar"
           }
          ],
          "barpolar": [
           {
            "marker": {
             "line": {
              "color": "#E5ECF6",
              "width": 0.5
             },
             "pattern": {
              "fillmode": "overlay",
              "size": 10,
              "solidity": 0.2
             }
            },
            "type": "barpolar"
           }
          ],
          "carpet": [
           {
            "aaxis": {
             "endlinecolor": "#2a3f5f",
             "gridcolor": "white",
             "linecolor": "white",
             "minorgridcolor": "white",
             "startlinecolor": "#2a3f5f"
            },
            "baxis": {
             "endlinecolor": "#2a3f5f",
             "gridcolor": "white",
             "linecolor": "white",
             "minorgridcolor": "white",
             "startlinecolor": "#2a3f5f"
            },
            "type": "carpet"
           }
          ],
          "choropleth": [
           {
            "colorbar": {
             "outlinewidth": 0,
             "ticks": ""
            },
            "type": "choropleth"
           }
          ],
          "contour": [
           {
            "colorbar": {
             "outlinewidth": 0,
             "ticks": ""
            },
            "colorscale": [
             [
              0,
              "#0d0887"
             ],
             [
              0.1111111111111111,
              "#46039f"
             ],
             [
              0.2222222222222222,
              "#7201a8"
             ],
             [
              0.3333333333333333,
              "#9c179e"
             ],
             [
              0.4444444444444444,
              "#bd3786"
             ],
             [
              0.5555555555555556,
              "#d8576b"
             ],
             [
              0.6666666666666666,
              "#ed7953"
             ],
             [
              0.7777777777777778,
              "#fb9f3a"
             ],
             [
              0.8888888888888888,
              "#fdca26"
             ],
             [
              1,
              "#f0f921"
             ]
            ],
            "type": "contour"
           }
          ],
          "contourcarpet": [
           {
            "colorbar": {
             "outlinewidth": 0,
             "ticks": ""
            },
            "type": "contourcarpet"
           }
          ],
          "heatmap": [
           {
            "colorbar": {
             "outlinewidth": 0,
             "ticks": ""
            },
            "colorscale": [
             [
              0,
              "#0d0887"
             ],
             [
              0.1111111111111111,
              "#46039f"
             ],
             [
              0.2222222222222222,
              "#7201a8"
             ],
             [
              0.3333333333333333,
              "#9c179e"
             ],
             [
              0.4444444444444444,
              "#bd3786"
             ],
             [
              0.5555555555555556,
              "#d8576b"
             ],
             [
              0.6666666666666666,
              "#ed7953"
             ],
             [
              0.7777777777777778,
              "#fb9f3a"
             ],
             [
              0.8888888888888888,
              "#fdca26"
             ],
             [
              1,
              "#f0f921"
             ]
            ],
            "type": "heatmap"
           }
          ],
          "histogram": [
           {
            "marker": {
             "pattern": {
              "fillmode": "overlay",
              "size": 10,
              "solidity": 0.2
             }
            },
            "type": "histogram"
           }
          ],
          "histogram2d": [
           {
            "colorbar": {
             "outlinewidth": 0,
             "ticks": ""
            },
            "colorscale": [
             [
              0,
              "#0d0887"
             ],
             [
              0.1111111111111111,
              "#46039f"
             ],
             [
              0.2222222222222222,
              "#7201a8"
             ],
             [
              0.3333333333333333,
              "#9c179e"
             ],
             [
              0.4444444444444444,
              "#bd3786"
             ],
             [
              0.5555555555555556,
              "#d8576b"
             ],
             [
              0.6666666666666666,
              "#ed7953"
             ],
             [
              0.7777777777777778,
              "#fb9f3a"
             ],
             [
              0.8888888888888888,
              "#fdca26"
             ],
             [
              1,
              "#f0f921"
             ]
            ],
            "type": "histogram2d"
           }
          ],
          "histogram2dcontour": [
           {
            "colorbar": {
             "outlinewidth": 0,
             "ticks": ""
            },
            "colorscale": [
             [
              0,
              "#0d0887"
             ],
             [
              0.1111111111111111,
              "#46039f"
             ],
             [
              0.2222222222222222,
              "#7201a8"
             ],
             [
              0.3333333333333333,
              "#9c179e"
             ],
             [
              0.4444444444444444,
              "#bd3786"
             ],
             [
              0.5555555555555556,
              "#d8576b"
             ],
             [
              0.6666666666666666,
              "#ed7953"
             ],
             [
              0.7777777777777778,
              "#fb9f3a"
             ],
             [
              0.8888888888888888,
              "#fdca26"
             ],
             [
              1,
              "#f0f921"
             ]
            ],
            "type": "histogram2dcontour"
           }
          ],
          "mesh3d": [
           {
            "colorbar": {
             "outlinewidth": 0,
             "ticks": ""
            },
            "type": "mesh3d"
           }
          ],
          "parcoords": [
           {
            "line": {
             "colorbar": {
              "outlinewidth": 0,
              "ticks": ""
             }
            },
            "type": "parcoords"
           }
          ],
          "pie": [
           {
            "automargin": true,
            "type": "pie"
           }
          ],
          "scatter": [
           {
            "fillpattern": {
             "fillmode": "overlay",
             "size": 10,
             "solidity": 0.2
            },
            "type": "scatter"
           }
          ],
          "scatter3d": [
           {
            "line": {
             "colorbar": {
              "outlinewidth": 0,
              "ticks": ""
             }
            },
            "marker": {
             "colorbar": {
              "outlinewidth": 0,
              "ticks": ""
             }
            },
            "type": "scatter3d"
           }
          ],
          "scattercarpet": [
           {
            "marker": {
             "colorbar": {
              "outlinewidth": 0,
              "ticks": ""
             }
            },
            "type": "scattercarpet"
           }
          ],
          "scattergeo": [
           {
            "marker": {
             "colorbar": {
              "outlinewidth": 0,
              "ticks": ""
             }
            },
            "type": "scattergeo"
           }
          ],
          "scattergl": [
           {
            "marker": {
             "colorbar": {
              "outlinewidth": 0,
              "ticks": ""
             }
            },
            "type": "scattergl"
           }
          ],
          "scattermap": [
           {
            "marker": {
             "colorbar": {
              "outlinewidth": 0,
              "ticks": ""
             }
            },
            "type": "scattermap"
           }
          ],
          "scattermapbox": [
           {
            "marker": {
             "colorbar": {
              "outlinewidth": 0,
              "ticks": ""
             }
            },
            "type": "scattermapbox"
           }
          ],
          "scatterpolar": [
           {
            "marker": {
             "colorbar": {
              "outlinewidth": 0,
              "ticks": ""
             }
            },
            "type": "scatterpolar"
           }
          ],
          "scatterpolargl": [
           {
            "marker": {
             "colorbar": {
              "outlinewidth": 0,
              "ticks": ""
             }
            },
            "type": "scatterpolargl"
           }
          ],
          "scatterternary": [
           {
            "marker": {
             "colorbar": {
              "outlinewidth": 0,
              "ticks": ""
             }
            },
            "type": "scatterternary"
           }
          ],
          "surface": [
           {
            "colorbar": {
             "outlinewidth": 0,
             "ticks": ""
            },
            "colorscale": [
             [
              0,
              "#0d0887"
             ],
             [
              0.1111111111111111,
              "#46039f"
             ],
             [
              0.2222222222222222,
              "#7201a8"
             ],
             [
              0.3333333333333333,
              "#9c179e"
             ],
             [
              0.4444444444444444,
              "#bd3786"
             ],
             [
              0.5555555555555556,
              "#d8576b"
             ],
             [
              0.6666666666666666,
              "#ed7953"
             ],
             [
              0.7777777777777778,
              "#fb9f3a"
             ],
             [
              0.8888888888888888,
              "#fdca26"
             ],
             [
              1,
              "#f0f921"
             ]
            ],
            "type": "surface"
           }
          ],
          "table": [
           {
            "cells": {
             "fill": {
              "color": "#EBF0F8"
             },
             "line": {
              "color": "white"
             }
            },
            "header": {
             "fill": {
              "color": "#C8D4E3"
             },
             "line": {
              "color": "white"
             }
            },
            "type": "table"
           }
          ]
         },
         "layout": {
          "annotationdefaults": {
           "arrowcolor": "#2a3f5f",
           "arrowhead": 0,
           "arrowwidth": 1
          },
          "autotypenumbers": "strict",
          "coloraxis": {
           "colorbar": {
            "outlinewidth": 0,
            "ticks": ""
           }
          },
          "colorscale": {
           "diverging": [
            [
             0,
             "#8e0152"
            ],
            [
             0.1,
             "#c51b7d"
            ],
            [
             0.2,
             "#de77ae"
            ],
            [
             0.3,
             "#f1b6da"
            ],
            [
             0.4,
             "#fde0ef"
            ],
            [
             0.5,
             "#f7f7f7"
            ],
            [
             0.6,
             "#e6f5d0"
            ],
            [
             0.7,
             "#b8e186"
            ],
            [
             0.8,
             "#7fbc41"
            ],
            [
             0.9,
             "#4d9221"
            ],
            [
             1,
             "#276419"
            ]
           ],
           "sequential": [
            [
             0,
             "#0d0887"
            ],
            [
             0.1111111111111111,
             "#46039f"
            ],
            [
             0.2222222222222222,
             "#7201a8"
            ],
            [
             0.3333333333333333,
             "#9c179e"
            ],
            [
             0.4444444444444444,
             "#bd3786"
            ],
            [
             0.5555555555555556,
             "#d8576b"
            ],
            [
             0.6666666666666666,
             "#ed7953"
            ],
            [
             0.7777777777777778,
             "#fb9f3a"
            ],
            [
             0.8888888888888888,
             "#fdca26"
            ],
            [
             1,
             "#f0f921"
            ]
           ],
           "sequentialminus": [
            [
             0,
             "#0d0887"
            ],
            [
             0.1111111111111111,
             "#46039f"
            ],
            [
             0.2222222222222222,
             "#7201a8"
            ],
            [
             0.3333333333333333,
             "#9c179e"
            ],
            [
             0.4444444444444444,
             "#bd3786"
            ],
            [
             0.5555555555555556,
             "#d8576b"
            ],
            [
             0.6666666666666666,
             "#ed7953"
            ],
            [
             0.7777777777777778,
             "#fb9f3a"
            ],
            [
             0.8888888888888888,
             "#fdca26"
            ],
            [
             1,
             "#f0f921"
            ]
           ]
          },
          "colorway": [
           "#636efa",
           "#EF553B",
           "#00cc96",
           "#ab63fa",
           "#FFA15A",
           "#19d3f3",
           "#FF6692",
           "#B6E880",
           "#FF97FF",
           "#FECB52"
          ],
          "font": {
           "color": "#2a3f5f"
          },
          "geo": {
           "bgcolor": "white",
           "lakecolor": "white",
           "landcolor": "#E5ECF6",
           "showlakes": true,
           "showland": true,
           "subunitcolor": "white"
          },
          "hoverlabel": {
           "align": "left"
          },
          "hovermode": "closest",
          "mapbox": {
           "style": "light"
          },
          "paper_bgcolor": "white",
          "plot_bgcolor": "#E5ECF6",
          "polar": {
           "angularaxis": {
            "gridcolor": "white",
            "linecolor": "white",
            "ticks": ""
           },
           "bgcolor": "#E5ECF6",
           "radialaxis": {
            "gridcolor": "white",
            "linecolor": "white",
            "ticks": ""
           }
          },
          "scene": {
           "xaxis": {
            "backgroundcolor": "#E5ECF6",
            "gridcolor": "white",
            "gridwidth": 2,
            "linecolor": "white",
            "showbackground": true,
            "ticks": "",
            "zerolinecolor": "white"
           },
           "yaxis": {
            "backgroundcolor": "#E5ECF6",
            "gridcolor": "white",
            "gridwidth": 2,
            "linecolor": "white",
            "showbackground": true,
            "ticks": "",
            "zerolinecolor": "white"
           },
           "zaxis": {
            "backgroundcolor": "#E5ECF6",
            "gridcolor": "white",
            "gridwidth": 2,
            "linecolor": "white",
            "showbackground": true,
            "ticks": "",
            "zerolinecolor": "white"
           }
          },
          "shapedefaults": {
           "line": {
            "color": "#2a3f5f"
           }
          },
          "ternary": {
           "aaxis": {
            "gridcolor": "white",
            "linecolor": "white",
            "ticks": ""
           },
           "baxis": {
            "gridcolor": "white",
            "linecolor": "white",
            "ticks": ""
           },
           "bgcolor": "#E5ECF6",
           "caxis": {
            "gridcolor": "white",
            "linecolor": "white",
            "ticks": ""
           }
          },
          "title": {
           "x": 0.05
          },
          "xaxis": {
           "automargin": true,
           "gridcolor": "white",
           "linecolor": "white",
           "ticks": "",
           "title": {
            "standoff": 15
           },
           "zerolinecolor": "white",
           "zerolinewidth": 2
          },
          "yaxis": {
           "automargin": true,
           "gridcolor": "white",
           "linecolor": "white",
           "ticks": "",
           "title": {
            "standoff": 15
           },
           "zerolinecolor": "white",
           "zerolinewidth": 2
          }
         }
        }
       }
      }
     },
     "metadata": {},
     "output_type": "display_data"
    }
   ],
   "source": [
    "fig2 = go.Figure()\n",
    "\n",
    "## Plotting before vs. after translation\n",
    "for i in range(s_wt.shape[0]):\n",
    "  fig2.add_trace(go.Scatter3d(x=s_wt[i, 0],\n",
    "                              y=s_wt[i, 1],\n",
    "                              z=s_wt[i, 2]))\n",
    "# Plot origin\n",
    "fig2.add_trace(go.Scatter3d(x=[0],\n",
    "                            y=[0],\n",
    "                            z=[0]\n",
    "                            ))\n",
    "#fig2.add_trace(go.Scatter3d(x=[ph[0]], y=[ph[1]], z=[ph[2]])) # Plot pinhole location => old pinhole location now meaningless as coordinates have been translated. New pinhole locations is [0, 0, 0]\n",
    "\n",
    "\n",
    "# Plot pinhole axes\n",
    "fig2.add_trace(go.Scatter3d(x=[0, axes[0, 0]],\n",
    "                            y=[0, axes[1, 0]],\n",
    "                            z=[0, axes[2, 0]],\n",
    "                            name='x-axis',\n",
    "                            line={'color': 'red', 'width': 3},\n",
    "                            marker={'opacity': 0}\n",
    "                            ))\n",
    "fig2.add_trace(go.Scatter3d(x=[0, axes[0, 1]],\n",
    "                            y=[0, axes[1, 1]],\n",
    "                            z=[0, axes[2, 1]],\n",
    "                            name='y-axis',\n",
    "                            line={'color': 'green', 'width': 3},\n",
    "                            marker={'opacity': 0}\n",
    "                            ))\n",
    "fig2.add_trace(go.Scatter3d(x=[0, axes[0, 2]],\n",
    "                            y=[0, axes[1, 2]], z=[0, axes[2, 2]],\n",
    "                            name='z-axis',\n",
    "                            line={'color': 'blue', 'width': 3},\n",
    "                            marker={'opacity': 0}\n",
    "                            ))\n",
    "\n",
    "# Plot viewpoint vector (y axis of pinhole camera reference frame axes)\n",
    "fig2.add_trace(go.Scatter3d(x=[0, ph_u[0]],\n",
    "                            y=[0, ph_u[1]],\n",
    "                            z=[0, ph_u[2]],\n",
    "                            name='ph_u',\n",
    "                            line={'color': 'cyan', 'width': 3},\n",
    "                            marker={'opacity': 0}\n",
    "                            )\n",
    ")\n",
    "\n",
    "\n",
    "scene = dict(camera = dict(up=dict(x=0, y=0, z=1), center=dict(x=0, y=0, z=0), eye=dict(x=1, y=1, z=1)),\n",
    "             xaxis = dict(),\n",
    "             yaxis = dict(),\n",
    "             zaxis = dict(),\n",
    "             aspectmode = \"cube\",\n",
    "             aspectratio = dict(x=1, y=1, z=1)\n",
    ")\n",
    "\n",
    "fig2.update_layout(scene=scene)#, xaxis=dict(scaleratio=1), yaxis=dict(scaleratio=1))\n",
    "fig2.show()\n",
    "\n",
    "\n",
    "\n",
    "\n",
    "\n",
    "\n",
    "fig3 = go.Figure()\n",
    "\n",
    "## Plot rotated points\n",
    "for i in range(s_ph.shape[0]):\n",
    "  fig3.add_trace(go.Scatter3d(x=s_ph[i, 0],\n",
    "                              y=s_ph[i, 1],\n",
    "                              z=s_ph[i, 2]))\n",
    "\n",
    "fig3.add_trace(go.Scatter3d(x=[0], y=[0], z=[0]))\n",
    "\n",
    "#for i in range(X_range.shape[0]):\n",
    " # fig3.add_trace(go.Scatter3d(x=[0, s_ph[0,i]],\n",
    "  #                            y=[0, s_ph[1,i]],\n",
    "   #                           z=[0, s_ph[2,i]],\n",
    "    #                          line=dict(color='green',\n",
    "     #                                  width=2)))\n",
    "\n",
    "fig3.add_trace(go.Scatter3d(x=[0, axes_ph[0, 0]], y=[0, axes_ph[1, 0]], z=[0, axes_ph[2, 0]], name='x-axis', line={'color': 'red', 'width': 3}, marker={'opacity': 0})) # Plot pinhole axes_ph\n",
    "fig3.add_trace(go.Scatter3d(x=[0, axes_ph[0, 1]], y=[0, axes_ph[1, 1]], z=[0, axes_ph[2, 1]], name='y-axis', line={'color': 'green', 'width': 3}, marker={'opacity': 0})) # Plot pinhole axes_ph\n",
    "fig3.add_trace(go.Scatter3d(x=[0, axes_ph[0, 2]], y=[0, axes_ph[1, 2]], z=[0, axes_ph[2, 2]], name='z-axis', line={'color': 'blue', 'width': 3}, marker={'opacity': 0})) # Plot pinhole axes_ph\n",
    "\n",
    "#fig3.add_trace(go.Scatter3d(x=[0, ph_u[0]], y=[0, ph_u[1]], z=[0, ph_u[2]], name='ph_u', line={'color': 'cyan', 'width': 3}, marker={'opacity': 0}))\n",
    "fig3.update_layout(scene=scene)\n",
    "fig3.show()"
   ]
  },
  {
   "cell_type": "code",
   "execution_count": 73,
   "metadata": {
    "colab": {
     "base_uri": "https://localhost:8080/",
     "height": 542
    },
    "id": "fljrZqz1Wtcm",
    "outputId": "abb8716e-e36d-45f2-dbe7-12899096f4a8"
   },
   "outputs": [
    {
     "data": {
      "application/vnd.plotly.v1+json": {
       "config": {
        "plotlyServerURL": "https://plot.ly"
       },
       "data": [
        {
         "type": "scatter",
         "x": {
          "bdata": "qWVKb+U32z/6NR9mZFvOv187FUhHlfG/4pzn2a4DAcDMesXEI8EJwCMRVWJk4hDAe6c1VfruE8CiQVXOObkVwH1IQytNURbAWihA4nQBFsA=",
          "dtype": "f8"
         },
         "y": {
          "bdata": "D1dSyYePJMA4Go7fzNkgwIr021UIExvA5sOD79OLFsDEfIqyLn0VwNX3tTB1rRjAKqm/ZzW+H8CH3sDQEqYkwBCZVY/00ynAryCi527BLsA=",
          "dtype": "f8"
         }
        },
        {
         "type": "scatter",
         "x": {
          "bdata": "HoKOYuoc8j86Slyko4veP1vyX7pwKN2/a5tkAQCC+r81fnomrg0IwI0lVoWnGxHAjxTePVPtFMBhbV5NRgcXwDctONFmkBfA4adzMsEBF8A=",
          "dtype": "f8"
         },
         "y": {
          "bdata": "brjzrcUGIcDtPNCmWuYXwB/4v9kkWgzAQ15yKsFy+78XP0OI3XDxv4O4gjfaeADAvVh2rR72EcAl+c7PWh0fwH+lkWT8dCbApcmeNEK8LMA=",
          "dtype": "f8"
         }
        },
        {
         "type": "scatter",
         "x": {
          "bdata": "ZZR7hyAfAECVDzVzYBz3P99bqgEUjOA/yvyiOSPw6b9nAFNo8WkDwEOTcL/NEhDAsNgKaD3iFMAVY/trzW8XwNi6zXW6ABjAFb/eaDVJF8A=",
          "dtype": "f8"
         },
         "y": {
          "bdata": "5y+dxWbcG8Aile1l6UcNwF7FpJ2MmNG/ZxBlU/T+A0Ah/NisB2oNQOGoX4UzJQRAn+7x2zZ26b95ESgRsfIUwM8SKICOaiPAaJ/5newnK8A=",
          "dtype": "f8"
         }
        },
        {
         "type": "scatter",
         "x": {
          "bdata": "+Ka1/jo6CEA5jywieBQFQBEkiLOtXv0/cLPkxJAd4D8/Rg5Y3Ov0v1f2wQnhzAnAlPgxZYXpEsCSBEp5JC8WwONu8aSRDhfAtO2N5EdyFsA=",
          "dtype": "f8"
         },
         "y": {
          "bdata": "D7CvKKbVF8BtOlv1jpH/v+Az5b4+yAJAHEBtHYyWGEBgCC5HO/EfQB41qmSykxpA2YS3r3XTAkAt1UeuHWMKwAGTU8GafSHAPMuvt/h5KsA=",
          "dtype": "f8"
         }
        },
        {
         "type": "scatter",
         "x": {
          "bdata": "oS7SiTI+EEASv3/JeE4PQGD9Kfso6ApAauIfn/iYAUALUCg5cqPXPxQL7SvgWfy/dN/PwXOnDMDYHBBdr6gSwHIYYMHNSxTAJsimR9o5FMA=",
          "dtype": "f8"
         },
         "y": {
          "bdata": "cMcGTgdOF8DX72UI9Qv4v/ioDrQ6ygpAvgx1LpkvH0CN6B+2/CokQH3VjOxnNCFA6WdXFJj+DEBYNmhdDW0GwE7URQOWlSHAfVf9zUIhK8A=",
          "dtype": "f8"
         }
        },
        {
         "type": "scatter",
         "x": {
          "bdata": "puKXywTUE0BBsdEybDMUQBCrKezDJBNAZYOZsFJAD0BLlh4lURYCQB/eW96/Drw/tLN9QD1k/r+i85EoLioKwAIgO6x+sw/AhJM4z/m4EMA=",
          "dtype": "f8"
         },
         "y": {
          "bdata": "6RD045H8GsDpM+97DvkEwJiJqzyNGQBAqWaohlwDGUCk403O2MUgQHoDcQcFYBtACF1XexnU/j8m49zKSlARwF2Py6GlLSTA2ByKDsRELcA=",
          "dtype": "f8"
         }
        },
        {
         "type": "scatter",
         "x": {
          "bdata": "Oc0qIp5TFkDPFUyPWlIXQCvR7zEoFhdATiZv9IKdFEDRxQXiMV0OQMRAfWNPqf0/9I4VYsyuwb/UzRwo8+r6v9iZWW5HFgXAtQtRwbfoCMA=",
          "dtype": "f8"
         },
         "y": {
          "bdata": "ljg9cXs5IcBcy2GBFbMUwMBnqN7bNPe/6fKVw+CM/D9ig+2thaUJQDMzF72RXPs/uEVHg7U7A8DWgq3zp1sewEkZ6ua22CjAylY9fUxMMMA=",
          "dtype": "f8"
         }
        },
        {
         "type": "scatter",
         "x": {
          "bdata": "hVOcz1SFF0AoSBJp4LAYQI8ZG1SHxhhASH0Cs/TxFkBtTPigF5oSQBqgIP9dPwhAcfpDJJUR9D+HKWuT9XDRv7EAZJ8CxPW/+M1UdTVCAMA=",
          "dtype": "f8"
         },
         "y": {
          "bdata": "OJa9g7MhJsDiYQlcYxUhwLP0MDyI9BfAeLxyBu7nD8B+X7qq9vQKwFA8y5xy3hLAtPkg7ikbH8Cf++g3BS0nwKDNDQyfdS7Aqui6uco+MsA=",
          "dtype": "f8"
         }
        },
        {
         "type": "scatter",
         "x": {
          "bdata": "SmC0jGaNF0AsWQHZBJIYQOUtmfW0nhhASTARyLgZF0CSolJHUp8TQDHsniPt4QxAYwNKAK0SAUAgkXdK3IToP9KyauXSNdS//QGRIPA98b8=",
          "dtype": "f8"
         },
         "y": {
          "bdata": "RDovcWpeK8BFh4CRegwowKvRiLREACXADd3HcB37IsCni5hOid8iwGaDJPoBKyXAgOf2YL17KcDEdbNJKMAuwDDHnQqF8zHAcK8nHqEpNMA=",
          "dtype": "f8"
         }
        },
        {
         "type": "scatter",
         "x": {
          "bdata": "5joc517CFkC9ZkQCYnwXQMTOhVALXhdAymTKohwCFkA21U+D8jATQHjPgTZVNQ5Aok5Fxuy6BEBCIzYcrPX2P07HQZTNp9w/H1YTm0Io1L8=",
          "dtype": "f8"
         },
         "y": {
          "bdata": "5sjEZJ4lMMC8LJsmjVEuwBeXukysuyzA2OsPgG35K8B7uIxwLnYswDtSuj6eWi7AxmCfcl2xMMAVAMBLQn0ywIMSmxCQRTTAuFdfKm7ZNcA=",
          "dtype": "f8"
         }
        }
       ],
       "layout": {
        "template": {
         "data": {
          "bar": [
           {
            "error_x": {
             "color": "#2a3f5f"
            },
            "error_y": {
             "color": "#2a3f5f"
            },
            "marker": {
             "line": {
              "color": "#E5ECF6",
              "width": 0.5
             },
             "pattern": {
              "fillmode": "overlay",
              "size": 10,
              "solidity": 0.2
             }
            },
            "type": "bar"
           }
          ],
          "barpolar": [
           {
            "marker": {
             "line": {
              "color": "#E5ECF6",
              "width": 0.5
             },
             "pattern": {
              "fillmode": "overlay",
              "size": 10,
              "solidity": 0.2
             }
            },
            "type": "barpolar"
           }
          ],
          "carpet": [
           {
            "aaxis": {
             "endlinecolor": "#2a3f5f",
             "gridcolor": "white",
             "linecolor": "white",
             "minorgridcolor": "white",
             "startlinecolor": "#2a3f5f"
            },
            "baxis": {
             "endlinecolor": "#2a3f5f",
             "gridcolor": "white",
             "linecolor": "white",
             "minorgridcolor": "white",
             "startlinecolor": "#2a3f5f"
            },
            "type": "carpet"
           }
          ],
          "choropleth": [
           {
            "colorbar": {
             "outlinewidth": 0,
             "ticks": ""
            },
            "type": "choropleth"
           }
          ],
          "contour": [
           {
            "colorbar": {
             "outlinewidth": 0,
             "ticks": ""
            },
            "colorscale": [
             [
              0,
              "#0d0887"
             ],
             [
              0.1111111111111111,
              "#46039f"
             ],
             [
              0.2222222222222222,
              "#7201a8"
             ],
             [
              0.3333333333333333,
              "#9c179e"
             ],
             [
              0.4444444444444444,
              "#bd3786"
             ],
             [
              0.5555555555555556,
              "#d8576b"
             ],
             [
              0.6666666666666666,
              "#ed7953"
             ],
             [
              0.7777777777777778,
              "#fb9f3a"
             ],
             [
              0.8888888888888888,
              "#fdca26"
             ],
             [
              1,
              "#f0f921"
             ]
            ],
            "type": "contour"
           }
          ],
          "contourcarpet": [
           {
            "colorbar": {
             "outlinewidth": 0,
             "ticks": ""
            },
            "type": "contourcarpet"
           }
          ],
          "heatmap": [
           {
            "colorbar": {
             "outlinewidth": 0,
             "ticks": ""
            },
            "colorscale": [
             [
              0,
              "#0d0887"
             ],
             [
              0.1111111111111111,
              "#46039f"
             ],
             [
              0.2222222222222222,
              "#7201a8"
             ],
             [
              0.3333333333333333,
              "#9c179e"
             ],
             [
              0.4444444444444444,
              "#bd3786"
             ],
             [
              0.5555555555555556,
              "#d8576b"
             ],
             [
              0.6666666666666666,
              "#ed7953"
             ],
             [
              0.7777777777777778,
              "#fb9f3a"
             ],
             [
              0.8888888888888888,
              "#fdca26"
             ],
             [
              1,
              "#f0f921"
             ]
            ],
            "type": "heatmap"
           }
          ],
          "histogram": [
           {
            "marker": {
             "pattern": {
              "fillmode": "overlay",
              "size": 10,
              "solidity": 0.2
             }
            },
            "type": "histogram"
           }
          ],
          "histogram2d": [
           {
            "colorbar": {
             "outlinewidth": 0,
             "ticks": ""
            },
            "colorscale": [
             [
              0,
              "#0d0887"
             ],
             [
              0.1111111111111111,
              "#46039f"
             ],
             [
              0.2222222222222222,
              "#7201a8"
             ],
             [
              0.3333333333333333,
              "#9c179e"
             ],
             [
              0.4444444444444444,
              "#bd3786"
             ],
             [
              0.5555555555555556,
              "#d8576b"
             ],
             [
              0.6666666666666666,
              "#ed7953"
             ],
             [
              0.7777777777777778,
              "#fb9f3a"
             ],
             [
              0.8888888888888888,
              "#fdca26"
             ],
             [
              1,
              "#f0f921"
             ]
            ],
            "type": "histogram2d"
           }
          ],
          "histogram2dcontour": [
           {
            "colorbar": {
             "outlinewidth": 0,
             "ticks": ""
            },
            "colorscale": [
             [
              0,
              "#0d0887"
             ],
             [
              0.1111111111111111,
              "#46039f"
             ],
             [
              0.2222222222222222,
              "#7201a8"
             ],
             [
              0.3333333333333333,
              "#9c179e"
             ],
             [
              0.4444444444444444,
              "#bd3786"
             ],
             [
              0.5555555555555556,
              "#d8576b"
             ],
             [
              0.6666666666666666,
              "#ed7953"
             ],
             [
              0.7777777777777778,
              "#fb9f3a"
             ],
             [
              0.8888888888888888,
              "#fdca26"
             ],
             [
              1,
              "#f0f921"
             ]
            ],
            "type": "histogram2dcontour"
           }
          ],
          "mesh3d": [
           {
            "colorbar": {
             "outlinewidth": 0,
             "ticks": ""
            },
            "type": "mesh3d"
           }
          ],
          "parcoords": [
           {
            "line": {
             "colorbar": {
              "outlinewidth": 0,
              "ticks": ""
             }
            },
            "type": "parcoords"
           }
          ],
          "pie": [
           {
            "automargin": true,
            "type": "pie"
           }
          ],
          "scatter": [
           {
            "fillpattern": {
             "fillmode": "overlay",
             "size": 10,
             "solidity": 0.2
            },
            "type": "scatter"
           }
          ],
          "scatter3d": [
           {
            "line": {
             "colorbar": {
              "outlinewidth": 0,
              "ticks": ""
             }
            },
            "marker": {
             "colorbar": {
              "outlinewidth": 0,
              "ticks": ""
             }
            },
            "type": "scatter3d"
           }
          ],
          "scattercarpet": [
           {
            "marker": {
             "colorbar": {
              "outlinewidth": 0,
              "ticks": ""
             }
            },
            "type": "scattercarpet"
           }
          ],
          "scattergeo": [
           {
            "marker": {
             "colorbar": {
              "outlinewidth": 0,
              "ticks": ""
             }
            },
            "type": "scattergeo"
           }
          ],
          "scattergl": [
           {
            "marker": {
             "colorbar": {
              "outlinewidth": 0,
              "ticks": ""
             }
            },
            "type": "scattergl"
           }
          ],
          "scattermap": [
           {
            "marker": {
             "colorbar": {
              "outlinewidth": 0,
              "ticks": ""
             }
            },
            "type": "scattermap"
           }
          ],
          "scattermapbox": [
           {
            "marker": {
             "colorbar": {
              "outlinewidth": 0,
              "ticks": ""
             }
            },
            "type": "scattermapbox"
           }
          ],
          "scatterpolar": [
           {
            "marker": {
             "colorbar": {
              "outlinewidth": 0,
              "ticks": ""
             }
            },
            "type": "scatterpolar"
           }
          ],
          "scatterpolargl": [
           {
            "marker": {
             "colorbar": {
              "outlinewidth": 0,
              "ticks": ""
             }
            },
            "type": "scatterpolargl"
           }
          ],
          "scatterternary": [
           {
            "marker": {
             "colorbar": {
              "outlinewidth": 0,
              "ticks": ""
             }
            },
            "type": "scatterternary"
           }
          ],
          "surface": [
           {
            "colorbar": {
             "outlinewidth": 0,
             "ticks": ""
            },
            "colorscale": [
             [
              0,
              "#0d0887"
             ],
             [
              0.1111111111111111,
              "#46039f"
             ],
             [
              0.2222222222222222,
              "#7201a8"
             ],
             [
              0.3333333333333333,
              "#9c179e"
             ],
             [
              0.4444444444444444,
              "#bd3786"
             ],
             [
              0.5555555555555556,
              "#d8576b"
             ],
             [
              0.6666666666666666,
              "#ed7953"
             ],
             [
              0.7777777777777778,
              "#fb9f3a"
             ],
             [
              0.8888888888888888,
              "#fdca26"
             ],
             [
              1,
              "#f0f921"
             ]
            ],
            "type": "surface"
           }
          ],
          "table": [
           {
            "cells": {
             "fill": {
              "color": "#EBF0F8"
             },
             "line": {
              "color": "white"
             }
            },
            "header": {
             "fill": {
              "color": "#C8D4E3"
             },
             "line": {
              "color": "white"
             }
            },
            "type": "table"
           }
          ]
         },
         "layout": {
          "annotationdefaults": {
           "arrowcolor": "#2a3f5f",
           "arrowhead": 0,
           "arrowwidth": 1
          },
          "autotypenumbers": "strict",
          "coloraxis": {
           "colorbar": {
            "outlinewidth": 0,
            "ticks": ""
           }
          },
          "colorscale": {
           "diverging": [
            [
             0,
             "#8e0152"
            ],
            [
             0.1,
             "#c51b7d"
            ],
            [
             0.2,
             "#de77ae"
            ],
            [
             0.3,
             "#f1b6da"
            ],
            [
             0.4,
             "#fde0ef"
            ],
            [
             0.5,
             "#f7f7f7"
            ],
            [
             0.6,
             "#e6f5d0"
            ],
            [
             0.7,
             "#b8e186"
            ],
            [
             0.8,
             "#7fbc41"
            ],
            [
             0.9,
             "#4d9221"
            ],
            [
             1,
             "#276419"
            ]
           ],
           "sequential": [
            [
             0,
             "#0d0887"
            ],
            [
             0.1111111111111111,
             "#46039f"
            ],
            [
             0.2222222222222222,
             "#7201a8"
            ],
            [
             0.3333333333333333,
             "#9c179e"
            ],
            [
             0.4444444444444444,
             "#bd3786"
            ],
            [
             0.5555555555555556,
             "#d8576b"
            ],
            [
             0.6666666666666666,
             "#ed7953"
            ],
            [
             0.7777777777777778,
             "#fb9f3a"
            ],
            [
             0.8888888888888888,
             "#fdca26"
            ],
            [
             1,
             "#f0f921"
            ]
           ],
           "sequentialminus": [
            [
             0,
             "#0d0887"
            ],
            [
             0.1111111111111111,
             "#46039f"
            ],
            [
             0.2222222222222222,
             "#7201a8"
            ],
            [
             0.3333333333333333,
             "#9c179e"
            ],
            [
             0.4444444444444444,
             "#bd3786"
            ],
            [
             0.5555555555555556,
             "#d8576b"
            ],
            [
             0.6666666666666666,
             "#ed7953"
            ],
            [
             0.7777777777777778,
             "#fb9f3a"
            ],
            [
             0.8888888888888888,
             "#fdca26"
            ],
            [
             1,
             "#f0f921"
            ]
           ]
          },
          "colorway": [
           "#636efa",
           "#EF553B",
           "#00cc96",
           "#ab63fa",
           "#FFA15A",
           "#19d3f3",
           "#FF6692",
           "#B6E880",
           "#FF97FF",
           "#FECB52"
          ],
          "font": {
           "color": "#2a3f5f"
          },
          "geo": {
           "bgcolor": "white",
           "lakecolor": "white",
           "landcolor": "#E5ECF6",
           "showlakes": true,
           "showland": true,
           "subunitcolor": "white"
          },
          "hoverlabel": {
           "align": "left"
          },
          "hovermode": "closest",
          "mapbox": {
           "style": "light"
          },
          "paper_bgcolor": "white",
          "plot_bgcolor": "#E5ECF6",
          "polar": {
           "angularaxis": {
            "gridcolor": "white",
            "linecolor": "white",
            "ticks": ""
           },
           "bgcolor": "#E5ECF6",
           "radialaxis": {
            "gridcolor": "white",
            "linecolor": "white",
            "ticks": ""
           }
          },
          "scene": {
           "xaxis": {
            "backgroundcolor": "#E5ECF6",
            "gridcolor": "white",
            "gridwidth": 2,
            "linecolor": "white",
            "showbackground": true,
            "ticks": "",
            "zerolinecolor": "white"
           },
           "yaxis": {
            "backgroundcolor": "#E5ECF6",
            "gridcolor": "white",
            "gridwidth": 2,
            "linecolor": "white",
            "showbackground": true,
            "ticks": "",
            "zerolinecolor": "white"
           },
           "zaxis": {
            "backgroundcolor": "#E5ECF6",
            "gridcolor": "white",
            "gridwidth": 2,
            "linecolor": "white",
            "showbackground": true,
            "ticks": "",
            "zerolinecolor": "white"
           }
          },
          "shapedefaults": {
           "line": {
            "color": "#2a3f5f"
           }
          },
          "ternary": {
           "aaxis": {
            "gridcolor": "white",
            "linecolor": "white",
            "ticks": ""
           },
           "baxis": {
            "gridcolor": "white",
            "linecolor": "white",
            "ticks": ""
           },
           "bgcolor": "#E5ECF6",
           "caxis": {
            "gridcolor": "white",
            "linecolor": "white",
            "ticks": ""
           }
          },
          "title": {
           "x": 0.05
          },
          "xaxis": {
           "automargin": true,
           "gridcolor": "white",
           "linecolor": "white",
           "ticks": "",
           "title": {
            "standoff": 15
           },
           "zerolinecolor": "white",
           "zerolinewidth": 2
          },
          "yaxis": {
           "automargin": true,
           "gridcolor": "white",
           "linecolor": "white",
           "ticks": "",
           "title": {
            "standoff": 15
           },
           "zerolinecolor": "white",
           "zerolinewidth": 2
          }
         }
        },
        "xaxis": {
         "dtick": 10,
         "tickmode": "linear"
        },
        "yaxis": {
         "scaleanchor": "x",
         "scaleratio": 1
        }
       }
      }
     },
     "metadata": {},
     "output_type": "display_data"
    }
   ],
   "source": [
    "## Plotting projected points\n",
    "## Calculating remaining visible points that are not masked by the edges of the camera frame\n",
    "# !Code needs organising\n",
    "\n",
    "dist_ip = 50\n",
    "img = np.empty([s_ph.shape[0], 2, s_ph.shape[2]])\n",
    "\n",
    "\n",
    "theta_img_yz = quadrant(s_ph[:, 2, :], s_ph[:, 1, :]) #* -1\n",
    "img[:, 1, :] = np.tan(theta_img_yz) * dist_ip\n",
    "\n",
    "theta_img_xy = quadrant(s_ph[:, 0, :], s_ph[:, 1, :]) #* -1\n",
    "img[:, 0, :] = np.tan(theta_img_xy) * dist_ip\n",
    "\n",
    "#in_frame = np.swapaxes(img, 0, 1)[:, selection]\n",
    "#in_frame = np.where((img[:, 0] > (-frame_size[0] / 2)) & (img[:, 0] < (frame_size[0] / 2)))#, img[0, 0])\n",
    "#print(img[:, 0][(img[:, 0] > ((-frame_size[0]) / 2)) & (img[:, 0] < (frame_size[0] / 2))])\n",
    "#print(img[0, 0, (img[0, 0, :] > (-frame_size[0] / 2)) & (img[0, 0, :] < (frame_size[0] / 2))])\n",
    "\n",
    "\n",
    "\n",
    "# fig4: All projected points\n",
    "fig4 = go.Figure()\n",
    "\n",
    "for slice in range(s_ph.shape[2]):\n",
    "  fig4.add_trace(go.Scatter(x=img[slice, 0],\n",
    "                            y=img[slice, 1]))\n",
    "\n",
    "#fig4.add_trace(go.Scatter(x=[5.86],\n",
    " #                         y=[-15.222]))\n",
    "\n",
    "\n",
    "fig4.update_yaxes(scaleanchor=\"x\",\n",
    "                  scaleratio=1\n",
    "                  )\n",
    "fig4.update_layout(xaxis=dict(tickmode='linear', dtick=10))\n",
    "fig4.show()\n"
   ]
  },
  {
   "cell_type": "code",
   "execution_count": 74,
   "metadata": {
    "colab": {
     "base_uri": "https://localhost:8080/"
    },
    "id": "PajC_PrE1ADN",
    "outputId": "fae85ed6-f736-4934-fc83-0d24f471c8d1"
   },
   "outputs": [
    {
     "name": "stdout",
     "output_type": "stream",
     "text": [
      "-15.22163098392901\n",
      "[ 0.          1.66003322  3.18388166  4.19394685  4.24781139  3.10040638\n",
      "  0.94272662 -1.69090153 -4.26684296 -6.47820887]\n"
     ]
    }
   ],
   "source": [
    "# Calculating occlusions\n",
    "img_flip = np.flip(img, axis=0)\n",
    "\n",
    "#for n in range(img_flip.shape[2]):\n",
    "slice = 1\n",
    "n = 0\n",
    "point = img_flip[slice, :, n]\n",
    "point[0] = 5.86\n",
    "\n",
    "\n",
    "# Find all sets of two adjacent points that enclose the assessed point in the x-axis\n",
    "x_dist = img_flip[slice - 1, 0] - point[0]\n",
    "x_enclosing = np.vstack((np.where(np.diff(x_dist > 0))[0],\n",
    "                        np.where(np.diff(x_dist > 0))[0] + 1))# Returns array containing indices of first of set of two adjacent points with contrasting signs\n",
    "\n",
    "# Determine if the assessed point below the interpolated point at the same x value of the previous slice\n",
    "print(np.interp(point[0],\n",
    "          img_flip[slice - 1, 0, x_enclosing[0, 0]:(x_enclosing[1, 0] + 1)],\n",
    "          img_flip[slice - 1, 1, x_enclosing[0, 0]:(x_enclosing[1, 0] + 1)]))\n",
    "\n",
    "# Find adjacent point that increases y of point being assessed\n",
    "y_dist = img_flip[slice, 1] - point[1]\n",
    "print(y_dist)\n",
    "\n",
    "if n == 0:\n",
    "  n_back = 0\n",
    "  n_fwd = n + 2\n",
    "elif n == y_dist.shape[0] - 1:\n",
    "  n_back = n - 1\n",
    "  n_fwd = n\n",
    "else:\n",
    "  n_back = n - 1\n",
    "  n_fwd = n + 2\n",
    "\n",
    "adjacent_mask = np.zeros(y_dist.shape[0], dtype=bool)\n",
    "adjacent_mask[n_back:n_fwd] = True\n",
    "y_up = np.where(adjacent_mask & (y_dist > 0))[0]\n",
    "\n",
    "intersect = np.zeros([2, x_enclosing.shape[1]])\n",
    "\n",
    "for n in range(x_enclosing.shape[1]):\n",
    "  intersect[:, n] = intersection(img_flip[slice][:, y_up],\n",
    "                                 point,\n",
    "                                 img_flip[slice - 1, :, x_enclosing[0, n]],\n",
    "                                 img_flip[slice - 1, :, x_enclosing[1, n]])\n",
    "\n",
    "if np.isnan(intersect[1]).all():\n",
    "  pass\n",
    "else:\n",
    "  np.argmax(intersect[1])\n",
    "\n",
    "\n",
    "#intersection(img_flip[2][:, 1],\n",
    " #            img_flip[2][:, 0],\n",
    "  #           img_flip[1, :, 2],\n",
    "   #          img_flip[1, :, 2 + 1])\n"
   ]
  },
  {
   "cell_type": "code",
   "execution_count": 66,
   "metadata": {
    "colab": {
     "base_uri": "https://localhost:8080/",
     "height": 1000
    },
    "id": "Z-9VXfIE1AvL",
    "outputId": "69f35825-7389-4fce-cac1-10ed1a143b94"
   },
   "outputs": [
    {
     "data": {
      "application/vnd.plotly.v1+json": {
       "config": {
        "plotlyServerURL": "https://plot.ly"
       },
       "data": [
        {
         "type": "scatter",
         "x": {
          "bdata": "XzsVSEeV8b/inOfZrgMBwMx6xcQjwQnAIxFVYmTiEMB7pzVV+u4TwA==",
          "dtype": "f8"
         },
         "y": {
          "bdata": "ivTbVQgTG8Dmw4Pv04sWwMR8irIufRXA1fe1MHWtGMAqqb9nNb4fwA==",
          "dtype": "f8"
         }
        },
        {
         "type": "scatter",
         "x": {
          "bdata": "OkpcpKOL3j9b8l+6cCjdv2ubZAEAgvq/NX56Jq4NCMCNJVaFpxsRwI8U3j1T7RTAYW1eTUYHF8A=",
          "dtype": "f8"
         },
         "y": {
          "bdata": "7TzQplrmF8Af+L/ZJFoMwENecirBcvu/Fz9DiN1w8b+DuII32ngAwL1Ydq0e9hHAJfnOz1odH8A=",
          "dtype": "f8"
         }
        },
        {
         "type": "scatter",
         "x": {
          "bdata": "ZZR7hyAfAECVDzVzYBz3P99bqgEUjOA/yvyiOSPw6b9nAFNo8WkDwEOTcL/NEhDAsNgKaD3iFMAVY/trzW8XwA==",
          "dtype": "f8"
         },
         "y": {
          "bdata": "5y+dxWbcG8Aile1l6UcNwF7FpJ2MmNG/ZxBlU/T+A0Ah/NisB2oNQOGoX4UzJQRAn+7x2zZ26b95ESgRsfIUwA==",
          "dtype": "f8"
         }
        },
        {
         "type": "scatter",
         "x": {
          "bdata": "+Ka1/jo6CEA5jywieBQFQBEkiLOtXv0/cLPkxJAd4D8/Rg5Y3Ov0v1f2wQnhzAnAlPgxZYXpEsCSBEp5JC8WwA==",
          "dtype": "f8"
         },
         "y": {
          "bdata": "D7CvKKbVF8BtOlv1jpH/v+Az5b4+yAJAHEBtHYyWGEBgCC5HO/EfQB41qmSykxpA2YS3r3XTAkAt1UeuHWMKwA==",
          "dtype": "f8"
         }
        },
        {
         "type": "scatter",
         "x": {
          "bdata": "oS7SiTI+EEASv3/JeE4PQGD9Kfso6ApAauIfn/iYAUB038/Bc6cMwNgcEF2vqBLA",
          "dtype": "f8"
         },
         "y": {
          "bdata": "cMcGTgdOF8DX72UI9Qv4v/ioDrQ6ygpAvgx1LpkvH0DpZ1cUmP4MQFg2aF0NbQbA",
          "dtype": "f8"
         }
        },
        {
         "type": "scatter",
         "x": {
          "bdata": "puKXywTUE0BBsdEybDMUQBCrKezDJBNAZYOZsFJAD0Af3lvevw68P7SzfUA9ZP6/ovORKC4qCsA=",
          "dtype": "f8"
         },
         "y": {
          "bdata": "6RD045H8GsDpM+97DvkEwJiJqzyNGQBAqWaohlwDGUB6A3EHBWAbQAhdV3sZ1P4/JuPcykpQEcA=",
          "dtype": "f8"
         }
        },
        {
         "type": "scatter",
         "x": {
          "bdata": "zxVMj1pSF0Ar0e8xKBYXQE4mb/SCnRRA0cUF4jFdDkDEQH1jT6n9P/SOFWLMrsG/1M0cKPPq+r8=",
          "dtype": "f8"
         },
         "y": {
          "bdata": "XMthgRWzFMDAZ6je2zT3v+nylcPgjPw/YoPtrYWlCUAzMxe9kVz7P7hFR4O1OwPA1oKt86dbHsA=",
          "dtype": "f8"
         }
        },
        {
         "type": "scatter",
         "x": {
          "bdata": "jxkbVIfGGEBIfQKz9PEWQG1M+KAXmhJAGqAg/10/CEBx+kMklRH0Pw==",
          "dtype": "f8"
         },
         "y": {
          "bdata": "s/QwPIj0F8B4vHIG7ucPwH5fuqr29ArAUDzLnHLeEsC0+SDuKRsfwA==",
          "dtype": "f8"
         }
        },
        {
         "type": "scatter",
         "x": [],
         "y": []
        },
        {
         "type": "scatter",
         "x": [],
         "y": []
        }
       ],
       "layout": {
        "template": {
         "data": {
          "bar": [
           {
            "error_x": {
             "color": "#2a3f5f"
            },
            "error_y": {
             "color": "#2a3f5f"
            },
            "marker": {
             "line": {
              "color": "#E5ECF6",
              "width": 0.5
             },
             "pattern": {
              "fillmode": "overlay",
              "size": 10,
              "solidity": 0.2
             }
            },
            "type": "bar"
           }
          ],
          "barpolar": [
           {
            "marker": {
             "line": {
              "color": "#E5ECF6",
              "width": 0.5
             },
             "pattern": {
              "fillmode": "overlay",
              "size": 10,
              "solidity": 0.2
             }
            },
            "type": "barpolar"
           }
          ],
          "carpet": [
           {
            "aaxis": {
             "endlinecolor": "#2a3f5f",
             "gridcolor": "white",
             "linecolor": "white",
             "minorgridcolor": "white",
             "startlinecolor": "#2a3f5f"
            },
            "baxis": {
             "endlinecolor": "#2a3f5f",
             "gridcolor": "white",
             "linecolor": "white",
             "minorgridcolor": "white",
             "startlinecolor": "#2a3f5f"
            },
            "type": "carpet"
           }
          ],
          "choropleth": [
           {
            "colorbar": {
             "outlinewidth": 0,
             "ticks": ""
            },
            "type": "choropleth"
           }
          ],
          "contour": [
           {
            "colorbar": {
             "outlinewidth": 0,
             "ticks": ""
            },
            "colorscale": [
             [
              0,
              "#0d0887"
             ],
             [
              0.1111111111111111,
              "#46039f"
             ],
             [
              0.2222222222222222,
              "#7201a8"
             ],
             [
              0.3333333333333333,
              "#9c179e"
             ],
             [
              0.4444444444444444,
              "#bd3786"
             ],
             [
              0.5555555555555556,
              "#d8576b"
             ],
             [
              0.6666666666666666,
              "#ed7953"
             ],
             [
              0.7777777777777778,
              "#fb9f3a"
             ],
             [
              0.8888888888888888,
              "#fdca26"
             ],
             [
              1,
              "#f0f921"
             ]
            ],
            "type": "contour"
           }
          ],
          "contourcarpet": [
           {
            "colorbar": {
             "outlinewidth": 0,
             "ticks": ""
            },
            "type": "contourcarpet"
           }
          ],
          "heatmap": [
           {
            "colorbar": {
             "outlinewidth": 0,
             "ticks": ""
            },
            "colorscale": [
             [
              0,
              "#0d0887"
             ],
             [
              0.1111111111111111,
              "#46039f"
             ],
             [
              0.2222222222222222,
              "#7201a8"
             ],
             [
              0.3333333333333333,
              "#9c179e"
             ],
             [
              0.4444444444444444,
              "#bd3786"
             ],
             [
              0.5555555555555556,
              "#d8576b"
             ],
             [
              0.6666666666666666,
              "#ed7953"
             ],
             [
              0.7777777777777778,
              "#fb9f3a"
             ],
             [
              0.8888888888888888,
              "#fdca26"
             ],
             [
              1,
              "#f0f921"
             ]
            ],
            "type": "heatmap"
           }
          ],
          "histogram": [
           {
            "marker": {
             "pattern": {
              "fillmode": "overlay",
              "size": 10,
              "solidity": 0.2
             }
            },
            "type": "histogram"
           }
          ],
          "histogram2d": [
           {
            "colorbar": {
             "outlinewidth": 0,
             "ticks": ""
            },
            "colorscale": [
             [
              0,
              "#0d0887"
             ],
             [
              0.1111111111111111,
              "#46039f"
             ],
             [
              0.2222222222222222,
              "#7201a8"
             ],
             [
              0.3333333333333333,
              "#9c179e"
             ],
             [
              0.4444444444444444,
              "#bd3786"
             ],
             [
              0.5555555555555556,
              "#d8576b"
             ],
             [
              0.6666666666666666,
              "#ed7953"
             ],
             [
              0.7777777777777778,
              "#fb9f3a"
             ],
             [
              0.8888888888888888,
              "#fdca26"
             ],
             [
              1,
              "#f0f921"
             ]
            ],
            "type": "histogram2d"
           }
          ],
          "histogram2dcontour": [
           {
            "colorbar": {
             "outlinewidth": 0,
             "ticks": ""
            },
            "colorscale": [
             [
              0,
              "#0d0887"
             ],
             [
              0.1111111111111111,
              "#46039f"
             ],
             [
              0.2222222222222222,
              "#7201a8"
             ],
             [
              0.3333333333333333,
              "#9c179e"
             ],
             [
              0.4444444444444444,
              "#bd3786"
             ],
             [
              0.5555555555555556,
              "#d8576b"
             ],
             [
              0.6666666666666666,
              "#ed7953"
             ],
             [
              0.7777777777777778,
              "#fb9f3a"
             ],
             [
              0.8888888888888888,
              "#fdca26"
             ],
             [
              1,
              "#f0f921"
             ]
            ],
            "type": "histogram2dcontour"
           }
          ],
          "mesh3d": [
           {
            "colorbar": {
             "outlinewidth": 0,
             "ticks": ""
            },
            "type": "mesh3d"
           }
          ],
          "parcoords": [
           {
            "line": {
             "colorbar": {
              "outlinewidth": 0,
              "ticks": ""
             }
            },
            "type": "parcoords"
           }
          ],
          "pie": [
           {
            "automargin": true,
            "type": "pie"
           }
          ],
          "scatter": [
           {
            "fillpattern": {
             "fillmode": "overlay",
             "size": 10,
             "solidity": 0.2
            },
            "type": "scatter"
           }
          ],
          "scatter3d": [
           {
            "line": {
             "colorbar": {
              "outlinewidth": 0,
              "ticks": ""
             }
            },
            "marker": {
             "colorbar": {
              "outlinewidth": 0,
              "ticks": ""
             }
            },
            "type": "scatter3d"
           }
          ],
          "scattercarpet": [
           {
            "marker": {
             "colorbar": {
              "outlinewidth": 0,
              "ticks": ""
             }
            },
            "type": "scattercarpet"
           }
          ],
          "scattergeo": [
           {
            "marker": {
             "colorbar": {
              "outlinewidth": 0,
              "ticks": ""
             }
            },
            "type": "scattergeo"
           }
          ],
          "scattergl": [
           {
            "marker": {
             "colorbar": {
              "outlinewidth": 0,
              "ticks": ""
             }
            },
            "type": "scattergl"
           }
          ],
          "scattermap": [
           {
            "marker": {
             "colorbar": {
              "outlinewidth": 0,
              "ticks": ""
             }
            },
            "type": "scattermap"
           }
          ],
          "scattermapbox": [
           {
            "marker": {
             "colorbar": {
              "outlinewidth": 0,
              "ticks": ""
             }
            },
            "type": "scattermapbox"
           }
          ],
          "scatterpolar": [
           {
            "marker": {
             "colorbar": {
              "outlinewidth": 0,
              "ticks": ""
             }
            },
            "type": "scatterpolar"
           }
          ],
          "scatterpolargl": [
           {
            "marker": {
             "colorbar": {
              "outlinewidth": 0,
              "ticks": ""
             }
            },
            "type": "scatterpolargl"
           }
          ],
          "scatterternary": [
           {
            "marker": {
             "colorbar": {
              "outlinewidth": 0,
              "ticks": ""
             }
            },
            "type": "scatterternary"
           }
          ],
          "surface": [
           {
            "colorbar": {
             "outlinewidth": 0,
             "ticks": ""
            },
            "colorscale": [
             [
              0,
              "#0d0887"
             ],
             [
              0.1111111111111111,
              "#46039f"
             ],
             [
              0.2222222222222222,
              "#7201a8"
             ],
             [
              0.3333333333333333,
              "#9c179e"
             ],
             [
              0.4444444444444444,
              "#bd3786"
             ],
             [
              0.5555555555555556,
              "#d8576b"
             ],
             [
              0.6666666666666666,
              "#ed7953"
             ],
             [
              0.7777777777777778,
              "#fb9f3a"
             ],
             [
              0.8888888888888888,
              "#fdca26"
             ],
             [
              1,
              "#f0f921"
             ]
            ],
            "type": "surface"
           }
          ],
          "table": [
           {
            "cells": {
             "fill": {
              "color": "#EBF0F8"
             },
             "line": {
              "color": "white"
             }
            },
            "header": {
             "fill": {
              "color": "#C8D4E3"
             },
             "line": {
              "color": "white"
             }
            },
            "type": "table"
           }
          ]
         },
         "layout": {
          "annotationdefaults": {
           "arrowcolor": "#2a3f5f",
           "arrowhead": 0,
           "arrowwidth": 1
          },
          "autotypenumbers": "strict",
          "coloraxis": {
           "colorbar": {
            "outlinewidth": 0,
            "ticks": ""
           }
          },
          "colorscale": {
           "diverging": [
            [
             0,
             "#8e0152"
            ],
            [
             0.1,
             "#c51b7d"
            ],
            [
             0.2,
             "#de77ae"
            ],
            [
             0.3,
             "#f1b6da"
            ],
            [
             0.4,
             "#fde0ef"
            ],
            [
             0.5,
             "#f7f7f7"
            ],
            [
             0.6,
             "#e6f5d0"
            ],
            [
             0.7,
             "#b8e186"
            ],
            [
             0.8,
             "#7fbc41"
            ],
            [
             0.9,
             "#4d9221"
            ],
            [
             1,
             "#276419"
            ]
           ],
           "sequential": [
            [
             0,
             "#0d0887"
            ],
            [
             0.1111111111111111,
             "#46039f"
            ],
            [
             0.2222222222222222,
             "#7201a8"
            ],
            [
             0.3333333333333333,
             "#9c179e"
            ],
            [
             0.4444444444444444,
             "#bd3786"
            ],
            [
             0.5555555555555556,
             "#d8576b"
            ],
            [
             0.6666666666666666,
             "#ed7953"
            ],
            [
             0.7777777777777778,
             "#fb9f3a"
            ],
            [
             0.8888888888888888,
             "#fdca26"
            ],
            [
             1,
             "#f0f921"
            ]
           ],
           "sequentialminus": [
            [
             0,
             "#0d0887"
            ],
            [
             0.1111111111111111,
             "#46039f"
            ],
            [
             0.2222222222222222,
             "#7201a8"
            ],
            [
             0.3333333333333333,
             "#9c179e"
            ],
            [
             0.4444444444444444,
             "#bd3786"
            ],
            [
             0.5555555555555556,
             "#d8576b"
            ],
            [
             0.6666666666666666,
             "#ed7953"
            ],
            [
             0.7777777777777778,
             "#fb9f3a"
            ],
            [
             0.8888888888888888,
             "#fdca26"
            ],
            [
             1,
             "#f0f921"
            ]
           ]
          },
          "colorway": [
           "#636efa",
           "#EF553B",
           "#00cc96",
           "#ab63fa",
           "#FFA15A",
           "#19d3f3",
           "#FF6692",
           "#B6E880",
           "#FF97FF",
           "#FECB52"
          ],
          "font": {
           "color": "#2a3f5f"
          },
          "geo": {
           "bgcolor": "white",
           "lakecolor": "white",
           "landcolor": "#E5ECF6",
           "showlakes": true,
           "showland": true,
           "subunitcolor": "white"
          },
          "hoverlabel": {
           "align": "left"
          },
          "hovermode": "closest",
          "mapbox": {
           "style": "light"
          },
          "paper_bgcolor": "white",
          "plot_bgcolor": "#E5ECF6",
          "polar": {
           "angularaxis": {
            "gridcolor": "white",
            "linecolor": "white",
            "ticks": ""
           },
           "bgcolor": "#E5ECF6",
           "radialaxis": {
            "gridcolor": "white",
            "linecolor": "white",
            "ticks": ""
           }
          },
          "scene": {
           "xaxis": {
            "backgroundcolor": "#E5ECF6",
            "gridcolor": "white",
            "gridwidth": 2,
            "linecolor": "white",
            "showbackground": true,
            "ticks": "",
            "zerolinecolor": "white"
           },
           "yaxis": {
            "backgroundcolor": "#E5ECF6",
            "gridcolor": "white",
            "gridwidth": 2,
            "linecolor": "white",
            "showbackground": true,
            "ticks": "",
            "zerolinecolor": "white"
           },
           "zaxis": {
            "backgroundcolor": "#E5ECF6",
            "gridcolor": "white",
            "gridwidth": 2,
            "linecolor": "white",
            "showbackground": true,
            "ticks": "",
            "zerolinecolor": "white"
           }
          },
          "shapedefaults": {
           "line": {
            "color": "#2a3f5f"
           }
          },
          "ternary": {
           "aaxis": {
            "gridcolor": "white",
            "linecolor": "white",
            "ticks": ""
           },
           "baxis": {
            "gridcolor": "white",
            "linecolor": "white",
            "ticks": ""
           },
           "bgcolor": "#E5ECF6",
           "caxis": {
            "gridcolor": "white",
            "linecolor": "white",
            "ticks": ""
           }
          },
          "title": {
           "x": 0.05
          },
          "xaxis": {
           "automargin": true,
           "gridcolor": "white",
           "linecolor": "white",
           "ticks": "",
           "title": {
            "standoff": 15
           },
           "zerolinecolor": "white",
           "zerolinewidth": 2
          },
          "yaxis": {
           "automargin": true,
           "gridcolor": "white",
           "linecolor": "white",
           "ticks": "",
           "title": {
            "standoff": 15
           },
           "zerolinecolor": "white",
           "zerolinewidth": 2
          }
         }
        },
        "xaxis": {
         "dtick": 10,
         "tickmode": "linear"
        },
        "yaxis": {
         "scaleanchor": "x",
         "scaleratio": 1
        }
       }
      }
     },
     "metadata": {},
     "output_type": "display_data"
    },
    {
     "data": {
      "application/vnd.plotly.v1+json": {
       "config": {
        "plotlyServerURL": "https://plot.ly"
       },
       "data": [
        {
         "type": "scatter",
         "x": {
          "bdata": "XzsVSEeV8b/inOfZrgMBwMx6xcQjwQnAIxFVYmTiEMB7pzVV+u4TwA==",
          "dtype": "f8"
         },
         "y": {
          "bdata": "ivTbVQgTG8Dmw4Pv04sWwMR8irIufRXA1fe1MHWtGMAqqb9nNb4fwA==",
          "dtype": "f8"
         }
        },
        {
         "type": "scatter",
         "x": {
          "bdata": "OkpcpKOL3j9b8l+6cCjdv2ubZAEAgvq/NX56Jq4NCMCNJVaFpxsRwI8U3j1T7RTAYW1eTUYHF8A=",
          "dtype": "f8"
         },
         "y": {
          "bdata": "7TzQplrmF8Af+L/ZJFoMwENecirBcvu/Fz9DiN1w8b+DuII32ngAwL1Ydq0e9hHAJfnOz1odH8A=",
          "dtype": "f8"
         }
        },
        {
         "type": "scatter",
         "x": {
          "bdata": "ZZR7hyAfAECVDzVzYBz3P99bqgEUjOA/yvyiOSPw6b9nAFNo8WkDwEOTcL/NEhDAsNgKaD3iFMAVY/trzW8XwA==",
          "dtype": "f8"
         },
         "y": {
          "bdata": "5y+dxWbcG8Aile1l6UcNwF7FpJ2MmNG/ZxBlU/T+A0Ah/NisB2oNQOGoX4UzJQRAn+7x2zZ26b95ESgRsfIUwA==",
          "dtype": "f8"
         }
        },
        {
         "type": "scatter",
         "x": {
          "bdata": "+Ka1/jo6CEA5jywieBQFQBEkiLOtXv0/cLPkxJAd4D8/Rg5Y3Ov0v1f2wQnhzAnAlPgxZYXpEsCSBEp5JC8WwA==",
          "dtype": "f8"
         },
         "y": {
          "bdata": "D7CvKKbVF8BtOlv1jpH/v+Az5b4+yAJAHEBtHYyWGEBgCC5HO/EfQB41qmSykxpA2YS3r3XTAkAt1UeuHWMKwA==",
          "dtype": "f8"
         }
        },
        {
         "type": "scatter",
         "x": {
          "bdata": "oS7SiTI+EEASv3/JeE4PQGD9Kfso6ApAauIfn/iYAUA=",
          "dtype": "f8"
         },
         "y": {
          "bdata": "cMcGTgdOF8DX72UI9Qv4v/ioDrQ6ygpAvgx1LpkvH0A=",
          "dtype": "f8"
         }
        },
        {
         "type": "scatter",
         "x": {
          "bdata": "dN/PwXOnDMDYHBBdr6gSwA==",
          "dtype": "f8"
         },
         "y": {
          "bdata": "6WdXFJj+DEBYNmhdDW0GwA==",
          "dtype": "f8"
         }
        },
        {
         "type": "scatter",
         "x": {
          "bdata": "puKXywTUE0BBsdEybDMUQBCrKezDJBNAZYOZsFJAD0A=",
          "dtype": "f8"
         },
         "y": {
          "bdata": "6RD045H8GsDpM+97DvkEwJiJqzyNGQBAqWaohlwDGUA=",
          "dtype": "f8"
         }
        },
        {
         "type": "scatter",
         "x": {
          "bdata": "H95b3r8OvD+0s31APWT+v6LzkSguKgrA",
          "dtype": "f8"
         },
         "y": {
          "bdata": "egNxBwVgG0AIXVd7GdT+Pybj3MpKUBHA",
          "dtype": "f8"
         }
        },
        {
         "type": "scatter",
         "x": {
          "bdata": "zxVMj1pSF0Ar0e8xKBYXQE4mb/SCnRRA0cUF4jFdDkDEQH1jT6n9P/SOFWLMrsG/1M0cKPPq+r8=",
          "dtype": "f8"
         },
         "y": {
          "bdata": "XMthgRWzFMDAZ6je2zT3v+nylcPgjPw/YoPtrYWlCUAzMxe9kVz7P7hFR4O1OwPA1oKt86dbHsA=",
          "dtype": "f8"
         }
        },
        {
         "type": "scatter",
         "x": {
          "bdata": "jxkbVIfGGEBIfQKz9PEWQG1M+KAXmhJAGqAg/10/CEBx+kMklRH0Pw==",
          "dtype": "f8"
         },
         "y": {
          "bdata": "s/QwPIj0F8B4vHIG7ucPwH5fuqr29ArAUDzLnHLeEsC0+SDuKRsfwA==",
          "dtype": "f8"
         }
        },
        {
         "type": "scatter",
         "x": [],
         "y": []
        },
        {
         "type": "scatter",
         "x": [],
         "y": []
        }
       ],
       "layout": {
        "template": {
         "data": {
          "bar": [
           {
            "error_x": {
             "color": "#2a3f5f"
            },
            "error_y": {
             "color": "#2a3f5f"
            },
            "marker": {
             "line": {
              "color": "#E5ECF6",
              "width": 0.5
             },
             "pattern": {
              "fillmode": "overlay",
              "size": 10,
              "solidity": 0.2
             }
            },
            "type": "bar"
           }
          ],
          "barpolar": [
           {
            "marker": {
             "line": {
              "color": "#E5ECF6",
              "width": 0.5
             },
             "pattern": {
              "fillmode": "overlay",
              "size": 10,
              "solidity": 0.2
             }
            },
            "type": "barpolar"
           }
          ],
          "carpet": [
           {
            "aaxis": {
             "endlinecolor": "#2a3f5f",
             "gridcolor": "white",
             "linecolor": "white",
             "minorgridcolor": "white",
             "startlinecolor": "#2a3f5f"
            },
            "baxis": {
             "endlinecolor": "#2a3f5f",
             "gridcolor": "white",
             "linecolor": "white",
             "minorgridcolor": "white",
             "startlinecolor": "#2a3f5f"
            },
            "type": "carpet"
           }
          ],
          "choropleth": [
           {
            "colorbar": {
             "outlinewidth": 0,
             "ticks": ""
            },
            "type": "choropleth"
           }
          ],
          "contour": [
           {
            "colorbar": {
             "outlinewidth": 0,
             "ticks": ""
            },
            "colorscale": [
             [
              0,
              "#0d0887"
             ],
             [
              0.1111111111111111,
              "#46039f"
             ],
             [
              0.2222222222222222,
              "#7201a8"
             ],
             [
              0.3333333333333333,
              "#9c179e"
             ],
             [
              0.4444444444444444,
              "#bd3786"
             ],
             [
              0.5555555555555556,
              "#d8576b"
             ],
             [
              0.6666666666666666,
              "#ed7953"
             ],
             [
              0.7777777777777778,
              "#fb9f3a"
             ],
             [
              0.8888888888888888,
              "#fdca26"
             ],
             [
              1,
              "#f0f921"
             ]
            ],
            "type": "contour"
           }
          ],
          "contourcarpet": [
           {
            "colorbar": {
             "outlinewidth": 0,
             "ticks": ""
            },
            "type": "contourcarpet"
           }
          ],
          "heatmap": [
           {
            "colorbar": {
             "outlinewidth": 0,
             "ticks": ""
            },
            "colorscale": [
             [
              0,
              "#0d0887"
             ],
             [
              0.1111111111111111,
              "#46039f"
             ],
             [
              0.2222222222222222,
              "#7201a8"
             ],
             [
              0.3333333333333333,
              "#9c179e"
             ],
             [
              0.4444444444444444,
              "#bd3786"
             ],
             [
              0.5555555555555556,
              "#d8576b"
             ],
             [
              0.6666666666666666,
              "#ed7953"
             ],
             [
              0.7777777777777778,
              "#fb9f3a"
             ],
             [
              0.8888888888888888,
              "#fdca26"
             ],
             [
              1,
              "#f0f921"
             ]
            ],
            "type": "heatmap"
           }
          ],
          "histogram": [
           {
            "marker": {
             "pattern": {
              "fillmode": "overlay",
              "size": 10,
              "solidity": 0.2
             }
            },
            "type": "histogram"
           }
          ],
          "histogram2d": [
           {
            "colorbar": {
             "outlinewidth": 0,
             "ticks": ""
            },
            "colorscale": [
             [
              0,
              "#0d0887"
             ],
             [
              0.1111111111111111,
              "#46039f"
             ],
             [
              0.2222222222222222,
              "#7201a8"
             ],
             [
              0.3333333333333333,
              "#9c179e"
             ],
             [
              0.4444444444444444,
              "#bd3786"
             ],
             [
              0.5555555555555556,
              "#d8576b"
             ],
             [
              0.6666666666666666,
              "#ed7953"
             ],
             [
              0.7777777777777778,
              "#fb9f3a"
             ],
             [
              0.8888888888888888,
              "#fdca26"
             ],
             [
              1,
              "#f0f921"
             ]
            ],
            "type": "histogram2d"
           }
          ],
          "histogram2dcontour": [
           {
            "colorbar": {
             "outlinewidth": 0,
             "ticks": ""
            },
            "colorscale": [
             [
              0,
              "#0d0887"
             ],
             [
              0.1111111111111111,
              "#46039f"
             ],
             [
              0.2222222222222222,
              "#7201a8"
             ],
             [
              0.3333333333333333,
              "#9c179e"
             ],
             [
              0.4444444444444444,
              "#bd3786"
             ],
             [
              0.5555555555555556,
              "#d8576b"
             ],
             [
              0.6666666666666666,
              "#ed7953"
             ],
             [
              0.7777777777777778,
              "#fb9f3a"
             ],
             [
              0.8888888888888888,
              "#fdca26"
             ],
             [
              1,
              "#f0f921"
             ]
            ],
            "type": "histogram2dcontour"
           }
          ],
          "mesh3d": [
           {
            "colorbar": {
             "outlinewidth": 0,
             "ticks": ""
            },
            "type": "mesh3d"
           }
          ],
          "parcoords": [
           {
            "line": {
             "colorbar": {
              "outlinewidth": 0,
              "ticks": ""
             }
            },
            "type": "parcoords"
           }
          ],
          "pie": [
           {
            "automargin": true,
            "type": "pie"
           }
          ],
          "scatter": [
           {
            "fillpattern": {
             "fillmode": "overlay",
             "size": 10,
             "solidity": 0.2
            },
            "type": "scatter"
           }
          ],
          "scatter3d": [
           {
            "line": {
             "colorbar": {
              "outlinewidth": 0,
              "ticks": ""
             }
            },
            "marker": {
             "colorbar": {
              "outlinewidth": 0,
              "ticks": ""
             }
            },
            "type": "scatter3d"
           }
          ],
          "scattercarpet": [
           {
            "marker": {
             "colorbar": {
              "outlinewidth": 0,
              "ticks": ""
             }
            },
            "type": "scattercarpet"
           }
          ],
          "scattergeo": [
           {
            "marker": {
             "colorbar": {
              "outlinewidth": 0,
              "ticks": ""
             }
            },
            "type": "scattergeo"
           }
          ],
          "scattergl": [
           {
            "marker": {
             "colorbar": {
              "outlinewidth": 0,
              "ticks": ""
             }
            },
            "type": "scattergl"
           }
          ],
          "scattermap": [
           {
            "marker": {
             "colorbar": {
              "outlinewidth": 0,
              "ticks": ""
             }
            },
            "type": "scattermap"
           }
          ],
          "scattermapbox": [
           {
            "marker": {
             "colorbar": {
              "outlinewidth": 0,
              "ticks": ""
             }
            },
            "type": "scattermapbox"
           }
          ],
          "scatterpolar": [
           {
            "marker": {
             "colorbar": {
              "outlinewidth": 0,
              "ticks": ""
             }
            },
            "type": "scatterpolar"
           }
          ],
          "scatterpolargl": [
           {
            "marker": {
             "colorbar": {
              "outlinewidth": 0,
              "ticks": ""
             }
            },
            "type": "scatterpolargl"
           }
          ],
          "scatterternary": [
           {
            "marker": {
             "colorbar": {
              "outlinewidth": 0,
              "ticks": ""
             }
            },
            "type": "scatterternary"
           }
          ],
          "surface": [
           {
            "colorbar": {
             "outlinewidth": 0,
             "ticks": ""
            },
            "colorscale": [
             [
              0,
              "#0d0887"
             ],
             [
              0.1111111111111111,
              "#46039f"
             ],
             [
              0.2222222222222222,
              "#7201a8"
             ],
             [
              0.3333333333333333,
              "#9c179e"
             ],
             [
              0.4444444444444444,
              "#bd3786"
             ],
             [
              0.5555555555555556,
              "#d8576b"
             ],
             [
              0.6666666666666666,
              "#ed7953"
             ],
             [
              0.7777777777777778,
              "#fb9f3a"
             ],
             [
              0.8888888888888888,
              "#fdca26"
             ],
             [
              1,
              "#f0f921"
             ]
            ],
            "type": "surface"
           }
          ],
          "table": [
           {
            "cells": {
             "fill": {
              "color": "#EBF0F8"
             },
             "line": {
              "color": "white"
             }
            },
            "header": {
             "fill": {
              "color": "#C8D4E3"
             },
             "line": {
              "color": "white"
             }
            },
            "type": "table"
           }
          ]
         },
         "layout": {
          "annotationdefaults": {
           "arrowcolor": "#2a3f5f",
           "arrowhead": 0,
           "arrowwidth": 1
          },
          "autotypenumbers": "strict",
          "coloraxis": {
           "colorbar": {
            "outlinewidth": 0,
            "ticks": ""
           }
          },
          "colorscale": {
           "diverging": [
            [
             0,
             "#8e0152"
            ],
            [
             0.1,
             "#c51b7d"
            ],
            [
             0.2,
             "#de77ae"
            ],
            [
             0.3,
             "#f1b6da"
            ],
            [
             0.4,
             "#fde0ef"
            ],
            [
             0.5,
             "#f7f7f7"
            ],
            [
             0.6,
             "#e6f5d0"
            ],
            [
             0.7,
             "#b8e186"
            ],
            [
             0.8,
             "#7fbc41"
            ],
            [
             0.9,
             "#4d9221"
            ],
            [
             1,
             "#276419"
            ]
           ],
           "sequential": [
            [
             0,
             "#0d0887"
            ],
            [
             0.1111111111111111,
             "#46039f"
            ],
            [
             0.2222222222222222,
             "#7201a8"
            ],
            [
             0.3333333333333333,
             "#9c179e"
            ],
            [
             0.4444444444444444,
             "#bd3786"
            ],
            [
             0.5555555555555556,
             "#d8576b"
            ],
            [
             0.6666666666666666,
             "#ed7953"
            ],
            [
             0.7777777777777778,
             "#fb9f3a"
            ],
            [
             0.8888888888888888,
             "#fdca26"
            ],
            [
             1,
             "#f0f921"
            ]
           ],
           "sequentialminus": [
            [
             0,
             "#0d0887"
            ],
            [
             0.1111111111111111,
             "#46039f"
            ],
            [
             0.2222222222222222,
             "#7201a8"
            ],
            [
             0.3333333333333333,
             "#9c179e"
            ],
            [
             0.4444444444444444,
             "#bd3786"
            ],
            [
             0.5555555555555556,
             "#d8576b"
            ],
            [
             0.6666666666666666,
             "#ed7953"
            ],
            [
             0.7777777777777778,
             "#fb9f3a"
            ],
            [
             0.8888888888888888,
             "#fdca26"
            ],
            [
             1,
             "#f0f921"
            ]
           ]
          },
          "colorway": [
           "#636efa",
           "#EF553B",
           "#00cc96",
           "#ab63fa",
           "#FFA15A",
           "#19d3f3",
           "#FF6692",
           "#B6E880",
           "#FF97FF",
           "#FECB52"
          ],
          "font": {
           "color": "#2a3f5f"
          },
          "geo": {
           "bgcolor": "white",
           "lakecolor": "white",
           "landcolor": "#E5ECF6",
           "showlakes": true,
           "showland": true,
           "subunitcolor": "white"
          },
          "hoverlabel": {
           "align": "left"
          },
          "hovermode": "closest",
          "mapbox": {
           "style": "light"
          },
          "paper_bgcolor": "white",
          "plot_bgcolor": "#E5ECF6",
          "polar": {
           "angularaxis": {
            "gridcolor": "white",
            "linecolor": "white",
            "ticks": ""
           },
           "bgcolor": "#E5ECF6",
           "radialaxis": {
            "gridcolor": "white",
            "linecolor": "white",
            "ticks": ""
           }
          },
          "scene": {
           "xaxis": {
            "backgroundcolor": "#E5ECF6",
            "gridcolor": "white",
            "gridwidth": 2,
            "linecolor": "white",
            "showbackground": true,
            "ticks": "",
            "zerolinecolor": "white"
           },
           "yaxis": {
            "backgroundcolor": "#E5ECF6",
            "gridcolor": "white",
            "gridwidth": 2,
            "linecolor": "white",
            "showbackground": true,
            "ticks": "",
            "zerolinecolor": "white"
           },
           "zaxis": {
            "backgroundcolor": "#E5ECF6",
            "gridcolor": "white",
            "gridwidth": 2,
            "linecolor": "white",
            "showbackground": true,
            "ticks": "",
            "zerolinecolor": "white"
           }
          },
          "shapedefaults": {
           "line": {
            "color": "#2a3f5f"
           }
          },
          "ternary": {
           "aaxis": {
            "gridcolor": "white",
            "linecolor": "white",
            "ticks": ""
           },
           "baxis": {
            "gridcolor": "white",
            "linecolor": "white",
            "ticks": ""
           },
           "bgcolor": "#E5ECF6",
           "caxis": {
            "gridcolor": "white",
            "linecolor": "white",
            "ticks": ""
           }
          },
          "title": {
           "x": 0.05
          },
          "xaxis": {
           "automargin": true,
           "gridcolor": "white",
           "linecolor": "white",
           "ticks": "",
           "title": {
            "standoff": 15
           },
           "zerolinecolor": "white",
           "zerolinewidth": 2
          },
          "yaxis": {
           "automargin": true,
           "gridcolor": "white",
           "linecolor": "white",
           "ticks": "",
           "title": {
            "standoff": 15
           },
           "zerolinecolor": "white",
           "zerolinewidth": 2
          }
         }
        },
        "xaxis": {
         "dtick": 10,
         "tickmode": "linear"
        },
        "yaxis": {
         "scaleanchor": "x",
         "scaleratio": 1
        }
       }
      }
     },
     "metadata": {},
     "output_type": "display_data"
    }
   ],
   "source": [
    "# fig5: Projected points minus points beyond relative bounds of frame_size\n",
    "dist_ip = 50\n",
    "frame_size = np.array([16,\n",
    "                       16])\n",
    "\n",
    "selection = np.empty(img.shape, dtype=bool)\n",
    "selection[:, 0, :] = (img[:, 0] > (-frame_size[0] / 2)) & (img[:, 0] < (frame_size[0] / 2))\n",
    "selection[:, 1, :] = (img[:, 1] > (-frame_size[1] / 2)) & (img[:, 1] < (frame_size[1] / 2))\n",
    "selection = selection[:, 0, :] & selection[:, 1, :]\n",
    "\n",
    "\n",
    "fig5 = go.Figure()\n",
    "for slice in range(img.shape[0]):\n",
    "  fig5.add_trace(go.Scatter(x=img[slice, 0, selection[slice]],\n",
    "                            y=img[slice, 1, selection[slice]]))\n",
    "fig5.update_yaxes(scaleanchor=\"x\",\n",
    "                  scaleratio=1\n",
    "                  )\n",
    "fig5.update_layout(xaxis=dict(tickmode='linear', dtick=10))\n",
    "fig5.show()\n",
    "\n",
    "\n",
    "\n",
    "\n",
    "\n",
    "\n",
    "\n",
    "# fig6: Slice line segments that have been truncated and had internal points removed have been detected and extracted into their own 'slice'.\n",
    "# This avoids plotly misrepresenting the two segments as one by drawing an inaccurate line between them (skipping over the truncated points).\n",
    "# (slice does not have the same meaning and significance in these 2D plots as in the previous 3D plots – moving points into\n",
    "# ...another slice will have no impact on occlusion detection as theres is no longer a 'y'/depth dimension to deal with).\n",
    "\n",
    "def bound(selection):\n",
    "  selection_ext = np.append(selection,  np.zeros(selection.shape[0], dtype=bool)[:, np.newaxis], axis=1)\n",
    "  diff = np.diff(selection_ext, axis=1)\n",
    "  bounds = selection & diff\n",
    "  return bounds\n",
    "\n",
    "endp = bound(selection)\n",
    "startp = np.flip(bound(np.flip(selection, axis=1)), axis=1)\n",
    "\n",
    "\n",
    "multiSegments = np.sum(endp, axis=1)\n",
    "#print(multiSegments)\n",
    "multiSegments[multiSegments < 2] = 0\n",
    "#print(multiSegments)\n",
    "#print(np.where(np.sum(endp, axis=1) > 1)[0])\n",
    "selection_exp = np.delete(selection, np.where(np.sum(endp, axis=1) > 1)[0], axis=0)\n",
    "img_exp = img\n",
    "linesAdded = np.where(multiSegments > 0, multiSegments - 1, multiSegments)\n",
    "\n",
    "for slice in range(s_ph.shape[2]):\n",
    "#for slice, n in enumerate(np.sum(endp, axis=1)):\n",
    "\n",
    "  startIndex = np.where(startp[slice] == True)\n",
    "  endIndex = np.where(endp[slice] == True)\n",
    "  if np.sum(endp[slice]) > 1:\n",
    "    #print()\n",
    "    #print()\n",
    "    #print(\"[\", slice, \"] (multi)\")\n",
    "    #print(\"      selection: \", selection[slice])\n",
    "    #print(\"      start:     \", startp[slice])\n",
    "    #print(\"      endp:      \", endp[slice])\n",
    "    #print(\"      startIndex: \", startIndex)\n",
    "    #print(\"      endIndex:   \", endIndex)\n",
    "    for j in range(np.sum(endp[slice])):\n",
    "      #print(\"      j: \", j)\n",
    "      #print(\"        bounds:  \", \"      \"*startIndex[0][j], startIndex[0][j], \"  \",\"      \"*(endIndex[0][j]-(startIndex[0][j]+1)), endIndex[0][j])\n",
    "      mask = np.zeros(selection.shape[1], dtype=bool)\n",
    "      mask[np.arange(startIndex[0][j], endIndex[0][j] + 1, 1)] = True\n",
    "      #print(\"        mask:   \", mask)\n",
    "      #print(np.where(multiSegments > 0, multiSegments - 1, multiSegments))\n",
    "      selection_exp = np.insert(selection_exp, slice + j + np.sum(linesAdded[0:slice]), mask, axis=0)\n",
    "    img_exp = np.insert(img_exp, slice + 1 + np.sum(linesAdded[0:slice]), img[slice], axis=0)\n",
    "\n",
    "fig6 = go.Figure()\n",
    "for slice in range(img_exp.shape[0]):\n",
    "  fig6.add_trace(go.Scatter(x=img_exp[slice, 0, selection_exp[slice]],\n",
    "                            y=img_exp[slice, 1, selection_exp[slice]]))\n",
    "\n",
    "\n",
    "fig6.update_yaxes(scaleanchor=\"x\",\n",
    "                  scaleratio=1\n",
    "                  )\n",
    "fig6.update_layout(xaxis=dict(tickmode='linear', dtick=10))\n",
    "fig6.show()"
   ]
  },
  {
   "cell_type": "code",
   "execution_count": 67,
   "metadata": {
    "colab": {
     "base_uri": "https://localhost:8080/"
    },
    "id": "E0AzNLvgeMvO",
    "outputId": "d45d89e0-cca7-4de1-ac1d-baf2d156c272"
   },
   "outputs": [
    {
     "data": {
      "text/plain": [
       "array([ 0,  2,  1,  5,  6,  9, 10])"
      ]
     },
     "execution_count": 67,
     "metadata": {},
     "output_type": "execute_result"
    }
   ],
   "source": [
    "x = np.array([0, 1, 5, 6, 9, 10])\n",
    "np.insert(x, 1, 2)"
   ]
  },
  {
   "cell_type": "code",
   "execution_count": 68,
   "metadata": {
    "colab": {
     "base_uri": "https://localhost:8080/",
     "height": 141
    },
    "id": "JKjvp2_B7VUQ",
    "outputId": "2576420b-6ca8-45ca-d429-34f8088291f4"
   },
   "outputs": [
    {
     "data": {
      "application/vnd.plotly.v1+json": {
       "config": {
        "plotlyServerURL": "https://plot.ly"
       },
       "data": [
        {
         "type": "scatter",
         "x": {
          "bdata": "AAAAAAAAKkBIKCsI1wskQFxPobrtcBpAmCN1yOkMCUAAJlHW79eivyS7MdjlZwTADn1sLl6NEMBuFxD5zYESwGRV/MoOtg/AIFV/gzHFAcAgHXDd72HaP3ai3lDJNQ1Ar2S+xEuUHECBzNrFVAclQOLTmLMLyipA9NwHxXvyLkBmw2XmpYYwQOj1RCQMcDBAHZBTLMdvLkAAAAAAAAAqQA==",
          "dtype": "f8"
         },
         "y": {
          "bdata": "AAAAAAAAKkBIKCsI1wskQFxPobrtcBpAmCN1yOkMCUAAJlHW79eivyS7MdjlZwTADn1sLl6NEMBuFxD5zYESwGRV/MoOtg/AIFV/gzHFAcAgHXDd72HaP3ai3lDJNQ1Ar2S+xEuUHECBzNrFVAclQOLTmLMLyipA9NwHxXvyLkBmw2XmpYYwQOj1RCQMcDBAHZBTLMdvLkAAAAAAAAAqQAAAAAAAACxAXjtjUsqtL0Aw+rI11JwwQLwP9CZaPDBAM83Pz9Z/LUDKPfaJg6EoQBsPOoLJZCJAUjkA3GDtFkCE+GdG4l0CQDA6mIWpo+e/OLyt8CtYCMAw0PtoPXgRwExzFKr1RRLAPGrTfOf9DMBQ5NLTBzD6v+Qma4xs2fI/olIfPcoPEkDD2JMt+wYgQITgvzJYliZAAQAAAAAALEA=",
          "dtype": "f8",
          "shape": "2, 20"
         }
        },
        {
         "type": "scatter",
         "x": [
          13
         ],
         "y": [
          14
         ]
        }
       ],
       "layout": {
        "template": {
         "data": {
          "bar": [
           {
            "error_x": {
             "color": "#2a3f5f"
            },
            "error_y": {
             "color": "#2a3f5f"
            },
            "marker": {
             "line": {
              "color": "#E5ECF6",
              "width": 0.5
             },
             "pattern": {
              "fillmode": "overlay",
              "size": 10,
              "solidity": 0.2
             }
            },
            "type": "bar"
           }
          ],
          "barpolar": [
           {
            "marker": {
             "line": {
              "color": "#E5ECF6",
              "width": 0.5
             },
             "pattern": {
              "fillmode": "overlay",
              "size": 10,
              "solidity": 0.2
             }
            },
            "type": "barpolar"
           }
          ],
          "carpet": [
           {
            "aaxis": {
             "endlinecolor": "#2a3f5f",
             "gridcolor": "white",
             "linecolor": "white",
             "minorgridcolor": "white",
             "startlinecolor": "#2a3f5f"
            },
            "baxis": {
             "endlinecolor": "#2a3f5f",
             "gridcolor": "white",
             "linecolor": "white",
             "minorgridcolor": "white",
             "startlinecolor": "#2a3f5f"
            },
            "type": "carpet"
           }
          ],
          "choropleth": [
           {
            "colorbar": {
             "outlinewidth": 0,
             "ticks": ""
            },
            "type": "choropleth"
           }
          ],
          "contour": [
           {
            "colorbar": {
             "outlinewidth": 0,
             "ticks": ""
            },
            "colorscale": [
             [
              0,
              "#0d0887"
             ],
             [
              0.1111111111111111,
              "#46039f"
             ],
             [
              0.2222222222222222,
              "#7201a8"
             ],
             [
              0.3333333333333333,
              "#9c179e"
             ],
             [
              0.4444444444444444,
              "#bd3786"
             ],
             [
              0.5555555555555556,
              "#d8576b"
             ],
             [
              0.6666666666666666,
              "#ed7953"
             ],
             [
              0.7777777777777778,
              "#fb9f3a"
             ],
             [
              0.8888888888888888,
              "#fdca26"
             ],
             [
              1,
              "#f0f921"
             ]
            ],
            "type": "contour"
           }
          ],
          "contourcarpet": [
           {
            "colorbar": {
             "outlinewidth": 0,
             "ticks": ""
            },
            "type": "contourcarpet"
           }
          ],
          "heatmap": [
           {
            "colorbar": {
             "outlinewidth": 0,
             "ticks": ""
            },
            "colorscale": [
             [
              0,
              "#0d0887"
             ],
             [
              0.1111111111111111,
              "#46039f"
             ],
             [
              0.2222222222222222,
              "#7201a8"
             ],
             [
              0.3333333333333333,
              "#9c179e"
             ],
             [
              0.4444444444444444,
              "#bd3786"
             ],
             [
              0.5555555555555556,
              "#d8576b"
             ],
             [
              0.6666666666666666,
              "#ed7953"
             ],
             [
              0.7777777777777778,
              "#fb9f3a"
             ],
             [
              0.8888888888888888,
              "#fdca26"
             ],
             [
              1,
              "#f0f921"
             ]
            ],
            "type": "heatmap"
           }
          ],
          "histogram": [
           {
            "marker": {
             "pattern": {
              "fillmode": "overlay",
              "size": 10,
              "solidity": 0.2
             }
            },
            "type": "histogram"
           }
          ],
          "histogram2d": [
           {
            "colorbar": {
             "outlinewidth": 0,
             "ticks": ""
            },
            "colorscale": [
             [
              0,
              "#0d0887"
             ],
             [
              0.1111111111111111,
              "#46039f"
             ],
             [
              0.2222222222222222,
              "#7201a8"
             ],
             [
              0.3333333333333333,
              "#9c179e"
             ],
             [
              0.4444444444444444,
              "#bd3786"
             ],
             [
              0.5555555555555556,
              "#d8576b"
             ],
             [
              0.6666666666666666,
              "#ed7953"
             ],
             [
              0.7777777777777778,
              "#fb9f3a"
             ],
             [
              0.8888888888888888,
              "#fdca26"
             ],
             [
              1,
              "#f0f921"
             ]
            ],
            "type": "histogram2d"
           }
          ],
          "histogram2dcontour": [
           {
            "colorbar": {
             "outlinewidth": 0,
             "ticks": ""
            },
            "colorscale": [
             [
              0,
              "#0d0887"
             ],
             [
              0.1111111111111111,
              "#46039f"
             ],
             [
              0.2222222222222222,
              "#7201a8"
             ],
             [
              0.3333333333333333,
              "#9c179e"
             ],
             [
              0.4444444444444444,
              "#bd3786"
             ],
             [
              0.5555555555555556,
              "#d8576b"
             ],
             [
              0.6666666666666666,
              "#ed7953"
             ],
             [
              0.7777777777777778,
              "#fb9f3a"
             ],
             [
              0.8888888888888888,
              "#fdca26"
             ],
             [
              1,
              "#f0f921"
             ]
            ],
            "type": "histogram2dcontour"
           }
          ],
          "mesh3d": [
           {
            "colorbar": {
             "outlinewidth": 0,
             "ticks": ""
            },
            "type": "mesh3d"
           }
          ],
          "parcoords": [
           {
            "line": {
             "colorbar": {
              "outlinewidth": 0,
              "ticks": ""
             }
            },
            "type": "parcoords"
           }
          ],
          "pie": [
           {
            "automargin": true,
            "type": "pie"
           }
          ],
          "scatter": [
           {
            "fillpattern": {
             "fillmode": "overlay",
             "size": 10,
             "solidity": 0.2
            },
            "type": "scatter"
           }
          ],
          "scatter3d": [
           {
            "line": {
             "colorbar": {
              "outlinewidth": 0,
              "ticks": ""
             }
            },
            "marker": {
             "colorbar": {
              "outlinewidth": 0,
              "ticks": ""
             }
            },
            "type": "scatter3d"
           }
          ],
          "scattercarpet": [
           {
            "marker": {
             "colorbar": {
              "outlinewidth": 0,
              "ticks": ""
             }
            },
            "type": "scattercarpet"
           }
          ],
          "scattergeo": [
           {
            "marker": {
             "colorbar": {
              "outlinewidth": 0,
              "ticks": ""
             }
            },
            "type": "scattergeo"
           }
          ],
          "scattergl": [
           {
            "marker": {
             "colorbar": {
              "outlinewidth": 0,
              "ticks": ""
             }
            },
            "type": "scattergl"
           }
          ],
          "scattermap": [
           {
            "marker": {
             "colorbar": {
              "outlinewidth": 0,
              "ticks": ""
             }
            },
            "type": "scattermap"
           }
          ],
          "scattermapbox": [
           {
            "marker": {
             "colorbar": {
              "outlinewidth": 0,
              "ticks": ""
             }
            },
            "type": "scattermapbox"
           }
          ],
          "scatterpolar": [
           {
            "marker": {
             "colorbar": {
              "outlinewidth": 0,
              "ticks": ""
             }
            },
            "type": "scatterpolar"
           }
          ],
          "scatterpolargl": [
           {
            "marker": {
             "colorbar": {
              "outlinewidth": 0,
              "ticks": ""
             }
            },
            "type": "scatterpolargl"
           }
          ],
          "scatterternary": [
           {
            "marker": {
             "colorbar": {
              "outlinewidth": 0,
              "ticks": ""
             }
            },
            "type": "scatterternary"
           }
          ],
          "surface": [
           {
            "colorbar": {
             "outlinewidth": 0,
             "ticks": ""
            },
            "colorscale": [
             [
              0,
              "#0d0887"
             ],
             [
              0.1111111111111111,
              "#46039f"
             ],
             [
              0.2222222222222222,
              "#7201a8"
             ],
             [
              0.3333333333333333,
              "#9c179e"
             ],
             [
              0.4444444444444444,
              "#bd3786"
             ],
             [
              0.5555555555555556,
              "#d8576b"
             ],
             [
              0.6666666666666666,
              "#ed7953"
             ],
             [
              0.7777777777777778,
              "#fb9f3a"
             ],
             [
              0.8888888888888888,
              "#fdca26"
             ],
             [
              1,
              "#f0f921"
             ]
            ],
            "type": "surface"
           }
          ],
          "table": [
           {
            "cells": {
             "fill": {
              "color": "#EBF0F8"
             },
             "line": {
              "color": "white"
             }
            },
            "header": {
             "fill": {
              "color": "#C8D4E3"
             },
             "line": {
              "color": "white"
             }
            },
            "type": "table"
           }
          ]
         },
         "layout": {
          "annotationdefaults": {
           "arrowcolor": "#2a3f5f",
           "arrowhead": 0,
           "arrowwidth": 1
          },
          "autotypenumbers": "strict",
          "coloraxis": {
           "colorbar": {
            "outlinewidth": 0,
            "ticks": ""
           }
          },
          "colorscale": {
           "diverging": [
            [
             0,
             "#8e0152"
            ],
            [
             0.1,
             "#c51b7d"
            ],
            [
             0.2,
             "#de77ae"
            ],
            [
             0.3,
             "#f1b6da"
            ],
            [
             0.4,
             "#fde0ef"
            ],
            [
             0.5,
             "#f7f7f7"
            ],
            [
             0.6,
             "#e6f5d0"
            ],
            [
             0.7,
             "#b8e186"
            ],
            [
             0.8,
             "#7fbc41"
            ],
            [
             0.9,
             "#4d9221"
            ],
            [
             1,
             "#276419"
            ]
           ],
           "sequential": [
            [
             0,
             "#0d0887"
            ],
            [
             0.1111111111111111,
             "#46039f"
            ],
            [
             0.2222222222222222,
             "#7201a8"
            ],
            [
             0.3333333333333333,
             "#9c179e"
            ],
            [
             0.4444444444444444,
             "#bd3786"
            ],
            [
             0.5555555555555556,
             "#d8576b"
            ],
            [
             0.6666666666666666,
             "#ed7953"
            ],
            [
             0.7777777777777778,
             "#fb9f3a"
            ],
            [
             0.8888888888888888,
             "#fdca26"
            ],
            [
             1,
             "#f0f921"
            ]
           ],
           "sequentialminus": [
            [
             0,
             "#0d0887"
            ],
            [
             0.1111111111111111,
             "#46039f"
            ],
            [
             0.2222222222222222,
             "#7201a8"
            ],
            [
             0.3333333333333333,
             "#9c179e"
            ],
            [
             0.4444444444444444,
             "#bd3786"
            ],
            [
             0.5555555555555556,
             "#d8576b"
            ],
            [
             0.6666666666666666,
             "#ed7953"
            ],
            [
             0.7777777777777778,
             "#fb9f3a"
            ],
            [
             0.8888888888888888,
             "#fdca26"
            ],
            [
             1,
             "#f0f921"
            ]
           ]
          },
          "colorway": [
           "#636efa",
           "#EF553B",
           "#00cc96",
           "#ab63fa",
           "#FFA15A",
           "#19d3f3",
           "#FF6692",
           "#B6E880",
           "#FF97FF",
           "#FECB52"
          ],
          "font": {
           "color": "#2a3f5f"
          },
          "geo": {
           "bgcolor": "white",
           "lakecolor": "white",
           "landcolor": "#E5ECF6",
           "showlakes": true,
           "showland": true,
           "subunitcolor": "white"
          },
          "hoverlabel": {
           "align": "left"
          },
          "hovermode": "closest",
          "mapbox": {
           "style": "light"
          },
          "paper_bgcolor": "white",
          "plot_bgcolor": "#E5ECF6",
          "polar": {
           "angularaxis": {
            "gridcolor": "white",
            "linecolor": "white",
            "ticks": ""
           },
           "bgcolor": "#E5ECF6",
           "radialaxis": {
            "gridcolor": "white",
            "linecolor": "white",
            "ticks": ""
           }
          },
          "scene": {
           "xaxis": {
            "backgroundcolor": "#E5ECF6",
            "gridcolor": "white",
            "gridwidth": 2,
            "linecolor": "white",
            "showbackground": true,
            "ticks": "",
            "zerolinecolor": "white"
           },
           "yaxis": {
            "backgroundcolor": "#E5ECF6",
            "gridcolor": "white",
            "gridwidth": 2,
            "linecolor": "white",
            "showbackground": true,
            "ticks": "",
            "zerolinecolor": "white"
           },
           "zaxis": {
            "backgroundcolor": "#E5ECF6",
            "gridcolor": "white",
            "gridwidth": 2,
            "linecolor": "white",
            "showbackground": true,
            "ticks": "",
            "zerolinecolor": "white"
           }
          },
          "shapedefaults": {
           "line": {
            "color": "#2a3f5f"
           }
          },
          "ternary": {
           "aaxis": {
            "gridcolor": "white",
            "linecolor": "white",
            "ticks": ""
           },
           "baxis": {
            "gridcolor": "white",
            "linecolor": "white",
            "ticks": ""
           },
           "bgcolor": "#E5ECF6",
           "caxis": {
            "gridcolor": "white",
            "linecolor": "white",
            "ticks": ""
           }
          },
          "title": {
           "x": 0.05
          },
          "xaxis": {
           "automargin": true,
           "gridcolor": "white",
           "linecolor": "white",
           "ticks": "",
           "title": {
            "standoff": 15
           },
           "zerolinecolor": "white",
           "zerolinewidth": 2
          },
          "yaxis": {
           "automargin": true,
           "gridcolor": "white",
           "linecolor": "white",
           "ticks": "",
           "title": {
            "standoff": 15
           },
           "zerolinecolor": "white",
           "zerolinewidth": 2
          }
         }
        }
       }
      }
     },
     "metadata": {},
     "output_type": "display_data"
    }
   ],
   "source": [
    "ampl = (ph[0] - ph_v[0]) / np.cos(np.arctan((ph[1] - ph_v[1]) / (ph[0] - ph_v[0])))\n",
    "theta_vp = np.arccos((ph[0] - ph_v[0]) / ampl)\n",
    "angles = np.linspace(0 + theta_vp, (2 * np.pi) + theta_vp, 20)\n",
    "ph_orbit = np.zeros((2, angles.shape[0]))\n",
    "ph_orbit[0] = (ampl * np.cos(angles)) + ph_v[0]\n",
    "ph_orbit[1] = (ampl * np.sin(angles)) + ph_v[1]\n",
    "\n",
    "fig5 = go.Figure(data=go.Scatter(x=ph_orbit[0],\n",
    "                                 y=ph_orbit))\n",
    "fig5.add_trace(go.Scatter(x=[13],\n",
    "                          y=[14]))\n",
    "fig5.show()\n"
   ]
  }
 ],
 "metadata": {
  "colab": {
   "provenance": []
  },
  "kernelspec": {
   "display_name": "terrapro",
   "language": "python",
   "name": "python3"
  },
  "language_info": {
   "codemirror_mode": {
    "name": "ipython",
    "version": 3
   },
   "file_extension": ".py",
   "mimetype": "text/x-python",
   "name": "python",
   "nbconvert_exporter": "python",
   "pygments_lexer": "ipython3",
   "version": "3.13.2"
  }
 },
 "nbformat": 4,
 "nbformat_minor": 0
}
